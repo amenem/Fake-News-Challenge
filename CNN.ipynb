{
  "nbformat": 4,
  "nbformat_minor": 0,
  "metadata": {
    "colab": {
      "name": "CNN.ipynb",
      "provenance": [],
      "mount_file_id": "1adiKLhaHHI_iDz5085GgEAGZuoXyqM7i",
      "authorship_tag": "ABX9TyM/SFLGHt4l0dltAuz0uQE7",
      "include_colab_link": true
    },
    "kernelspec": {
      "name": "python3",
      "display_name": "Python 3"
    },
    "accelerator": "GPU"
  },
  "cells": [
    {
      "cell_type": "markdown",
      "metadata": {
        "id": "view-in-github",
        "colab_type": "text"
      },
      "source": [
        "<a href=\"https://colab.research.google.com/github/amenem/test/blob/master/CNN.ipynb\" target=\"_parent\"><img src=\"https://colab.research.google.com/assets/colab-badge.svg\" alt=\"Open In Colab\"/></a>"
      ]
    },
    {
      "cell_type": "markdown",
      "metadata": {
        "id": "DECU8wnz_Kz4",
        "colab_type": "text"
      },
      "source": [
        "**Prepare Colab**"
      ]
    },
    {
      "cell_type": "code",
      "metadata": {
        "id": "-SDIVElCj9Qx",
        "colab_type": "code",
        "colab": {}
      },
      "source": [
        "! pip install -q kaggle"
      ],
      "execution_count": null,
      "outputs": []
    },
    {
      "cell_type": "code",
      "metadata": {
        "id": "rjFaYaaKkFM3",
        "colab_type": "code",
        "colab": {}
      },
      "source": [
        "from google.colab import drive\n",
        "drive.mount('/content/drive')"
      ],
      "execution_count": null,
      "outputs": []
    },
    {
      "cell_type": "code",
      "metadata": {
        "id": "GBEv4C5kkITy",
        "colab_type": "code",
        "colab": {}
      },
      "source": [
        "import os\n",
        "os.chdir('/content/drive/My Drive/GoodProject')"
      ],
      "execution_count": 4,
      "outputs": []
    },
    {
      "cell_type": "code",
      "metadata": {
        "id": "suZ3rBCs1t-1",
        "colab_type": "code",
        "colab": {}
      },
      "source": [
        "from google.colab import files\n",
        "import warnings  \n",
        "warnings.filterwarnings('ignore')    "
      ],
      "execution_count": null,
      "outputs": []
    },
    {
      "cell_type": "code",
      "metadata": {
        "id": "fNBa89v3krpX",
        "colab_type": "code",
        "colab": {
          "resources": {
            "http://localhost:8080/nbextensions/google.colab/files.js": {
              "data": "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",
              "ok": true,
              "headers": [
                [
                  "content-type",
                  "application/javascript"
                ]
              ],
              "status": 200,
              "status_text": "OK"
            }
          },
          "base_uri": "https://localhost:8080/",
          "height": 91
        },
        "outputId": "80b38389-6a27-44a7-ece6-d2976c44e911"
      },
      "source": [
        "files.upload()"
      ],
      "execution_count": null,
      "outputs": [
        {
          "output_type": "display_data",
          "data": {
            "text/html": [
              "\n",
              "     <input type=\"file\" id=\"files-d84bc063-8616-47d5-8ddd-5f04e358aec2\" name=\"files[]\" multiple disabled\n",
              "        style=\"border:none\" />\n",
              "     <output id=\"result-d84bc063-8616-47d5-8ddd-5f04e358aec2\">\n",
              "      Upload widget is only available when the cell has been executed in the\n",
              "      current browser session. Please rerun this cell to enable.\n",
              "      </output>\n",
              "      <script src=\"/nbextensions/google.colab/files.js\"></script> "
            ],
            "text/plain": [
              "<IPython.core.display.HTML object>"
            ]
          },
          "metadata": {
            "tags": []
          }
        },
        {
          "output_type": "stream",
          "text": [
            "Saving kaggle.json to kaggle.json\n"
          ],
          "name": "stdout"
        },
        {
          "output_type": "execute_result",
          "data": {
            "text/plain": [
              "{'kaggle.json': b'{\"username\":\"amenem\",\"key\":\"f0913597f85de0138806c77add36fa0f\"}'}"
            ]
          },
          "metadata": {
            "tags": []
          },
          "execution_count": 7
        }
      ]
    },
    {
      "cell_type": "code",
      "metadata": {
        "id": "cLfldDbskeh2",
        "colab_type": "code",
        "colab": {
          "base_uri": "https://localhost:8080/",
          "height": 35
        },
        "outputId": "f19d6e14-b39e-49e8-f59e-10d2978ae055"
      },
      "source": [
        "! mkdir ~/.kaggle\n",
        "! cp kaggle.json ~/.kaggle/"
      ],
      "execution_count": null,
      "outputs": [
        {
          "output_type": "stream",
          "text": [
            "mkdir: cannot create directory ‘/root/.kaggle’: File exists\n"
          ],
          "name": "stdout"
        }
      ]
    },
    {
      "cell_type": "code",
      "metadata": {
        "id": "GH_-NCKmkvRP",
        "colab_type": "code",
        "colab": {}
      },
      "source": [
        "! chmod 600 ~/.kaggle/kaggle.json"
      ],
      "execution_count": null,
      "outputs": []
    },
    {
      "cell_type": "code",
      "metadata": {
        "id": "wpoRTQInk4aB",
        "colab_type": "code",
        "colab": {
          "base_uri": "https://localhost:8080/",
          "height": 211
        },
        "outputId": "b8425195-c42e-4cae-812b-3f85e94bd713"
      },
      "source": [
        "! kaggle competitions download -c fake-news"
      ],
      "execution_count": null,
      "outputs": [
        {
          "output_type": "stream",
          "text": [
            "Warning: Looks like you're using an outdated API Version, please consider updating (server 1.5.6 / client 1.5.4)\n",
            "Downloading submit.csv to /content/drive/My Drive/GoodProject\n",
            "\r  0% 0.00/40.6k [00:00<?, ?B/s]\n",
            "100% 40.6k/40.6k [00:00<00:00, 5.63MB/s]\n",
            "Downloading test.csv.zip to /content/drive/My Drive/GoodProject\n",
            " 53% 5.00M/9.42M [00:00<00:00, 37.8MB/s]\n",
            "100% 9.42M/9.42M [00:00<00:00, 46.0MB/s]\n",
            "Downloading train.csv.zip to /content/drive/My Drive/GoodProject\n",
            " 97% 36.0M/37.0M [00:01<00:00, 21.0MB/s]\n",
            "100% 37.0M/37.0M [00:01<00:00, 19.7MB/s]\n"
          ],
          "name": "stdout"
        }
      ]
    },
    {
      "cell_type": "code",
      "metadata": {
        "id": "qNrJWHNzlJOQ",
        "colab_type": "code",
        "colab": {
          "base_uri": "https://localhost:8080/",
          "height": 87
        },
        "outputId": "254af9c0-93a4-4f14-c2bc-ce6eec8b1eeb"
      },
      "source": [
        "! unzip ./train.csv.zip -d ./\n",
        "! unzip ./test.csv.zip -d ./"
      ],
      "execution_count": null,
      "outputs": [
        {
          "output_type": "stream",
          "text": [
            "Archive:  ./train.csv.zip\n",
            "  inflating: ./train.csv             \n",
            "Archive:  ./test.csv.zip\n",
            "  inflating: ./test.csv              \n"
          ],
          "name": "stdout"
        }
      ]
    },
    {
      "cell_type": "markdown",
      "metadata": {
        "id": "IYccb2MT_XnP",
        "colab_type": "text"
      },
      "source": [
        "Import Relevant Libraries"
      ]
    },
    {
      "cell_type": "code",
      "metadata": {
        "id": "VAYuqE57l03U",
        "colab_type": "code",
        "colab": {}
      },
      "source": [
        "import pandas as pd\n",
        "import numpy as np\n",
        "import keras\n",
        "from keras.preprocessing.text import one_hot, Tokenizer\n",
        "from keras.preprocessing.sequence import pad_sequences\n",
        "from keras.layers import *\n",
        "from keras.layers.embeddings import Embedding\n",
        "from keras.models import Sequential\n",
        "from keras.callbacks import Callback, ModelCheckpoint\n",
        "from sklearn.model_selection import train_test_split\n",
        "import tensorflow as tf"
      ],
      "execution_count": 5,
      "outputs": []
    },
    {
      "cell_type": "code",
      "metadata": {
        "id": "u9uwEe3gl9O1",
        "colab_type": "code",
        "colab": {}
      },
      "source": [
        "df_train = pd.read_csv('./train.csv')\n",
        "df_train = df_train.dropna(subset=['text'])\n",
        "df_train = df_train.fillna(' ')\n"
      ],
      "execution_count": 6,
      "outputs": []
    },
    {
      "cell_type": "markdown",
      "metadata": {
        "id": "eRVoSrfoS_V9",
        "colab_type": "text"
      },
      "source": [
        "I am not considering Author information, assuming title and text should provide enough information for the model.\n",
        "Its also not very helpful to treat authors as regular text, So pretrained word embedding woldnt work.\n",
        "If it is required, we can randomly initialize and fine tune author embedding vector while training the model. \n",
        "For now keeping it simple."
      ]
    },
    {
      "cell_type": "code",
      "metadata": {
        "id": "fJ9jM0UpS7sb",
        "colab_type": "code",
        "colab": {}
      },
      "source": [
        "df_train['title+text']=df_train['title']+' '+df_train['text']\n",
        "X=df_train['title+text'].values\n",
        "X=[text.lower() for text in X]\n",
        "y = df_train['label']\n"
      ],
      "execution_count": 7,
      "outputs": []
    },
    {
      "cell_type": "code",
      "metadata": {
        "id": "aEOr1fWMS-J0",
        "colab_type": "code",
        "colab": {}
      },
      "source": [
        "max_num_words = 20000\n",
        "tokenizer = Tokenizer(max_num_words, oov_token='<OOV>')\n",
        "tokenizer.fit_on_texts(X)\n",
        "word_index = tokenizer.word_index"
      ],
      "execution_count": 8,
      "outputs": []
    },
    {
      "cell_type": "code",
      "metadata": {
        "id": "aV-hLwXiRD0w",
        "colab_type": "code",
        "colab": {}
      },
      "source": [
        "len_sent_list=[]\n",
        "for text in X:\n",
        "  len_sent = len(text.split())\n",
        "  len_sent_list.append(len_sent)"
      ],
      "execution_count": 9,
      "outputs": []
    },
    {
      "cell_type": "code",
      "metadata": {
        "id": "j1I-v5lyR4iC",
        "colab_type": "code",
        "colab": {
          "base_uri": "https://localhost:8080/",
          "height": 369
        },
        "outputId": "940091aa-b4f2-41fe-cd70-e2f03260ce3d"
      },
      "source": [
        "import seaborn as sb\n",
        "import matplotlib.pyplot as plt\n",
        "\n",
        "print (\"Average Text length: \"+str(np.average(len_sent_list)))\n",
        "sb.distplot(len_sent_list)\n",
        "plt.xlabel('Text length distribution')"
      ],
      "execution_count": 10,
      "outputs": [
        {
          "output_type": "stream",
          "text": [
            "Average Text length: 772.3865902413179\n"
          ],
          "name": "stdout"
        },
        {
          "output_type": "stream",
          "text": [
            "/usr/local/lib/python3.6/dist-packages/statsmodels/tools/_testing.py:19: FutureWarning: pandas.util.testing is deprecated. Use the functions in the public API at pandas.testing instead.\n",
            "  import pandas.util.testing as tm\n"
          ],
          "name": "stderr"
        },
        {
          "output_type": "execute_result",
          "data": {
            "text/plain": [
              "Text(0.5, 0, 'Text length distribution')"
            ]
          },
          "metadata": {
            "tags": []
          },
          "execution_count": 10
        },
        {
          "output_type": "display_data",
          "data": {
            "image/png": "[encoded data removed]",
            "text/plain": [
              "<Figure size 432x288 with 1 Axes>"
            ]
          },
          "metadata": {
            "tags": [],
            "needs_background": "light"
          }
        }
      ]
    },
    {
      "cell_type": "markdown",
      "metadata": {
        "id": "Va-4IItEc3FI",
        "colab_type": "text"
      },
      "source": [
        "The more the words in the text the better the understanding of the context. Setting Maximum text length to 1000 word, which can be well handled by CNN. In Constrast, RNN might suffer with vanishing gradient for long sequences.Even for LSTM reasonable limit would be 250-500 time steps. "
      ]
    },
    {
      "cell_type": "code",
      "metadata": {
        "id": "uyBZlH9YpijD",
        "colab_type": "code",
        "colab": {}
      },
      "source": [
        "#get padded sequence of input\n",
        "MAXLEN=1000\n",
        "sequences = tokenizer.texts_to_sequences(X)\n",
        "padded = pad_sequences(sequences, maxlen=MAXLEN, padding='post',truncating='post')"
      ],
      "execution_count": 16,
      "outputs": []
    },
    {
      "cell_type": "code",
      "metadata": {
        "id": "7s3E-zljmJq2",
        "colab_type": "code",
        "colab": {}
      },
      "source": [
        "# !wget http://nlp.stanford.edu/data/glove.6B.zip\n",
        "# !unzip glove*.zip"
      ],
      "execution_count": 30,
      "outputs": []
    },
    {
      "cell_type": "markdown",
      "metadata": {
        "id": "_JLIcebHjdAX",
        "colab_type": "text"
      },
      "source": [
        "Using Glove pretrained word embedding. It combines benefits of word2vec skip-gram model  in the word analogy tasks, with matrix factorization methods exploiting global statistical information. "
      ]
    },
    {
      "cell_type": "code",
      "metadata": {
        "id": "101ygeyrmWt0",
        "colab_type": "code",
        "colab": {
          "base_uri": "https://localhost:8080/",
          "height": 52
        },
        "outputId": "d0dc9152-f777-4ee0-f15e-73c6c5a78f62"
      },
      "source": [
        "#load glove pretrained word embeddings with dimension 100\n",
        "glove_file = 'glove.6B.100d.txt'\n",
        "\n",
        "print('Indexing word vectors...')\n",
        "embeddings_index = {}\n",
        "f = open(glove_file, encoding='utf-8')\n",
        "for line in f:\n",
        "    values = line.split()\n",
        "    word = values[0]\n",
        "    coefs = np.asarray(values[1:], dtype='float32')\n",
        "    embeddings_index[word] = coefs\n",
        "f.close()\n",
        "print('Found %s word vectors.' % len(embeddings_index))"
      ],
      "execution_count": 11,
      "outputs": [
        {
          "output_type": "stream",
          "text": [
            "Indexing word vectors...\n",
            "Found 400000 word vectors.\n"
          ],
          "name": "stdout"
        }
      ]
    },
    {
      "cell_type": "markdown",
      "metadata": {
        "id": "FAswdJU0lW2u",
        "colab_type": "text"
      },
      "source": [
        "Keeping 30% of data as test."
      ]
    },
    {
      "cell_type": "code",
      "metadata": {
        "id": "vBODoVKxmZw9",
        "colab_type": "code",
        "colab": {}
      },
      "source": [
        "X_train, X_val, y_train, y_val = train_test_split(padded,y,test_size=.3, random_state=23)"
      ],
      "execution_count": 17,
      "outputs": []
    },
    {
      "cell_type": "code",
      "metadata": {
        "id": "D_Ww4TaxmiNb",
        "colab_type": "code",
        "colab": {}
      },
      "source": [
        "#build embedding matrix\n",
        "EMBED_DIM=100\n",
        "embedding_matrix=np.zeros((len(word_index)+1, EMBED_DIM))\n",
        "for word,idx in word_index.items():\n",
        "  embedding_vector=embeddings_index.get(word)\n",
        "  if embedding_vector is not None:\n",
        "    embedding_matrix[idx]=embedding_vector"
      ],
      "execution_count": 18,
      "outputs": []
    },
    {
      "cell_type": "code",
      "metadata": {
        "id": "xzV5u_6V41Um",
        "colab_type": "code",
        "colab": {}
      },
      "source": [
        ""
      ],
      "execution_count": null,
      "outputs": []
    },
    {
      "cell_type": "code",
      "metadata": {
        "id": "CU2PHULkypnO",
        "colab_type": "code",
        "colab": {}
      },
      "source": [
        "embedding_layer = Embedding(len(word_index)+1, EMBED_DIM, input_length=MAXLEN, \n",
        "                            weights=[embedding_matrix],\n",
        "                            trainable=False)\n",
        "model=Sequential()\n",
        "model.add(embedding_layer) \n",
        "model.add(Conv1D(32,3,activation='relu'))\n",
        "model.add(MaxPool1D(3))\n",
        "model.add(Conv1D(32,3,activation='relu'))\n",
        "model.add(MaxPool1D(3))\n",
        "model.add(Conv1D(32,3,activation='relu'))\n",
        "model.add(Flatten())\n",
        "model.add(Dense(32, activation='relu'))\n",
        "model.add(Dense(1,activation='sigmoid'))"
      ],
      "execution_count": 63,
      "outputs": []
    },
    {
      "cell_type": "code",
      "metadata": {
        "id": "3h6nih5jwxDy",
        "colab_type": "code",
        "colab": {
          "base_uri": "https://localhost:8080/",
          "height": 468
        },
        "outputId": "bd8b9075-d3df-4893-8ce1-eadfd70da4c8"
      },
      "source": [
        "model.summary()"
      ],
      "execution_count": 64,
      "outputs": [
        {
          "output_type": "stream",
          "text": [
            "Model: \"sequential_5\"\n",
            "_________________________________________________________________\n",
            "Layer (type)                 Output Shape              Param #   \n",
            "=================================================================\n",
            "embedding_7 (Embedding)      (None, 500, 100)          24150100  \n",
            "_________________________________________________________________\n",
            "conv1d_15 (Conv1D)           (None, 498, 32)           9632      \n",
            "_________________________________________________________________\n",
            "max_pooling1d_10 (MaxPooling (None, 166, 32)           0         \n",
            "_________________________________________________________________\n",
            "conv1d_16 (Conv1D)           (None, 164, 32)           3104      \n",
            "_________________________________________________________________\n",
            "max_pooling1d_11 (MaxPooling (None, 54, 32)            0         \n",
            "_________________________________________________________________\n",
            "conv1d_17 (Conv1D)           (None, 52, 32)            3104      \n",
            "_________________________________________________________________\n",
            "flatten_5 (Flatten)          (None, 1664)              0         \n",
            "_________________________________________________________________\n",
            "dense_10 (Dense)             (None, 32)                53280     \n",
            "_________________________________________________________________\n",
            "dense_11 (Dense)             (None, 1)                 33        \n",
            "=================================================================\n",
            "Total params: 24,219,253\n",
            "Trainable params: 69,153\n",
            "Non-trainable params: 24,150,100\n",
            "_________________________________________________________________\n"
          ],
          "name": "stdout"
        }
      ]
    },
    {
      "cell_type": "code",
      "metadata": {
        "id": "0CBogJb2yyuC",
        "colab_type": "code",
        "colab": {}
      },
      "source": [
        "model.compile(optimizer='adam',loss='binary_crossentropy',metrics=['accuracy'])"
      ],
      "execution_count": 65,
      "outputs": []
    },
    {
      "cell_type": "code",
      "metadata": {
        "id": "IEuOhYA3zAhp",
        "colab_type": "code",
        "colab": {
          "base_uri": "https://localhost:8080/",
          "height": 1000
        },
        "outputId": "cf2c7528-e0e1-448f-f740-bf148d64457e"
      },
      "source": [
        "checkpoint = ModelCheckpoint('best_model.h5', verbose=0, monitor='val_loss',save_best_only=True, mode='auto') \n",
        "\n",
        "history=model.fit(X_train,y_train,epochs=40,validation_data=(X_val,y_val),batch_size=128,callbacks=[checkpoint])"
      ],
      "execution_count": 66,
      "outputs": [
        {
          "output_type": "stream",
          "text": [
            "Epoch 1/40\n",
            "114/114 [==============================] - 7s 58ms/step - loss: 0.5129 - accuracy: 0.7291 - val_loss: 0.3135 - val_accuracy: 0.8672\n",
            "Epoch 2/40\n",
            "114/114 [==============================] - 3s 29ms/step - loss: 0.1713 - accuracy: 0.9321 - val_loss: 0.1162 - val_accuracy: 0.9546\n",
            "Epoch 3/40\n",
            "114/114 [==============================] - 3s 29ms/step - loss: 0.0848 - accuracy: 0.9688 - val_loss: 0.0861 - val_accuracy: 0.9671\n",
            "Epoch 4/40\n",
            "114/114 [==============================] - 3s 29ms/step - loss: 0.0537 - accuracy: 0.9790 - val_loss: 0.0785 - val_accuracy: 0.9703\n",
            "Epoch 5/40\n",
            "114/114 [==============================] - 3s 25ms/step - loss: 0.0353 - accuracy: 0.9880 - val_loss: 0.0823 - val_accuracy: 0.9672\n",
            "Epoch 6/40\n",
            "114/114 [==============================] - 3s 25ms/step - loss: 0.0202 - accuracy: 0.9935 - val_loss: 0.1297 - val_accuracy: 0.9539\n",
            "Epoch 7/40\n",
            "114/114 [==============================] - 3s 25ms/step - loss: 0.0198 - accuracy: 0.9937 - val_loss: 0.0876 - val_accuracy: 0.9716\n",
            "Epoch 8/40\n",
            "114/114 [==============================] - 3s 26ms/step - loss: 0.0089 - accuracy: 0.9975 - val_loss: 0.0829 - val_accuracy: 0.9740\n",
            "Epoch 9/40\n",
            "114/114 [==============================] - 3s 25ms/step - loss: 0.0032 - accuracy: 0.9997 - val_loss: 0.1021 - val_accuracy: 0.9689\n",
            "Epoch 10/40\n",
            "114/114 [==============================] - 3s 25ms/step - loss: 0.0021 - accuracy: 0.9999 - val_loss: 0.1001 - val_accuracy: 0.9727\n",
            "Epoch 11/40\n",
            "114/114 [==============================] - 3s 25ms/step - loss: 9.3172e-04 - accuracy: 1.0000 - val_loss: 0.1003 - val_accuracy: 0.9730\n",
            "Epoch 12/40\n",
            "114/114 [==============================] - 3s 26ms/step - loss: 5.4816e-04 - accuracy: 1.0000 - val_loss: 0.1036 - val_accuracy: 0.9737\n",
            "Epoch 13/40\n",
            "114/114 [==============================] - 3s 26ms/step - loss: 3.8221e-04 - accuracy: 1.0000 - val_loss: 0.1087 - val_accuracy: 0.9734\n",
            "Epoch 14/40\n",
            "114/114 [==============================] - 3s 27ms/step - loss: 2.5599e-04 - accuracy: 1.0000 - val_loss: 0.1109 - val_accuracy: 0.9732\n",
            "Epoch 15/40\n",
            "114/114 [==============================] - 3s 27ms/step - loss: 2.1464e-04 - accuracy: 1.0000 - val_loss: 0.1200 - val_accuracy: 0.9734\n",
            "Epoch 16/40\n",
            "114/114 [==============================] - 3s 27ms/step - loss: 1.6521e-04 - accuracy: 1.0000 - val_loss: 0.1164 - val_accuracy: 0.9738\n",
            "Epoch 17/40\n",
            "114/114 [==============================] - 3s 26ms/step - loss: 1.4170e-04 - accuracy: 1.0000 - val_loss: 0.1175 - val_accuracy: 0.9734\n",
            "Epoch 18/40\n",
            "114/114 [==============================] - 3s 25ms/step - loss: 1.1949e-04 - accuracy: 1.0000 - val_loss: 0.1212 - val_accuracy: 0.9735\n",
            "Epoch 19/40\n",
            "114/114 [==============================] - 3s 26ms/step - loss: 9.7262e-05 - accuracy: 1.0000 - val_loss: 0.1242 - val_accuracy: 0.9735\n",
            "Epoch 20/40\n",
            "114/114 [==============================] - 3s 25ms/step - loss: 8.4400e-05 - accuracy: 1.0000 - val_loss: 0.1250 - val_accuracy: 0.9735\n",
            "Epoch 21/40\n",
            "114/114 [==============================] - 3s 26ms/step - loss: 7.2266e-05 - accuracy: 1.0000 - val_loss: 0.1278 - val_accuracy: 0.9732\n",
            "Epoch 22/40\n",
            "114/114 [==============================] - 3s 26ms/step - loss: 6.4675e-05 - accuracy: 1.0000 - val_loss: 0.1278 - val_accuracy: 0.9737\n",
            "Epoch 23/40\n",
            "114/114 [==============================] - 3s 25ms/step - loss: 5.7544e-05 - accuracy: 1.0000 - val_loss: 0.1302 - val_accuracy: 0.9734\n",
            "Epoch 24/40\n",
            "114/114 [==============================] - 3s 25ms/step - loss: 5.0779e-05 - accuracy: 1.0000 - val_loss: 0.1307 - val_accuracy: 0.9738\n",
            "Epoch 25/40\n",
            "114/114 [==============================] - 3s 25ms/step - loss: 4.5881e-05 - accuracy: 1.0000 - val_loss: 0.1316 - val_accuracy: 0.9743\n",
            "Epoch 26/40\n",
            "114/114 [==============================] - 3s 26ms/step - loss: 4.1399e-05 - accuracy: 1.0000 - val_loss: 0.1359 - val_accuracy: 0.9732\n",
            "Epoch 27/40\n",
            "114/114 [==============================] - 3s 26ms/step - loss: 3.6941e-05 - accuracy: 1.0000 - val_loss: 0.1355 - val_accuracy: 0.9737\n",
            "Epoch 28/40\n",
            "114/114 [==============================] - 3s 26ms/step - loss: 3.2795e-05 - accuracy: 1.0000 - val_loss: 0.1379 - val_accuracy: 0.9734\n",
            "Epoch 29/40\n",
            "114/114 [==============================] - 3s 26ms/step - loss: 3.0064e-05 - accuracy: 1.0000 - val_loss: 0.1387 - val_accuracy: 0.9738\n",
            "Epoch 30/40\n",
            "114/114 [==============================] - 3s 25ms/step - loss: 2.7098e-05 - accuracy: 1.0000 - val_loss: 0.1411 - val_accuracy: 0.9738\n",
            "Epoch 31/40\n",
            "114/114 [==============================] - 3s 25ms/step - loss: 2.4660e-05 - accuracy: 1.0000 - val_loss: 0.1404 - val_accuracy: 0.9738\n",
            "Epoch 32/40\n",
            "114/114 [==============================] - 3s 25ms/step - loss: 2.2408e-05 - accuracy: 1.0000 - val_loss: 0.1436 - val_accuracy: 0.9737\n",
            "Epoch 33/40\n",
            "114/114 [==============================] - 3s 25ms/step - loss: 2.0663e-05 - accuracy: 1.0000 - val_loss: 0.1443 - val_accuracy: 0.9742\n",
            "Epoch 34/40\n",
            "114/114 [==============================] - 3s 25ms/step - loss: 1.8542e-05 - accuracy: 1.0000 - val_loss: 0.1461 - val_accuracy: 0.9742\n",
            "Epoch 35/40\n",
            "114/114 [==============================] - 3s 25ms/step - loss: 1.7235e-05 - accuracy: 1.0000 - val_loss: 0.1468 - val_accuracy: 0.9738\n",
            "Epoch 36/40\n",
            "114/114 [==============================] - 3s 26ms/step - loss: 1.5247e-05 - accuracy: 1.0000 - val_loss: 0.1491 - val_accuracy: 0.9742\n",
            "Epoch 37/40\n",
            "114/114 [==============================] - 3s 26ms/step - loss: 1.3864e-05 - accuracy: 1.0000 - val_loss: 0.1497 - val_accuracy: 0.9735\n",
            "Epoch 38/40\n",
            "114/114 [==============================] - 3s 25ms/step - loss: 1.2666e-05 - accuracy: 1.0000 - val_loss: 0.1530 - val_accuracy: 0.9738\n",
            "Epoch 39/40\n",
            "114/114 [==============================] - 3s 25ms/step - loss: 1.1638e-05 - accuracy: 1.0000 - val_loss: 0.1527 - val_accuracy: 0.9737\n",
            "Epoch 40/40\n",
            "114/114 [==============================] - 3s 25ms/step - loss: 1.0674e-05 - accuracy: 1.0000 - val_loss: 0.1528 - val_accuracy: 0.9732\n"
          ],
          "name": "stdout"
        }
      ]
    },
    {
      "cell_type": "code",
      "metadata": {
        "id": "1V4WYn98T7cf",
        "colab_type": "code",
        "colab": {
          "base_uri": "https://localhost:8080/",
          "height": 295
        },
        "outputId": "2a6e9e58-4181-4821-e647-2d07a24dc308"
      },
      "source": [
        "# summarize history for accuracy\n",
        "import matplotlib.pyplot as plt\n",
        "\n",
        "plt.plot(history.history['accuracy'])\n",
        "plt.plot(history.history['val_accuracy'])\n",
        "plt.title('model accuracy')\n",
        "plt.ylabel('accuracy')\n",
        "plt.xlabel('epoch')\n",
        "plt.legend(['train', 'test'], loc='upper left')\n",
        "plt.show()"
      ],
      "execution_count": 61,
      "outputs": [
        {
          "output_type": "display_data",
          "data": {
            "image/png": "[encoded data removed]",
            "text/plain": [
              "<Figure size 432x288 with 1 Axes>"
            ]
          },
          "metadata": {
            "tags": [],
            "needs_background": "light"
          }
        }
      ]
    },
    {
      "cell_type": "code",
      "metadata": {
        "id": "FgTz-zPzBZFt",
        "colab_type": "code",
        "colab": {
          "base_uri": "https://localhost:8080/",
          "height": 295
        },
        "outputId": "e15682b9-c02a-4353-a1d9-77697358ab0f"
      },
      "source": [
        "# summarize history for loss\n",
        "plt.plot(history.history['loss'])\n",
        "plt.plot(history.history['val_loss'])\n",
        "plt.title('model loss')\n",
        "plt.ylabel('loss')\n",
        "plt.xlabel('epoch')\n",
        "plt.legend(['train', 'test'], loc='upper left')\n",
        "plt.show()"
      ],
      "execution_count": 62,
      "outputs": [
        {
          "output_type": "display_data",
          "data": {
            "image/png": "[encoded data removed]",
            "text/plain": [
              "<Figure size 432x288 with 1 Axes>"
            ]
          },
          "metadata": {
            "tags": [],
            "needs_background": "light"
          }
        }
      ]
    },
    {
      "cell_type": "markdown",
      "metadata": {
        "id": "AownO6ALevuR",
        "colab_type": "text"
      },
      "source": [
        "This model reaches 97.3% classification accuracy on the validation set. Its already a good result. But we still want to see if it can be further improved using hyperparameters tuning."
      ]
    },
    {
      "cell_type": "code",
      "metadata": {
        "id": "aviWyoHCQQqo",
        "colab_type": "code",
        "colab": {}
      },
      "source": [
        ""
      ],
      "execution_count": null,
      "outputs": []
    },
    {
      "cell_type": "markdown",
      "metadata": {
        "id": "nxkECFz3QRUs",
        "colab_type": "text"
      },
      "source": [
        "**Hyperparameters optimization**"
      ]
    },
    {
      "cell_type": "code",
      "metadata": {
        "id": "Z9rnZ3lP0Z05",
        "colab_type": "code",
        "colab": {}
      },
      "source": [
        "def build_model(num_filters, kernel_size, pool_size, fc1_size, max_len,emb_dim):\n",
        "  MAXLEN=max_len\n",
        "  EMBED_DIM=emb_dim\n",
        "  embedding_layer = Embedding(len(word_index)+1, EMBED_DIM, input_length=MAXLEN, \n",
        "                              weights=[embedding_matrix],\n",
        "                              trainable=False)\n",
        "  model=Sequential()\n",
        "  model.add(embedding_layer)\n",
        "  model.add(Conv1D(num_filters,kernel_size,activation='relu'))\n",
        "  model.add(MaxPool1D(pool_size))\n",
        "  model.add(Conv1D(num_filters,kernel_size,activation='relu'))\n",
        "  model.add(MaxPool1D(pool_size))\n",
        "  model.add(Conv1D(num_filters,kernel_size,activation='relu'))\n",
        "  model.add(Flatten())\n",
        "  model.add(Dense(fc1_size, activation='relu'))\n",
        "  model.add(Dense(1,activation='sigmoid'))\n",
        "  model.compile(optimizer='adam',loss='binary_crossentropy',metrics=['accuracy'])\n",
        "  return model\n"
      ],
      "execution_count": 13,
      "outputs": []
    },
    {
      "cell_type": "code",
      "metadata": {
        "id": "ANyiti1-QLx2",
        "colab_type": "code",
        "colab": {
          "base_uri": "https://localhost:8080/",
          "height": 104
        },
        "outputId": "2afa7893-b819-49d3-998a-001de25f0b6a"
      },
      "source": [
        "from keras.wrappers.scikit_learn import KerasClassifier\n",
        "from sklearn.model_selection import RandomizedSearchCV\n",
        "\n",
        "# Parameter grid for grid search\n",
        "param_grid = dict(num_filters=[32, 64, 128],\n",
        "                  kernel_size=[3, 5, 7],\n",
        "                  pool_size=[3, 5, 7],\n",
        "                  dense_layer_size=[32,64,128]\n",
        "                  max_len=[1000],\n",
        "                  emb_dim=[100])\n",
        "model = KerasClassifier(build_fn=build_model,\n",
        "                        epochs=10, batch_size=128,\n",
        "                        verbose=False)\n",
        "grid = RandomizedSearchCV(estimator=model, param_distributions=param_grid,\n",
        "                          cv=4, verbose=1, n_iter=5)\n",
        "grid_result = grid.fit(X_train, y_train)\n",
        "\n",
        "# Evaluate testing set\n",
        "test_accuracy = grid.score(X_val, y_val)\n",
        "print (grid_result.best_score_)\n",
        "print (grid_result.best_params_)\n"
      ],
      "execution_count": 22,
      "outputs": [
        {
          "output_type": "stream",
          "text": [
            "Fitting 4 folds for each of 5 candidates, totalling 20 fits\n"
          ],
          "name": "stdout"
        },
        {
          "output_type": "stream",
          "text": [
            "[Parallel(n_jobs=1)]: Using backend SequentialBackend with 1 concurrent workers.\n",
            "[Parallel(n_jobs=1)]: Done  20 out of  20 | elapsed: 12.6min finished\n"
          ],
          "name": "stderr"
        },
        {
          "output_type": "stream",
          "text": [
            "0.9813515245914459\n",
            "{'pool_size': 7, 'num_filters': 128, 'max_len': 1000, 'kernel_size': 3, 'emb_dim': 100}\n"
          ],
          "name": "stdout"
        }
      ]
    },
    {
      "cell_type": "code",
      "metadata": {
        "id": "ci8A3feagjdY",
        "colab_type": "code",
        "colab": {}
      },
      "source": [
        "# Build Model with tuned Hypermaters"
      ],
      "execution_count": 23,
      "outputs": []
    },
    {
      "cell_type": "code",
      "metadata": {
        "id": "-d1IX16xgoyF",
        "colab_type": "code",
        "colab": {
          "base_uri": "https://localhost:8080/",
          "height": 1000
        },
        "outputId": "bee5f68f-3802-493c-bd89-18f0d18e6b33"
      },
      "source": [
        "num_filters=128\n",
        "kernel_size=3\n",
        "pool_size= 7\n",
        "fc1_size=128\n",
        "\n",
        "embedding_layer = Embedding(len(word_index)+1, EMBED_DIM, input_length=MAXLEN, \n",
        "                            weights=[embedding_matrix],\n",
        "                            trainable=False)\n",
        "model=Sequential()\n",
        "model.add(embedding_layer)\n",
        "model.add(Conv1D(num_filters,kernel_size,activation='relu'))\n",
        "model.add(MaxPool1D(pool_size))\n",
        "model.add(Conv1D(num_filters,kernel_size,activation='relu'))\n",
        "model.add(MaxPool1D(pool_size))\n",
        "model.add(Conv1D(num_filters,kernel_size,activation='relu'))\n",
        "model.add(Flatten())\n",
        "model.add(Dense(fc1_size, activation='relu'))\n",
        "model.add(Dense(1,activation='sigmoid'))\n",
        "model.compile(optimizer='adam',loss='binary_crossentropy',metrics=['accuracy'])\n",
        "\n",
        "checkpoint = ModelCheckpoint('best_model.h5', verbose=0, monitor='val_loss',save_best_only=True, mode='auto') \n",
        "history=model.fit(X_train,y_train,epochs=40,validation_data=(X_val,y_val),batch_size=128,callbacks=[checkpoint])"
      ],
      "execution_count": 26,
      "outputs": [
        {
          "output_type": "stream",
          "text": [
            "Epoch 1/40\n",
            "114/114 [==============================] - 11s 96ms/step - loss: 0.4421 - accuracy: 0.7740 - val_loss: 0.1994 - val_accuracy: 0.9210\n",
            "Epoch 2/40\n",
            "114/114 [==============================] - 8s 67ms/step - loss: 0.1288 - accuracy: 0.9516 - val_loss: 0.0900 - val_accuracy: 0.9671\n",
            "Epoch 3/40\n",
            "114/114 [==============================] - 8s 66ms/step - loss: 0.0481 - accuracy: 0.9827 - val_loss: 0.0784 - val_accuracy: 0.9695\n",
            "Epoch 4/40\n",
            "114/114 [==============================] - 8s 66ms/step - loss: 0.0311 - accuracy: 0.9886 - val_loss: 0.0495 - val_accuracy: 0.9836\n",
            "Epoch 5/40\n",
            "114/114 [==============================] - 7s 62ms/step - loss: 0.0076 - accuracy: 0.9981 - val_loss: 0.0566 - val_accuracy: 0.9780\n",
            "Epoch 6/40\n",
            "114/114 [==============================] - 7s 63ms/step - loss: 0.0032 - accuracy: 0.9996 - val_loss: 0.0638 - val_accuracy: 0.9825\n",
            "Epoch 7/40\n",
            "114/114 [==============================] - 7s 62ms/step - loss: 0.0011 - accuracy: 0.9998 - val_loss: 0.0979 - val_accuracy: 0.9777\n",
            "Epoch 8/40\n",
            "114/114 [==============================] - 7s 62ms/step - loss: 0.0038 - accuracy: 0.9987 - val_loss: 0.0738 - val_accuracy: 0.9815\n",
            "Epoch 9/40\n",
            "114/114 [==============================] - 7s 62ms/step - loss: 0.0038 - accuracy: 0.9987 - val_loss: 0.0618 - val_accuracy: 0.9831\n",
            "Epoch 10/40\n",
            "114/114 [==============================] - 7s 62ms/step - loss: 7.3625e-04 - accuracy: 0.9999 - val_loss: 0.0681 - val_accuracy: 0.9823\n",
            "Epoch 11/40\n",
            "114/114 [==============================] - 7s 63ms/step - loss: 1.3803e-04 - accuracy: 1.0000 - val_loss: 0.0657 - val_accuracy: 0.9833\n",
            "Epoch 12/40\n",
            "114/114 [==============================] - 7s 62ms/step - loss: 6.1780e-05 - accuracy: 1.0000 - val_loss: 0.0672 - val_accuracy: 0.9833\n",
            "Epoch 13/40\n",
            "114/114 [==============================] - 7s 62ms/step - loss: 4.4496e-05 - accuracy: 1.0000 - val_loss: 0.0678 - val_accuracy: 0.9836\n",
            "Epoch 14/40\n",
            "114/114 [==============================] - 7s 62ms/step - loss: 3.4703e-05 - accuracy: 1.0000 - val_loss: 0.0690 - val_accuracy: 0.9836\n",
            "Epoch 15/40\n",
            "114/114 [==============================] - 7s 62ms/step - loss: 2.8386e-05 - accuracy: 1.0000 - val_loss: 0.0702 - val_accuracy: 0.9835\n",
            "Epoch 16/40\n",
            "114/114 [==============================] - 7s 62ms/step - loss: 2.3417e-05 - accuracy: 1.0000 - val_loss: 0.0713 - val_accuracy: 0.9833\n",
            "Epoch 17/40\n",
            "114/114 [==============================] - 7s 62ms/step - loss: 1.9849e-05 - accuracy: 1.0000 - val_loss: 0.0721 - val_accuracy: 0.9833\n",
            "Epoch 18/40\n",
            "114/114 [==============================] - 7s 62ms/step - loss: 1.6979e-05 - accuracy: 1.0000 - val_loss: 0.0729 - val_accuracy: 0.9833\n",
            "Epoch 19/40\n",
            "114/114 [==============================] - 7s 62ms/step - loss: 1.4757e-05 - accuracy: 1.0000 - val_loss: 0.0737 - val_accuracy: 0.9831\n",
            "Epoch 20/40\n",
            "114/114 [==============================] - 7s 62ms/step - loss: 1.2849e-05 - accuracy: 1.0000 - val_loss: 0.0737 - val_accuracy: 0.9831\n",
            "Epoch 21/40\n",
            "114/114 [==============================] - 7s 62ms/step - loss: 1.1290e-05 - accuracy: 1.0000 - val_loss: 0.0742 - val_accuracy: 0.9830\n",
            "Epoch 22/40\n",
            "114/114 [==============================] - 7s 62ms/step - loss: 1.0000e-05 - accuracy: 1.0000 - val_loss: 0.0745 - val_accuracy: 0.9828\n",
            "Epoch 23/40\n",
            "114/114 [==============================] - 7s 62ms/step - loss: 8.8760e-06 - accuracy: 1.0000 - val_loss: 0.0759 - val_accuracy: 0.9835\n",
            "Epoch 24/40\n",
            "114/114 [==============================] - 7s 62ms/step - loss: 7.8656e-06 - accuracy: 1.0000 - val_loss: 0.0771 - val_accuracy: 0.9838\n",
            "Epoch 25/40\n",
            "114/114 [==============================] - 7s 62ms/step - loss: 7.0624e-06 - accuracy: 1.0000 - val_loss: 0.0773 - val_accuracy: 0.9835\n",
            "Epoch 26/40\n",
            "114/114 [==============================] - 7s 62ms/step - loss: 6.2994e-06 - accuracy: 1.0000 - val_loss: 0.0778 - val_accuracy: 0.9835\n",
            "Epoch 27/40\n",
            "114/114 [==============================] - 7s 62ms/step - loss: 5.6235e-06 - accuracy: 1.0000 - val_loss: 0.0777 - val_accuracy: 0.9828\n",
            "Epoch 28/40\n",
            "114/114 [==============================] - 7s 62ms/step - loss: 5.1481e-06 - accuracy: 1.0000 - val_loss: 0.0781 - val_accuracy: 0.9830\n",
            "Epoch 29/40\n",
            "114/114 [==============================] - 7s 62ms/step - loss: 4.6079e-06 - accuracy: 1.0000 - val_loss: 0.0789 - val_accuracy: 0.9831\n",
            "Epoch 30/40\n",
            "114/114 [==============================] - 7s 62ms/step - loss: 4.1767e-06 - accuracy: 1.0000 - val_loss: 0.0804 - val_accuracy: 0.9835\n",
            "Epoch 31/40\n",
            "114/114 [==============================] - 7s 62ms/step - loss: 3.7960e-06 - accuracy: 1.0000 - val_loss: 0.0808 - val_accuracy: 0.9835\n",
            "Epoch 32/40\n",
            "114/114 [==============================] - 7s 62ms/step - loss: 3.4238e-06 - accuracy: 1.0000 - val_loss: 0.0807 - val_accuracy: 0.9835\n",
            "Epoch 33/40\n",
            "114/114 [==============================] - 7s 62ms/step - loss: 3.1643e-06 - accuracy: 1.0000 - val_loss: 0.0809 - val_accuracy: 0.9831\n",
            "Epoch 34/40\n",
            "114/114 [==============================] - 7s 62ms/step - loss: 2.8425e-06 - accuracy: 1.0000 - val_loss: 0.0822 - val_accuracy: 0.9836\n",
            "Epoch 35/40\n",
            "114/114 [==============================] - 7s 62ms/step - loss: 2.5799e-06 - accuracy: 1.0000 - val_loss: 0.0828 - val_accuracy: 0.9835\n",
            "Epoch 36/40\n",
            "114/114 [==============================] - 7s 62ms/step - loss: 2.3587e-06 - accuracy: 1.0000 - val_loss: 0.0835 - val_accuracy: 0.9836\n",
            "Epoch 37/40\n",
            "114/114 [==============================] - 7s 63ms/step - loss: 2.1314e-06 - accuracy: 1.0000 - val_loss: 0.0839 - val_accuracy: 0.9833\n",
            "Epoch 38/40\n",
            "114/114 [==============================] - 7s 63ms/step - loss: 1.9205e-06 - accuracy: 1.0000 - val_loss: 0.0863 - val_accuracy: 0.9835\n",
            "Epoch 39/40\n",
            "114/114 [==============================] - 7s 63ms/step - loss: 1.7617e-06 - accuracy: 1.0000 - val_loss: 0.0873 - val_accuracy: 0.9835\n",
            "Epoch 40/40\n",
            "114/114 [==============================] - 7s 62ms/step - loss: 1.5605e-06 - accuracy: 1.0000 - val_loss: 0.0880 - val_accuracy: 0.9833\n"
          ],
          "name": "stdout"
        }
      ]
    },
    {
      "cell_type": "code",
      "metadata": {
        "id": "3J8cqWzZkVxW",
        "colab_type": "code",
        "colab": {}
      },
      "source": [
        "#validation accuracy has increased approximately by 1% from 97.43% to 98.36% !!"
      ],
      "execution_count": 27,
      "outputs": []
    },
    {
      "cell_type": "code",
      "metadata": {
        "id": "JGEjQbnKkovx",
        "colab_type": "code",
        "colab": {}
      },
      "source": [
        "## lets try further by fine tuning the glove word embedding and reglarizing with dropout layers."
      ],
      "execution_count": null,
      "outputs": []
    },
    {
      "cell_type": "code",
      "metadata": {
        "id": "QnbTqkISlEd5",
        "colab_type": "code",
        "colab": {
          "base_uri": "https://localhost:8080/",
          "height": 1000
        },
        "outputId": "359c41d5-835a-4ea3-f777-5c0453ce625f"
      },
      "source": [
        "num_filters=128\n",
        "kernel_size=3\n",
        "pool_size= 7\n",
        "fc1_size=128\n",
        "\n",
        "embedding_layer = Embedding(len(word_index)+1, EMBED_DIM, input_length=MAXLEN, \n",
        "                            weights=[embedding_matrix],\n",
        "                            trainable=True)\n",
        "model=Sequential()\n",
        "model.add(embedding_layer)\n",
        "model.add(Conv1D(num_filters,kernel_size,activation='relu'))\n",
        "model.add(Dropout(.5))\n",
        "model.add(MaxPool1D(pool_size))\n",
        "model.add(Conv1D(num_filters,kernel_size,activation='relu'))\n",
        "model.add(Dropout(.5))\n",
        "model.add(MaxPool1D(pool_size))\n",
        "model.add(Conv1D(num_filters,kernel_size,activation='relu'))\n",
        "model.add(Dropout(.5))\n",
        "model.add(Flatten())\n",
        "model.add(Dense(fc1_size, activation='relu'))\n",
        "model.add(Dense(1,activation='sigmoid'))\n",
        "model.compile(optimizer='adam',loss='binary_crossentropy',metrics=['accuracy'])\n",
        "\n",
        "checkpoint = ModelCheckpoint('best_model.h5', verbose=0, monitor='val_loss',save_best_only=True, mode='auto') \n",
        "history=model.fit(X_train,y_train,epochs=40,validation_data=(X_val,y_val),callbacks=[checkpoint])"
      ],
      "execution_count": 36,
      "outputs": [
        {
          "output_type": "stream",
          "text": [
            "Epoch 1/40\n",
            "455/455 [==============================] - 110s 242ms/step - loss: 0.3832 - accuracy: 0.8202 - val_loss: 0.1039 - val_accuracy: 0.9717\n",
            "Epoch 2/40\n",
            "455/455 [==============================] - 111s 244ms/step - loss: 0.0754 - accuracy: 0.9743 - val_loss: 0.0513 - val_accuracy: 0.9864\n",
            "Epoch 3/40\n",
            "455/455 [==============================] - 114s 251ms/step - loss: 0.0381 - accuracy: 0.9867 - val_loss: 0.0386 - val_accuracy: 0.9891\n",
            "Epoch 4/40\n",
            "455/455 [==============================] - 114s 250ms/step - loss: 0.0240 - accuracy: 0.9913 - val_loss: 0.0305 - val_accuracy: 0.9912\n",
            "Epoch 5/40\n",
            "455/455 [==============================] - 114s 250ms/step - loss: 0.0197 - accuracy: 0.9937 - val_loss: 0.0336 - val_accuracy: 0.9908\n",
            "Epoch 6/40\n",
            "455/455 [==============================] - 110s 242ms/step - loss: 0.0116 - accuracy: 0.9966 - val_loss: 0.0319 - val_accuracy: 0.9894\n",
            "Epoch 7/40\n",
            "455/455 [==============================] - 113s 247ms/step - loss: 0.0098 - accuracy: 0.9964 - val_loss: 0.0303 - val_accuracy: 0.9904\n",
            "Epoch 8/40\n",
            "455/455 [==============================] - 111s 245ms/step - loss: 0.0078 - accuracy: 0.9976 - val_loss: 0.0394 - val_accuracy: 0.9873\n",
            "Epoch 9/40\n",
            "455/455 [==============================] - 109s 240ms/step - loss: 0.0054 - accuracy: 0.9982 - val_loss: 0.0401 - val_accuracy: 0.9912\n",
            "Epoch 10/40\n",
            "455/455 [==============================] - 109s 239ms/step - loss: 0.0132 - accuracy: 0.9970 - val_loss: 0.0460 - val_accuracy: 0.9860\n",
            "Epoch 11/40\n",
            "455/455 [==============================] - 110s 241ms/step - loss: 0.0080 - accuracy: 0.9975 - val_loss: 0.0481 - val_accuracy: 0.9881\n",
            "Epoch 12/40\n",
            "455/455 [==============================] - 110s 241ms/step - loss: 0.0080 - accuracy: 0.9981 - val_loss: 0.1489 - val_accuracy: 0.9676\n",
            "Epoch 13/40\n",
            "455/455 [==============================] - 110s 243ms/step - loss: 0.0039 - accuracy: 0.9991 - val_loss: 0.0377 - val_accuracy: 0.9891\n",
            "Epoch 14/40\n",
            "455/455 [==============================] - 109s 240ms/step - loss: 0.0032 - accuracy: 0.9988 - val_loss: 0.0438 - val_accuracy: 0.9865\n",
            "Epoch 15/40\n",
            "455/455 [==============================] - 112s 246ms/step - loss: 0.0107 - accuracy: 0.9977 - val_loss: 0.0533 - val_accuracy: 0.9847\n",
            "Epoch 16/40\n",
            "455/455 [==============================] - 111s 244ms/step - loss: 0.0026 - accuracy: 0.9991 - val_loss: 0.0378 - val_accuracy: 0.9881\n",
            "Epoch 17/40\n",
            "455/455 [==============================] - 111s 244ms/step - loss: 0.0074 - accuracy: 0.9978 - val_loss: 0.0363 - val_accuracy: 0.9900\n",
            "Epoch 18/40\n",
            "455/455 [==============================] - 110s 243ms/step - loss: 0.0086 - accuracy: 0.9977 - val_loss: 0.0637 - val_accuracy: 0.9811\n",
            "Epoch 19/40\n",
            "455/455 [==============================] - 111s 243ms/step - loss: 0.0033 - accuracy: 0.9992 - val_loss: 0.0330 - val_accuracy: 0.9907\n",
            "Epoch 20/40\n",
            "455/455 [==============================] - 112s 245ms/step - loss: 0.0029 - accuracy: 0.9988 - val_loss: 0.0647 - val_accuracy: 0.9891\n",
            "Epoch 21/40\n",
            "455/455 [==============================] - 112s 246ms/step - loss: 0.0065 - accuracy: 0.9985 - val_loss: 0.0489 - val_accuracy: 0.9889\n",
            "Epoch 22/40\n",
            "455/455 [==============================] - 111s 244ms/step - loss: 0.0041 - accuracy: 0.9990 - val_loss: 0.0786 - val_accuracy: 0.9872\n",
            "Epoch 23/40\n",
            "455/455 [==============================] - 113s 248ms/step - loss: 0.0029 - accuracy: 0.9993 - val_loss: 0.1041 - val_accuracy: 0.9833\n",
            "Epoch 24/40\n",
            "455/455 [==============================] - 111s 244ms/step - loss: 0.0042 - accuracy: 0.9991 - val_loss: 0.0613 - val_accuracy: 0.9899\n",
            "Epoch 25/40\n",
            "455/455 [==============================] - 112s 246ms/step - loss: 0.0099 - accuracy: 0.9981 - val_loss: 0.1164 - val_accuracy: 0.9786\n",
            "Epoch 26/40\n",
            "455/455 [==============================] - 112s 246ms/step - loss: 0.0055 - accuracy: 0.9988 - val_loss: 0.0648 - val_accuracy: 0.9899\n",
            "Epoch 27/40\n",
            "455/455 [==============================] - 111s 243ms/step - loss: 0.0032 - accuracy: 0.9992 - val_loss: 0.0557 - val_accuracy: 0.9894\n",
            "Epoch 28/40\n",
            "455/455 [==============================] - 112s 246ms/step - loss: 0.0106 - accuracy: 0.9988 - val_loss: 0.0421 - val_accuracy: 0.9896\n",
            "Epoch 29/40\n",
            "455/455 [==============================] - 111s 243ms/step - loss: 5.8825e-04 - accuracy: 0.9998 - val_loss: 0.0452 - val_accuracy: 0.9907\n",
            "Epoch 30/40\n",
            "455/455 [==============================] - 112s 245ms/step - loss: 0.0038 - accuracy: 0.9990 - val_loss: 0.0571 - val_accuracy: 0.9907\n",
            "Epoch 31/40\n",
            "455/455 [==============================] - 109s 240ms/step - loss: 0.0155 - accuracy: 0.9978 - val_loss: 0.0635 - val_accuracy: 0.9878\n",
            "Epoch 32/40\n",
            "455/455 [==============================] - 112s 245ms/step - loss: 0.0015 - accuracy: 0.9995 - val_loss: 0.0532 - val_accuracy: 0.9889\n",
            "Epoch 33/40\n",
            "455/455 [==============================] - 111s 245ms/step - loss: 5.3188e-04 - accuracy: 0.9997 - val_loss: 0.0674 - val_accuracy: 0.9889\n",
            "Epoch 34/40\n",
            "455/455 [==============================] - 111s 243ms/step - loss: 0.0038 - accuracy: 0.9991 - val_loss: 0.1008 - val_accuracy: 0.9839\n",
            "Epoch 35/40\n",
            "455/455 [==============================] - 112s 247ms/step - loss: 7.3909e-04 - accuracy: 0.9998 - val_loss: 0.0797 - val_accuracy: 0.9875\n",
            "Epoch 36/40\n",
            "455/455 [==============================] - 113s 248ms/step - loss: 0.0033 - accuracy: 0.9994 - val_loss: 0.0763 - val_accuracy: 0.9875\n",
            "Epoch 37/40\n",
            "455/455 [==============================] - 111s 244ms/step - loss: 1.0660e-04 - accuracy: 1.0000 - val_loss: 0.0744 - val_accuracy: 0.9883\n",
            "Epoch 38/40\n",
            "455/455 [==============================] - 113s 249ms/step - loss: 0.0064 - accuracy: 0.9992 - val_loss: 0.0917 - val_accuracy: 0.9876\n",
            "Epoch 39/40\n",
            "455/455 [==============================] - 113s 248ms/step - loss: 0.0082 - accuracy: 0.9985 - val_loss: 0.0621 - val_accuracy: 0.9892\n",
            "Epoch 40/40\n",
            "455/455 [==============================] - 111s 244ms/step - loss: 0.0119 - accuracy: 0.9983 - val_loss: 0.0799 - val_accuracy: 0.9859\n"
          ],
          "name": "stdout"
        }
      ]
    },
    {
      "cell_type": "markdown",
      "metadata": {
        "id": "e-J1yaxJFWDL",
        "colab_type": "text"
      },
      "source": [
        "Bit improvement on the validation accuracy which has reached 99% now."
      ]
    },
    {
      "cell_type": "code",
      "metadata": {
        "id": "kWK9hiCOT53J",
        "colab_type": "code",
        "colab": {
          "base_uri": "https://localhost:8080/",
          "height": 295
        },
        "outputId": "1ca38445-6596-4af1-82a9-37841747cefd"
      },
      "source": [
        "# summarize history for accuracy\n",
        "import matplotlib.pyplot as plt\n",
        "\n",
        "plt.plot(history.history['accuracy'])\n",
        "plt.plot(history.history['val_accuracy'])\n",
        "plt.title('model accuracy')\n",
        "plt.ylabel('accuracy')\n",
        "plt.xlabel('epoch')\n",
        "plt.legend(['train', 'test'], loc='upper left')\n",
        "plt.show()"
      ],
      "execution_count": 37,
      "outputs": [
        {
          "output_type": "display_data",
          "data": {
            "image/png": "[encoded data removed]",
            "text/plain": [
              "<Figure size 432x288 with 1 Axes>"
            ]
          },
          "metadata": {
            "tags": [],
            "needs_background": "light"
          }
        }
      ]
    },
    {
      "cell_type": "code",
      "metadata": {
        "id": "TaKm3eysUBPp",
        "colab_type": "code",
        "colab": {
          "base_uri": "https://localhost:8080/",
          "height": 295
        },
        "outputId": "95a7045d-e5bb-411d-8732-a19f5cf53ca9"
      },
      "source": [
        "# summarize history for loss\n",
        "plt.plot(history.history['loss'])\n",
        "plt.plot(history.history['val_loss'])\n",
        "plt.title('model loss')\n",
        "plt.ylabel('loss')\n",
        "plt.xlabel('epoch')\n",
        "plt.legend(['train', 'test'], loc='upper left')\n",
        "plt.show()"
      ],
      "execution_count": 38,
      "outputs": [
        {
          "output_type": "display_data",
          "data": {
            "image/png": "[encoded data removed]",
            "text/plain": [
              "<Figure size 432x288 with 1 Axes>"
            ]
          },
          "metadata": {
            "tags": [],
            "needs_background": "light"
          }
        }
      ]
    },
    {
      "cell_type": "markdown",
      "metadata": {
        "id": "Oq2SJuusB37y",
        "colab_type": "text"
      },
      "source": [
        "**F1** **Score**"
      ]
    },
    {
      "cell_type": "code",
      "metadata": {
        "id": "RqjETzNnXIsr",
        "colab_type": "code",
        "colab": {
          "base_uri": "https://localhost:8080/",
          "height": 173
        },
        "outputId": "2f6e148c-8230-45ed-c941-92a025d4c886"
      },
      "source": [
        "from sklearn.metrics import classification_report\n",
        "\n",
        "y_pred = model.predict(X_val)\n",
        "y_pred_bool = y_pred>=0.7\n",
        "\n",
        "print(classification_report(y_val, y_pred_bool))"
      ],
      "execution_count": 39,
      "outputs": [
        {
          "output_type": "stream",
          "text": [
            "              precision    recall  f1-score   support\n",
            "\n",
            "           0       0.99      0.98      0.99      3163\n",
            "           1       0.98      0.99      0.99      3066\n",
            "\n",
            "    accuracy                           0.99      6229\n",
            "   macro avg       0.99      0.99      0.99      6229\n",
            "weighted avg       0.99      0.99      0.99      6229\n",
            "\n"
          ],
          "name": "stdout"
        }
      ]
    },
    {
      "cell_type": "markdown",
      "metadata": {
        "id": "wpuRxmt9BlCk",
        "colab_type": "text"
      },
      "source": [
        "**Prediction on Test data**"
      ]
    },
    {
      "cell_type": "code",
      "metadata": {
        "id": "FsKop206zNzv",
        "colab_type": "code",
        "colab": {}
      },
      "source": [
        "df_test = pd.read_csv('./test.csv')"
      ],
      "execution_count": 32,
      "outputs": []
    },
    {
      "cell_type": "code",
      "metadata": {
        "id": "M6PcbrMD4KVe",
        "colab_type": "code",
        "colab": {
          "base_uri": "https://localhost:8080/",
          "height": 104
        },
        "outputId": "8c7dc7eb-8742-4813-84c7-3477b02ff462"
      },
      "source": [
        "df_test.isnull().sum()"
      ],
      "execution_count": 33,
      "outputs": [
        {
          "output_type": "execute_result",
          "data": {
            "text/plain": [
              "id          0\n",
              "title     122\n",
              "author    503\n",
              "text        7\n",
              "dtype: int64"
            ]
          },
          "metadata": {
            "tags": []
          },
          "execution_count": 33
        }
      ]
    },
    {
      "cell_type": "code",
      "metadata": {
        "id": "fuk53upf70kt",
        "colab_type": "code",
        "colab": {}
      },
      "source": [
        "df_test=df_test.fillna(' ')\n",
        "X_test=df_test['title'] + ' '+ df_test['text']\n"
      ],
      "execution_count": 40,
      "outputs": []
    },
    {
      "cell_type": "code",
      "metadata": {
        "id": "2WiNXyH-8VfS",
        "colab_type": "code",
        "colab": {
          "base_uri": "https://localhost:8080/",
          "height": 104
        },
        "outputId": "60be2199-5719-4ca4-b219-d83e9596ae7b"
      },
      "source": [
        "def predict(text):\n",
        "  sequences_test = tokenizer.texts_to_sequences(text)\n",
        "  padded = pad_sequences(sequences_test, maxlen=MAXLEN, padding='post',truncating='post')\n",
        "  label=model.predict(padded)\n",
        "  return label \n",
        "\n",
        "output_labels=[]\n",
        "c=0\n",
        "for text in X_test:\n",
        "  text=text.lower()\n",
        "  c+=1\n",
        "  if (c%1000==0):\n",
        "    print (str(c)+' '+'predicted!')\n",
        "  value=predict([text])\n",
        "  if (value[0][0]>.5):\n",
        "    output_labels.append(1)\n",
        "  else: \n",
        "    output_labels.append(0)\n"
      ],
      "execution_count": 42,
      "outputs": [
        {
          "output_type": "stream",
          "text": [
            "1000 predicted!\n",
            "2000 predicted!\n",
            "3000 predicted!\n",
            "4000 predicted!\n",
            "5000 predicted!\n"
          ],
          "name": "stdout"
        }
      ]
    },
    {
      "cell_type": "code",
      "metadata": {
        "id": "4A0Qe84HSZUO",
        "colab_type": "code",
        "colab": {
          "base_uri": "https://localhost:8080/",
          "height": 283
        },
        "outputId": "e4a039ae-2609-4f56-f386-94bc7b1883f7"
      },
      "source": [
        ""
      ],
      "execution_count": null,
      "outputs": [
        {
          "output_type": "execute_result",
          "data": {
            "text/plain": [
              "<matplotlib.axes._subplots.AxesSubplot at 0x7ff63e5451d0>"
            ]
          },
          "metadata": {
            "tags": []
          },
          "execution_count": 76
        },
        {
          "output_type": "display_data",
          "data": {
            "image/png": "[encoded data removed]",
            "text/plain": [
              "<Figure size 432x288 with 1 Axes>"
            ]
          },
          "metadata": {
            "tags": [],
            "needs_background": "light"
          }
        }
      ]
    },
    {
      "cell_type": "markdown",
      "metadata": {
        "id": "nRRfzNlgTX57",
        "colab_type": "text"
      },
      "source": [
        "class output probability are clearly separable"
      ]
    },
    {
      "cell_type": "code",
      "metadata": {
        "id": "o58wRQCI72A8",
        "colab_type": "code",
        "colab": {}
      },
      "source": [
        "df_submit = pd.read_csv('./submit.csv')"
      ],
      "execution_count": 47,
      "outputs": []
    },
    {
      "cell_type": "code",
      "metadata": {
        "id": "G3kGIq7D8Cix",
        "colab_type": "code",
        "colab": {
          "base_uri": "https://localhost:8080/",
          "height": 35
        },
        "outputId": "67d4bbe7-c061-43a4-d526-707a8d8342f8"
      },
      "source": [
        "df_submit.columns"
      ],
      "execution_count": 49,
      "outputs": [
        {
          "output_type": "execute_result",
          "data": {
            "text/plain": [
              "Index(['id', 'label'], dtype='object')"
            ]
          },
          "metadata": {
            "tags": []
          },
          "execution_count": 49
        }
      ]
    },
    {
      "cell_type": "code",
      "metadata": {
        "id": "yFV0joLGZojw",
        "colab_type": "code",
        "colab": {}
      },
      "source": [
        "df_submit['label']=output_labels"
      ],
      "execution_count": 51,
      "outputs": []
    },
    {
      "cell_type": "code",
      "metadata": {
        "id": "QPPo7LEJbZAg",
        "colab_type": "code",
        "colab": {}
      },
      "source": [
        "df_submit.to_csv('./submit.csv')"
      ],
      "execution_count": 53,
      "outputs": []
    },
    {
      "cell_type": "code",
      "metadata": {
        "id": "VJpuxtXFbmxp",
        "colab_type": "code",
        "colab": {}
      },
      "source": [
        ""
      ],
      "execution_count": null,
      "outputs": []
    }
  ]
}