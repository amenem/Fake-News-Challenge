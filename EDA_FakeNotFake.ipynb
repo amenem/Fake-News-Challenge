{
  "nbformat": 4,
  "nbformat_minor": 0,
  "metadata": {
    "colab": {
      "name": "EDA_FakeNotFake.ipynb",
      "provenance": [],
      "collapsed_sections": [],
      "mount_file_id": "11ze5WU1sAtdYral4WnknmXQGi_WODDtM",
      "authorship_tag": "ABX9TyNQph+gtTbRJZU/m3fuUZlC",
      "include_colab_link": true
    },
    "kernelspec": {
      "name": "python3",
      "display_name": "Python 3"
    },
    "accelerator": "TPU"
  },
  "cells": [
    {
      "cell_type": "markdown",
      "metadata": {
        "id": "view-in-github",
        "colab_type": "text"
      },
      "source": [
        "<a href=\"https://colab.research.google.com/github/amenem/test/blob/master/EDA_FakeNotFake.ipynb\" target=\"_parent\"><img src=\"https://colab.research.google.com/assets/colab-badge.svg\" alt=\"Open In Colab\"/></a>"
      ]
    },
    {
      "cell_type": "markdown",
      "metadata": {
        "id": "s292yLGA_r6a",
        "colab_type": "text"
      },
      "source": [
        "**Get Kaggle data in Colab**"
      ]
    },
    {
      "cell_type": "code",
      "metadata": {
        "id": "dECccJPx05EL",
        "colab_type": "code",
        "colab": {}
      },
      "source": [
        "! pip install -q kaggle"
      ],
      "execution_count": null,
      "outputs": []
    },
    {
      "cell_type": "code",
      "metadata": {
        "id": "suZ3rBCs1t-1",
        "colab_type": "code",
        "colab": {}
      },
      "source": [
        "from google.colab import files\n",
        "import warnings  \n",
        "warnings.filterwarnings('ignore')    "
      ],
      "execution_count": null,
      "outputs": []
    },
    {
      "cell_type": "code",
      "metadata": {
        "id": "WyuSQgr11Cbf",
        "colab_type": "code",
        "colab": {
          "resources": {
            "http://localhost:8080/nbextensions/google.colab/files.js": {
              "data": "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",
              "ok": true,
              "headers": [
                [
                  "content-type",
                  "application/javascript"
                ]
              ],
              "status": 200,
              "status_text": "OK"
            }
          },
          "base_uri": "https://localhost:8080/",
          "height": 91
        },
        "outputId": "0a82c74a-c576-4ffe-cdbb-740cb73bb8d5"
      },
      "source": [
        "files.upload()"
      ],
      "execution_count": null,
      "outputs": [
        {
          "output_type": "display_data",
          "data": {
            "text/html": [
              "\n",
              "     <input type=\"file\" id=\"files-1a0950e7-bc1e-4552-b0ca-61cd70ba740c\" name=\"files[]\" multiple disabled\n",
              "        style=\"border:none\" />\n",
              "     <output id=\"result-1a0950e7-bc1e-4552-b0ca-61cd70ba740c\">\n",
              "      Upload widget is only available when the cell has been executed in the\n",
              "      current browser session. Please rerun this cell to enable.\n",
              "      </output>\n",
              "      <script src=\"/nbextensions/google.colab/files.js\"></script> "
            ],
            "text/plain": [
              "<IPython.core.display.HTML object>"
            ]
          },
          "metadata": {
            "tags": []
          }
        },
        {
          "output_type": "stream",
          "text": [
            "Saving kaggle.json to kaggle (1).json\n"
          ],
          "name": "stdout"
        },
        {
          "output_type": "execute_result",
          "data": {
            "text/plain": [
              "{'kaggle.json': b'{\"username\":\"amenem\",\"key\":\"f0913597f85de0138806c77add36fa0f\"}'}"
            ]
          },
          "metadata": {
            "tags": []
          },
          "execution_count": 7
        }
      ]
    },
    {
      "cell_type": "code",
      "metadata": {
        "id": "zbCC-oWq1TeZ",
        "colab_type": "code",
        "colab": {
          "base_uri": "https://localhost:8080/",
          "height": 35
        },
        "outputId": "8550fa78-a7e7-4818-bb99-a9d116925d10"
      },
      "source": [
        "! mkdir ~/.kaggle"
      ],
      "execution_count": null,
      "outputs": [
        {
          "output_type": "stream",
          "text": [
            "mkdir: cannot create directory ‘/root/.kaggle’: File exists\n"
          ],
          "name": "stdout"
        }
      ]
    },
    {
      "cell_type": "code",
      "metadata": {
        "id": "NmclfDsu2BE9",
        "colab_type": "code",
        "colab": {}
      },
      "source": [
        "! cp kaggle.json ~/.kaggle/"
      ],
      "execution_count": null,
      "outputs": []
    },
    {
      "cell_type": "code",
      "metadata": {
        "id": "kW5iPvQ72F8W",
        "colab_type": "code",
        "colab": {}
      },
      "source": [
        "! chmod 600 ~/.kaggle/kaggle.json"
      ],
      "execution_count": null,
      "outputs": []
    },
    {
      "cell_type": "code",
      "metadata": {
        "id": "Q9dtpk7T2JO7",
        "colab_type": "code",
        "colab": {
          "base_uri": "https://localhost:8080/",
          "height": 87
        },
        "outputId": "d27bdd4d-9342-4312-feaa-cf333e19e536"
      },
      "source": [
        "! kaggle competitions download -c fake-news"
      ],
      "execution_count": null,
      "outputs": [
        {
          "output_type": "stream",
          "text": [
            "Warning: Looks like you're using an outdated API Version, please consider updating (server 1.5.6 / client 1.5.4)\n",
            "test.csv.zip: Skipping, found more recently modified local copy (use --force to force download)\n",
            "submit.csv: Skipping, found more recently modified local copy (use --force to force download)\n",
            "train.csv.zip: Skipping, found more recently modified local copy (use --force to force download)\n"
          ],
          "name": "stdout"
        }
      ]
    },
    {
      "cell_type": "code",
      "metadata": {
        "id": "JhYazWkS2X0v",
        "colab_type": "code",
        "colab": {
          "base_uri": "https://localhost:8080/",
          "height": 52
        },
        "outputId": "84f837d8-0798-4760-aa2b-10067fc24698"
      },
      "source": [
        "! unzip ./train.csv.zip -d ./"
      ],
      "execution_count": null,
      "outputs": [
        {
          "output_type": "stream",
          "text": [
            "Archive:  ./train.csv.zip\n",
            "replace ./train.csv? [y]es, [n]o, [A]ll, [N]one, [r]ename: "
          ],
          "name": "stdout"
        }
      ]
    },
    {
      "cell_type": "code",
      "metadata": {
        "id": "MT6GQTJTuUVN",
        "colab_type": "code",
        "colab": {
          "base_uri": "https://localhost:8080/",
          "height": 52
        },
        "outputId": "04e1e280-8563-4e98-ea5d-878b568cf122"
      },
      "source": [
        "! unzip ./test.csv.zip -d ./"
      ],
      "execution_count": null,
      "outputs": [
        {
          "output_type": "stream",
          "text": [
            "Archive:  ./test.csv.zip\n",
            "replace ./test.csv? [y]es, [n]o, [A]ll, [N]one, [r]ename: "
          ],
          "name": "stdout"
        }
      ]
    },
    {
      "cell_type": "code",
      "metadata": {
        "id": "3unT8_4UzdQn",
        "colab_type": "code",
        "colab": {}
      },
      "source": [
        "import os\n",
        "os.chdir('/content/drive/My Drive/')"
      ],
      "execution_count": 3,
      "outputs": []
    },
    {
      "cell_type": "markdown",
      "metadata": {
        "id": "6YizcfSw_zkL",
        "colab_type": "text"
      },
      "source": [
        "**Lets start on Analyzing data**"
      ]
    },
    {
      "cell_type": "code",
      "metadata": {
        "id": "B5n7S-Eb2SCQ",
        "colab_type": "code",
        "colab": {
          "base_uri": "https://localhost:8080/",
          "height": 124
        },
        "outputId": "c5f29d3f-f375-4a0b-a136-f5a7a42233f0"
      },
      "source": [
        "import pandas as pd\n",
        "import numpy as np\n",
        "import seaborn as sb\n",
        "import matplotlib.pyplot as plt\n",
        "from nltk import tokenize\n",
        "import nltk\n",
        "nltk.download('punkt')"
      ],
      "execution_count": 1,
      "outputs": [
        {
          "output_type": "stream",
          "text": [
            "/usr/local/lib/python3.6/dist-packages/statsmodels/tools/_testing.py:19: FutureWarning: pandas.util.testing is deprecated. Use the functions in the public API at pandas.testing instead.\n",
            "  import pandas.util.testing as tm\n"
          ],
          "name": "stderr"
        },
        {
          "output_type": "stream",
          "text": [
            "[nltk_data] Downloading package punkt to /root/nltk_data...\n",
            "[nltk_data]   Unzipping tokenizers/punkt.zip.\n"
          ],
          "name": "stdout"
        },
        {
          "output_type": "execute_result",
          "data": {
            "text/plain": [
              "True"
            ]
          },
          "metadata": {
            "tags": []
          },
          "execution_count": 1
        }
      ]
    },
    {
      "cell_type": "code",
      "metadata": {
        "id": "m88ua_kJ26p6",
        "colab_type": "code",
        "colab": {}
      },
      "source": [
        "df_train= pd.read_csv('./train.csv')"
      ],
      "execution_count": 5,
      "outputs": []
    },
    {
      "cell_type": "code",
      "metadata": {
        "id": "lkxf44pn3NMV",
        "colab_type": "code",
        "colab": {
          "base_uri": "https://localhost:8080/",
          "height": 35
        },
        "outputId": "669cda39-4fdc-405d-e712-c127d6d63736"
      },
      "source": [
        "df_train.columns"
      ],
      "execution_count": 6,
      "outputs": [
        {
          "output_type": "execute_result",
          "data": {
            "text/plain": [
              "Index(['id', 'title', 'author', 'text', 'label'], dtype='object')"
            ]
          },
          "metadata": {
            "tags": []
          },
          "execution_count": 6
        }
      ]
    },
    {
      "cell_type": "code",
      "metadata": {
        "id": "IB4Y_Lxe5Pne",
        "colab_type": "code",
        "colab": {
          "base_uri": "https://localhost:8080/",
          "height": 415
        },
        "outputId": "7b15a9bf-d9d5-4761-ec63-8de88c8c6b3a"
      },
      "source": [
        "df_train"
      ],
      "execution_count": 7,
      "outputs": [
        {
          "output_type": "execute_result",
          "data": {
            "text/html": [
              "<div>\n",
              "<style scoped>\n",
              "    .dataframe tbody tr th:only-of-type {\n",
              "        vertical-align: middle;\n",
              "    }\n",
              "\n",
              "    .dataframe tbody tr th {\n",
              "        vertical-align: top;\n",
              "    }\n",
              "\n",
              "    .dataframe thead th {\n",
              "        text-align: right;\n",
              "    }\n",
              "</style>\n",
              "<table border=\"1\" class=\"dataframe\">\n",
              "  <thead>\n",
              "    <tr style=\"text-align: right;\">\n",
              "      <th></th>\n",
              "      <th>id</th>\n",
              "      <th>title</th>\n",
              "      <th>author</th>\n",
              "      <th>text</th>\n",
              "      <th>label</th>\n",
              "    </tr>\n",
              "  </thead>\n",
              "  <tbody>\n",
              "    <tr>\n",
              "      <th>0</th>\n",
              "      <td>0</td>\n",
              "      <td>House Dem Aide: We Didn’t Even See Comey’s Let...</td>\n",
              "      <td>Darrell Lucus</td>\n",
              "      <td>House Dem Aide: We Didn’t Even See Comey’s Let...</td>\n",
              "      <td>1</td>\n",
              "    </tr>\n",
              "    <tr>\n",
              "      <th>1</th>\n",
              "      <td>1</td>\n",
              "      <td>FLYNN: Hillary Clinton, Big Woman on Campus - ...</td>\n",
              "      <td>Daniel J. Flynn</td>\n",
              "      <td>Ever get the feeling your life circles the rou...</td>\n",
              "      <td>0</td>\n",
              "    </tr>\n",
              "    <tr>\n",
              "      <th>2</th>\n",
              "      <td>2</td>\n",
              "      <td>Why the Truth Might Get You Fired</td>\n",
              "      <td>Consortiumnews.com</td>\n",
              "      <td>Why the Truth Might Get You Fired October 29, ...</td>\n",
              "      <td>1</td>\n",
              "    </tr>\n",
              "    <tr>\n",
              "      <th>3</th>\n",
              "      <td>3</td>\n",
              "      <td>15 Civilians Killed In Single US Airstrike Hav...</td>\n",
              "      <td>Jessica Purkiss</td>\n",
              "      <td>Videos 15 Civilians Killed In Single US Airstr...</td>\n",
              "      <td>1</td>\n",
              "    </tr>\n",
              "    <tr>\n",
              "      <th>4</th>\n",
              "      <td>4</td>\n",
              "      <td>Iranian woman jailed for fictional unpublished...</td>\n",
              "      <td>Howard Portnoy</td>\n",
              "      <td>Print \\nAn Iranian woman has been sentenced to...</td>\n",
              "      <td>1</td>\n",
              "    </tr>\n",
              "    <tr>\n",
              "      <th>...</th>\n",
              "      <td>...</td>\n",
              "      <td>...</td>\n",
              "      <td>...</td>\n",
              "      <td>...</td>\n",
              "      <td>...</td>\n",
              "    </tr>\n",
              "    <tr>\n",
              "      <th>20795</th>\n",
              "      <td>20795</td>\n",
              "      <td>Rapper T.I.: Trump a ’Poster Child For White S...</td>\n",
              "      <td>Jerome Hudson</td>\n",
              "      <td>Rapper T. I. unloaded on black celebrities who...</td>\n",
              "      <td>0</td>\n",
              "    </tr>\n",
              "    <tr>\n",
              "      <th>20796</th>\n",
              "      <td>20796</td>\n",
              "      <td>N.F.L. Playoffs: Schedule, Matchups and Odds -...</td>\n",
              "      <td>Benjamin Hoffman</td>\n",
              "      <td>When the Green Bay Packers lost to the Washing...</td>\n",
              "      <td>0</td>\n",
              "    </tr>\n",
              "    <tr>\n",
              "      <th>20797</th>\n",
              "      <td>20797</td>\n",
              "      <td>Macy’s Is Said to Receive Takeover Approach by...</td>\n",
              "      <td>Michael J. de la Merced and Rachel Abrams</td>\n",
              "      <td>The Macy’s of today grew from the union of sev...</td>\n",
              "      <td>0</td>\n",
              "    </tr>\n",
              "    <tr>\n",
              "      <th>20798</th>\n",
              "      <td>20798</td>\n",
              "      <td>NATO, Russia To Hold Parallel Exercises In Bal...</td>\n",
              "      <td>Alex Ansary</td>\n",
              "      <td>NATO, Russia To Hold Parallel Exercises In Bal...</td>\n",
              "      <td>1</td>\n",
              "    </tr>\n",
              "    <tr>\n",
              "      <th>20799</th>\n",
              "      <td>20799</td>\n",
              "      <td>What Keeps the F-35 Alive</td>\n",
              "      <td>David Swanson</td>\n",
              "      <td>David Swanson is an author, activist, journa...</td>\n",
              "      <td>1</td>\n",
              "    </tr>\n",
              "  </tbody>\n",
              "</table>\n",
              "<p>20800 rows × 5 columns</p>\n",
              "</div>"
            ],
            "text/plain": [
              "          id  ... label\n",
              "0          0  ...     1\n",
              "1          1  ...     0\n",
              "2          2  ...     1\n",
              "3          3  ...     1\n",
              "4          4  ...     1\n",
              "...      ...  ...   ...\n",
              "20795  20795  ...     0\n",
              "20796  20796  ...     0\n",
              "20797  20797  ...     0\n",
              "20798  20798  ...     1\n",
              "20799  20799  ...     1\n",
              "\n",
              "[20800 rows x 5 columns]"
            ]
          },
          "metadata": {
            "tags": []
          },
          "execution_count": 7
        }
      ]
    },
    {
      "cell_type": "code",
      "metadata": {
        "id": "0JMUZE2q3XYP",
        "colab_type": "code",
        "colab": {
          "base_uri": "https://localhost:8080/",
          "height": 225
        },
        "outputId": "ea3a3779-0c62-43a5-fb3c-cd8df6d59683"
      },
      "source": [
        "df_train.info()"
      ],
      "execution_count": 9,
      "outputs": [
        {
          "output_type": "stream",
          "text": [
            "<class 'pandas.core.frame.DataFrame'>\n",
            "RangeIndex: 20800 entries, 0 to 20799\n",
            "Data columns (total 5 columns):\n",
            " #   Column  Non-Null Count  Dtype \n",
            "---  ------  --------------  ----- \n",
            " 0   id      20800 non-null  int64 \n",
            " 1   title   20242 non-null  object\n",
            " 2   author  18843 non-null  object\n",
            " 3   text    20761 non-null  object\n",
            " 4   label   20800 non-null  int64 \n",
            "dtypes: int64(2), object(3)\n",
            "memory usage: 812.6+ KB\n"
          ],
          "name": "stdout"
        }
      ]
    },
    {
      "cell_type": "code",
      "metadata": {
        "id": "yRLRuqyd3PUy",
        "colab_type": "code",
        "colab": {
          "base_uri": "https://localhost:8080/",
          "height": 121
        },
        "outputId": "6ce61299-9fdb-4827-a66a-1d99030118f0"
      },
      "source": [
        "#Check missing value numbers\n",
        "df_train.isnull().sum()"
      ],
      "execution_count": 8,
      "outputs": [
        {
          "output_type": "execute_result",
          "data": {
            "text/plain": [
              "id           0\n",
              "title      558\n",
              "author    1957\n",
              "text        39\n",
              "label        0\n",
              "dtype: int64"
            ]
          },
          "metadata": {
            "tags": []
          },
          "execution_count": 8
        }
      ]
    },
    {
      "cell_type": "code",
      "metadata": {
        "id": "m_O7X4um3x6X",
        "colab_type": "code",
        "colab": {
          "base_uri": "https://localhost:8080/",
          "height": 287
        },
        "outputId": "33befd8d-3b14-4a9f-b6b5-b7eb015739de"
      },
      "source": [
        "#visualize these miissing value numbers\n",
        "sb.heatmap(df_train.isnull(),cbar=False)"
      ],
      "execution_count": 10,
      "outputs": [
        {
          "output_type": "execute_result",
          "data": {
            "text/plain": [
              "<matplotlib.axes._subplots.AxesSubplot at 0x7f0d0a2ba5f8>"
            ]
          },
          "metadata": {
            "tags": []
          },
          "execution_count": 10
        },
        {
          "output_type": "display_data",
          "data": {
            "image/png": "[encoded data removed]",
            "text/plain": [
              "<Figure size 432x288 with 1 Axes>"
            ]
          },
          "metadata": {
            "tags": [],
            "needs_background": "light"
          }
        }
      ]
    },
    {
      "cell_type": "code",
      "metadata": {
        "id": "gPaatKJU5qNU",
        "colab_type": "code",
        "colab": {
          "base_uri": "https://localhost:8080/",
          "height": 35
        },
        "outputId": "6bd9d14d-7815-4ca3-b759-35d425c9c186"
      },
      "source": [
        "# no unique authors\n",
        "len(df_train['author'].unique())"
      ],
      "execution_count": 13,
      "outputs": [
        {
          "output_type": "execute_result",
          "data": {
            "text/plain": [
              "4202"
            ]
          },
          "metadata": {
            "tags": []
          },
          "execution_count": 13
        }
      ]
    },
    {
      "cell_type": "code",
      "metadata": {
        "id": "s1pOWE6c326M",
        "colab_type": "code",
        "colab": {
          "base_uri": "https://localhost:8080/",
          "height": 225
        },
        "outputId": "15935884-2415-4c39-c32d-04d00a0ac597"
      },
      "source": [
        "df_train['author'][df_train['label']==1].value_counts()"
      ],
      "execution_count": 11,
      "outputs": [
        {
          "output_type": "execute_result",
          "data": {
            "text/plain": [
              "admin                      193\n",
              "Pakalert                    86\n",
              "Eddy Lavine                 85\n",
              "Starkman                    84\n",
              "Gillian                     82\n",
              "                          ... \n",
              "Posted At Am On October      1\n",
              "Thaddeus Russell             1\n",
              "Phyllis Bentley              1\n",
              "Jhayla Walls                 1\n",
              "Goldbugger                   1\n",
              "Name: author, Length: 1981, dtype: int64"
            ]
          },
          "metadata": {
            "tags": []
          },
          "execution_count": 11
        }
      ]
    },
    {
      "cell_type": "code",
      "metadata": {
        "id": "ScVk4xFF5i19",
        "colab_type": "code",
        "colab": {
          "base_uri": "https://localhost:8080/",
          "height": 225
        },
        "outputId": "469982ba-9f55-499f-8d33-7d507e9e6878"
      },
      "source": [
        "df_train['author'][df_train['label']==0].value_counts()"
      ],
      "execution_count": 12,
      "outputs": [
        {
          "output_type": "execute_result",
          "data": {
            "text/plain": [
              "Pam Key                                                  242\n",
              "Jerome Hudson                                            166\n",
              "Charlie Spiering                                         141\n",
              "John Hayward                                             140\n",
              "Katherine Rodriguez                                      124\n",
              "                                                        ... \n",
              "Adam Nagourney and Jonathan Martin                         1\n",
              "Sen. Ted Cruz (R-TX)                                       1\n",
              "Paul Elie                                                  1\n",
              "Matthew Rosenberg, Adam Goldman and Emmarie Huetteman      1\n",
              "Annie Stoltie                                              1\n",
              "Name: author, Length: 2225, dtype: int64"
            ]
          },
          "metadata": {
            "tags": []
          },
          "execution_count": 12
        }
      ]
    },
    {
      "cell_type": "code",
      "metadata": {
        "id": "hQ_r4AM87AU2",
        "colab_type": "code",
        "colab": {}
      },
      "source": [
        "#unrealiable authors\n",
        "unr_auth = df_train['author'][df_train['label']==1].to_frame()\n",
        "#reliable authors\n",
        "rel_auth = df_train['author'][df_train['label']==0].to_frame()"
      ],
      "execution_count": 15,
      "outputs": []
    },
    {
      "cell_type": "code",
      "metadata": {
        "id": "7kKoyDFM7hav",
        "colab_type": "code",
        "colab": {
          "base_uri": "https://localhost:8080/",
          "height": 297
        },
        "outputId": "a8d73bf4-4d6e-4725-a36a-4909a6a2156c"
      },
      "source": [
        "sb.countplot(df_train['author'][df_train['label']==0].value_counts())\n",
        "plt.xlabel('reliable_authors')"
      ],
      "execution_count": 16,
      "outputs": [
        {
          "output_type": "execute_result",
          "data": {
            "text/plain": [
              "Text(0.5, 0, 'reliable_authors')"
            ]
          },
          "metadata": {
            "tags": []
          },
          "execution_count": 16
        },
        {
          "output_type": "display_data",
          "data": {
            "image/png": "[encoded data removed]",
            "text/plain": [
              "<Figure size 432x288 with 1 Axes>"
            ]
          },
          "metadata": {
            "tags": [],
            "needs_background": "light"
          }
        }
      ]
    },
    {
      "cell_type": "code",
      "metadata": {
        "id": "BVOUIO_j7lXv",
        "colab_type": "code",
        "colab": {
          "base_uri": "https://localhost:8080/",
          "height": 297
        },
        "outputId": "dc3480c2-db71-41a3-9764-50330bcca0b9"
      },
      "source": [
        "sb.countplot(df_train['author'][df_train['label']==1].value_counts())\n",
        "plt.xlabel('unreliable_authors')"
      ],
      "execution_count": 17,
      "outputs": [
        {
          "output_type": "execute_result",
          "data": {
            "text/plain": [
              "Text(0.5, 0, 'unreliable_authors')"
            ]
          },
          "metadata": {
            "tags": []
          },
          "execution_count": 17
        },
        {
          "output_type": "display_data",
          "data": {
            "image/png": "[encoded data removed]",
            "text/plain": [
              "<Figure size 432x288 with 1 Axes>"
            ]
          },
          "metadata": {
            "tags": [],
            "needs_background": "light"
          }
        }
      ]
    },
    {
      "cell_type": "markdown",
      "metadata": {
        "id": "4K8jvzYn08MC",
        "colab_type": "text"
      },
      "source": [
        "clearly in both scenarios (reliable and unreliable), some authors dominate in writing those articles.(governed by power law)"
      ]
    },
    {
      "cell_type": "markdown",
      "metadata": {
        "id": "55TREJFB1DLk",
        "colab_type": "text"
      },
      "source": [
        "**Lets check how many authors have published both kinds**"
      ]
    },
    {
      "cell_type": "code",
      "metadata": {
        "id": "9eYVBFAt7qhf",
        "colab_type": "code",
        "colab": {}
      },
      "source": [
        "com_auth=pd.concat([unr_auth,rel_auth], axis=1, join='inner')"
      ],
      "execution_count": null,
      "outputs": []
    },
    {
      "cell_type": "code",
      "metadata": {
        "id": "uFBk5lhA8-Y_",
        "colab_type": "code",
        "colab": {
          "base_uri": "https://localhost:8080/",
          "height": 48
        },
        "outputId": "e0632a48-b72b-4135-caed-5feb579a0264"
      },
      "source": [
        "com_auth"
      ],
      "execution_count": null,
      "outputs": [
        {
          "output_type": "execute_result",
          "data": {
            "text/html": [
              "<div>\n",
              "<style scoped>\n",
              "    .dataframe tbody tr th:only-of-type {\n",
              "        vertical-align: middle;\n",
              "    }\n",
              "\n",
              "    .dataframe tbody tr th {\n",
              "        vertical-align: top;\n",
              "    }\n",
              "\n",
              "    .dataframe thead th {\n",
              "        text-align: right;\n",
              "    }\n",
              "</style>\n",
              "<table border=\"1\" class=\"dataframe\">\n",
              "  <thead>\n",
              "    <tr style=\"text-align: right;\">\n",
              "      <th></th>\n",
              "      <th>author</th>\n",
              "      <th>author</th>\n",
              "    </tr>\n",
              "  </thead>\n",
              "  <tbody>\n",
              "  </tbody>\n",
              "</table>\n",
              "</div>"
            ],
            "text/plain": [
              "Empty DataFrame\n",
              "Columns: [author, author]\n",
              "Index: []"
            ]
          },
          "metadata": {
            "tags": []
          },
          "execution_count": 54
        }
      ]
    },
    {
      "cell_type": "markdown",
      "metadata": {
        "id": "zEjizsm71IFM",
        "colab_type": "text"
      },
      "source": [
        "Author either writes reliable or unreliable articles"
      ]
    },
    {
      "cell_type": "markdown",
      "metadata": {
        "id": "onINUk1X1PYm",
        "colab_type": "text"
      },
      "source": [
        "**Check Actual texts**"
      ]
    },
    {
      "cell_type": "code",
      "metadata": {
        "id": "SX21neLT_8Ll",
        "colab_type": "code",
        "colab": {}
      },
      "source": [
        "unr_data = data[data['label']==1]\n",
        "rel_data = data[data['label']==0]"
      ],
      "execution_count": 21,
      "outputs": []
    },
    {
      "cell_type": "code",
      "metadata": {
        "id": "kEtWbu66AOAh",
        "colab_type": "code",
        "colab": {}
      },
      "source": [
        "#unreliable text\n",
        "unr_text=unr_data['text'].values\n",
        "#reliable text\n",
        "rel_text = rel_data['text'].values"
      ],
      "execution_count": 22,
      "outputs": []
    },
    {
      "cell_type": "code",
      "metadata": {
        "id": "x060I2NRAhRa",
        "colab_type": "code",
        "colab": {
          "base_uri": "https://localhost:8080/",
          "height": 139
        },
        "outputId": "bad6f691-7931-4bf8-9679-4ba3e31ee7c4"
      },
      "source": [
        "unr_text[0]"
      ],
      "execution_count": 23,
      "outputs": [
        {
          "output_type": "execute_result",
          "data": {
            "application/vnd.google.colaboratory.intrinsic+json": {
              "type": "string"
            },
            "text/plain": [
              "'House Dem Aide: We Didn’t Even See Comey’s Letter Until Jason Chaffetz Tweeted It By Darrell Lucus on October 30, 2016 Subscribe Jason Chaffetz on the stump in American Fork, Utah ( image courtesy Michael Jolley, available under a Creative Commons-BY license) \\nWith apologies to Keith Olbermann, there is no doubt who the Worst Person in The World is this week–FBI Director James Comey. But according to a House Democratic aide, it looks like we also know who the second-worst person is as well. It turns out that when Comey sent his now-infamous letter announcing that the FBI was looking into emails that may be related to Hillary Clinton’s email server, the ranking Democrats on the relevant committees didn’t hear about it from Comey. They found out via a tweet from one of the Republican committee chairmen. \\nAs we now know, Comey notified the Republican chairmen and Democratic ranking members of the House Intelligence, Judiciary, and Oversight committees that his agency was reviewing emails it had recently discovered in order to see if they contained classified information. Not long after this letter went out, Oversight Committee Chairman Jason Chaffetz set the political world ablaze with this tweet. FBI Dir just informed me, \"The FBI has learned of the existence of emails that appear to be pertinent to the investigation.\" Case reopened \\n— Jason Chaffetz (@jasoninthehouse) October 28, 2016 \\nOf course, we now know that this was not the case . Comey was actually saying that it was reviewing the emails in light of “an unrelated case”–which we now know to be Anthony Weiner’s sexting with a teenager. But apparently such little things as facts didn’t matter to Chaffetz. The Utah Republican had already vowed to initiate a raft of investigations if Hillary wins–at least two years’ worth, and possibly an entire term’s worth of them. Apparently Chaffetz thought the FBI was already doing his work for him–resulting in a tweet that briefly roiled the nation before cooler heads realized it was a dud. \\nBut according to a senior House Democratic aide, misreading that letter may have been the least of Chaffetz’ sins. That aide told Shareblue that his boss and other Democrats didn’t even know about Comey’s letter at the time–and only found out when they checked Twitter. “Democratic Ranking Members on the relevant committees didn’t receive Comey’s letter until after the Republican Chairmen. In fact, the Democratic Ranking Members didn’ receive it until after the Chairman of the Oversight and Government Reform Committee, Jason Chaffetz, tweeted it out and made it public.” \\nSo let’s see if we’ve got this right. The FBI director tells Chaffetz and other GOP committee chairmen about a major development in a potentially politically explosive investigation, and neither Chaffetz nor his other colleagues had the courtesy to let their Democratic counterparts know about it. Instead, according to this aide, he made them find out about it on Twitter. \\nThere has already been talk on Daily Kos that Comey himself provided advance notice of this letter to Chaffetz and other Republicans, giving them time to turn on the spin machine. That may make for good theater, but there is nothing so far that even suggests this is the case. After all, there is nothing so far that suggests that Comey was anything other than grossly incompetent and tone-deaf. \\nWhat it does suggest, however, is that Chaffetz is acting in a way that makes Dan Burton and Darrell Issa look like models of responsibility and bipartisanship. He didn’t even have the decency to notify ranking member Elijah Cummings about something this explosive. If that doesn’t trample on basic standards of fairness, I don’t know what does. \\nGranted, it’s not likely that Chaffetz will have to answer for this. He sits in a ridiculously Republican district anchored in Provo and Orem; it has a Cook Partisan Voting Index of R+25, and gave Mitt Romney a punishing 78 percent of the vote in 2012. Moreover, the Republican House leadership has given its full support to Chaffetz’ planned fishing expedition. But that doesn’t mean we can’t turn the hot lights on him. After all, he is a textbook example of what the House has become under Republican control. And he is also the Second Worst Person in the World. About Darrell Lucus \\nDarrell is a 30-something graduate of the University of North Carolina who considers himself a journalist of the old school. An attempt to turn him into a member of the religious right in college only succeeded in turning him into the religious right\\'s worst nightmare--a charismatic Christian who is an unapologetic liberal. His desire to stand up for those who have been scared into silence only increased when he survived an abusive three-year marriage. You may know him on Daily Kos as Christian Dem in NC . Follow him on Twitter @DarrellLucus or connect with him on Facebook . Click here to buy Darrell a Mello Yello. Connect'"
            ]
          },
          "metadata": {
            "tags": []
          },
          "execution_count": 23
        }
      ]
    },
    {
      "cell_type": "code",
      "metadata": {
        "id": "6fdDZ1YFAjJo",
        "colab_type": "code",
        "colab": {
          "base_uri": "https://localhost:8080/",
          "height": 139
        },
        "outputId": "730edbd6-f9b1-4c94-c506-5005a70d90ce"
      },
      "source": [
        "unr_text[1]"
      ],
      "execution_count": 24,
      "outputs": [
        {
          "output_type": "execute_result",
          "data": {
            "application/vnd.google.colaboratory.intrinsic+json": {
              "type": "string"
            },
            "text/plain": [
              "'Why the Truth Might Get You Fired October 29, 2016 \\nThe tension between intelligence analysts and political policymakers has always been between honest assessments and desired results, with the latter often overwhelming the former, as in the Iraq War, writes Lawrence Davidson. \\nBy Lawrence Davidson \\nFor those who might wonder why foreign policy makers repeatedly make bad choices, some insight might be drawn from the following analysis. The action here plays out in the United States, but the lessons are probably universal. \\nBack in the early spring of 2003, George W. Bush initiated the invasion of Iraq. One of his key public reasons for doing so was the claim that the country’s dictator, Saddam Hussein, was on the verge of developing nuclear weapons and was hiding other weapons of mass destruction. The real reason went beyond that charge and included a long-range plan for “regime change” in the Middle East. President George W. Bush and Vice President Dick Cheney receive an Oval Office briefing from CIA Director George Tenet. Also present is Chief of Staff Andy Card (on right). (White House photo) \\nFor our purposes, we will concentrate on the belief that Iraq was about to become a hostile nuclear power. Why did President Bush and his close associates accept this scenario so readily? \\nThe short answer is Bush wanted, indeed needed, to believe it as a rationale for invading Iraq. At first he had tried to connect Saddam Hussein to the 9/11 attacks on the U.S. Though he never gave up on that stratagem, the lack of evidence made it difficult to rally an American people, already fixated on Afghanistan, to support a war against Baghdad. \\nBut the nuclear weapons gambit proved more fruitful, not because there was any hard evidence for the charge, but because supposedly reliable witnesses, in the persons of exiled anti-Saddam Iraqis (many on the U.S. government’s payroll ), kept telling Bush and his advisers that the nuclear story was true. \\nWhat we had was a U.S. leadership cadre whose worldview literally demanded a mortally dangerous Iraq, and informants who, in order to precipitate the overthrow of Saddam, were willing to tell the tale of pending atomic weapons. The strong desire to believe the tale of a nuclear Iraq lowered the threshold for proof . Likewise, the repeated assertions by assumed dependable Iraqi sources underpinned a nationwide U.S. campaign generating both fear and war fever. \\nSo the U.S. and its allies insisted that the United Nations send in weapons inspectors to scour Iraq for evidence of a nuclear weapons program (as well as chemical and biological weapons). That the inspectors could find no convincing evidence only frustrated the Bush administration and soon forced its hand. \\nOn March 19, 2003, Bush launched the invasion of Iraq with the expectation was that, once in occupation of the country, U.S. inspectors would surely find evidence of those nukes (or at least stockpiles of chemical and biological weapons). They did not. Their Iraqi informants had systematically lied to them. \\nSocial and Behavioral Sciences to the Rescue? \\nThe various U.S. intelligence agencies were thoroughly shaken by this affair, and today, 13 years later, their directors and managers are still trying to sort it out – specifically, how to tell when they are getting “true” intelligence and when they are being lied to. Or, as one intelligence worker has put it, we need “ help to protect us against armies of snake oil salesmen. ” To that end the CIA et al. are in the market for academic assistance. Ahmed Chalabi, head of the Iraqi National Congress, a key supplier of Iraqi defectors with bogus stories of hidden WMD. \\nA “partnership” is being forged between the Office of the Director of National Intelligence (ODNI), which serves as the coordinating center for the sixteen independent U.S. intelligence agencies, and the National Academies of Sciences, Engineering and Medicine . The result of this collaboration will be a “ permanent Intelligence Community Studies Board” to coordinate programs in “social and behavioral science research [that] might strengthen national security .” \\nDespite this effort, it is almost certain that the “social and behavioral sciences” cannot give the spy agencies what they want – a way of detecting lies that is better than their present standard procedures of polygraph tests and interrogations. But even if they could, it might well make no difference, because the real problem is not to be found with the liars. It is to be found with the believers. \\nThe Believers \\nIt is simply not true, as the ODNI leaders seem to assert, that U.S. intelligence agency personnel cannot tell, more often than not, that they are being lied to. This is the case because there are thousands of middle-echelon intelligence workers, desk officers, and specialists who know something closely approaching the truth – that is, they know pretty well what is going on in places like Afghanistan, Iraq, Syria, Libya, Israel, Palestine and elsewhere. Director of National Intelligence James Clapper (right) talks with President Barack Obama in the Oval Office, with John Brennan and other national security aides present. (Photo credit: Office of Director of National Intelligence) \\nTherefore, if someone feeds them “snake oil,” they usually know it. However, having an accurate grasp of things is often to no avail because their superiors – those who got their appointments by accepting a pre-structured worldview – have different criterion for what is “true” than do the analysts. \\nListen to Charles Gaukel, of the National Intelligence Council – yet another organization that acts as a meeting ground for the 16 intelligence agencies. Referring to the search for a way to avoid getting taken in by lies, Gaukel has declared, “ We’re looking for truth. But we’re particularly looking for truth that works. ” Now what might that mean? \\nI can certainly tell you what it means historically. It means that for the power brokers, “truth” must match up, fit with, their worldview – their political and ideological precepts. If it does not fit, it does not “work.” So the intelligence specialists who send their usually accurate assessments up the line to the policy makers often hit a roadblock caused by “group think,” ideological blinkers, and a “we know better” attitude. \\nOn the other hand, as long as what you’re selling the leadership matches up with what they want to believe, you can peddle them anything: imaginary Iraqi nukes, Israel as a Western-style democracy, Saudi Arabia as an indispensable ally, Libya as a liberated country, Bashar al-Assad as the real roadblock to peace in Syria, the Strategic Defense Initiative (SDI) aka Star Wars, a world that is getting colder and not warmer, American exceptionalism in all its glory – the list is almost endless. \\nWhat does this sad tale tell us? If you want to spend millions of dollars on social and behavioral science research to improve the assessment and use of intelligence, forget about the liars. What you want to look for is an antidote to the narrow-mindedness of the believers – the policymakers who seem not to be able to rise above the ideological presumptions of their class – presumptions that underpin their self-confidence as they lead us all down slippery slopes. \\nIt has happened this way so often, and in so many places, that it is the source of Shakespeare’s determination that “what is past, is prelude.” Our elites play out our destinies as if they have no free will – no capacity to break with structured ways of seeing. Yet the middle-echelon specialists keep sending their relatively accurate assessments up the ladder of power. Hope springs eternal.'"
            ]
          },
          "metadata": {
            "tags": []
          },
          "execution_count": 24
        }
      ]
    },
    {
      "cell_type": "code",
      "metadata": {
        "id": "hbNxObMnAvFC",
        "colab_type": "code",
        "colab": {
          "base_uri": "https://localhost:8080/",
          "height": 139
        },
        "outputId": "5274e9a8-ba08-4139-84be-70111f71df2c"
      },
      "source": [
        "unr_text[2]"
      ],
      "execution_count": 25,
      "outputs": [
        {
          "output_type": "execute_result",
          "data": {
            "application/vnd.google.colaboratory.intrinsic+json": {
              "type": "string"
            },
            "text/plain": [
              "'Videos 15 Civilians Killed In Single US Airstrike Have Been Identified The rate at which civilians are being killed by American airstrikes in Afghanistan is now higher than it was in 2014 when the US was engaged in active combat operations.   Photo of Hellfire missiles being loaded onto a US military Reaper drone in Afghanistan by Staff Sgt. Brian Ferguson/U.S. Air Force. \\nThe Bureau has been able to identify 15 civilians killed in a single US drone strike in Afghanistan last month – the biggest loss of civilian life in one strike since the attack on the Medecins Sans Frontieres hospital (MSF) last October. \\nThe US claimed it had conducted a “counter-terrorism” strike against Islamic State (IS) fighters when it hit Nangarhar province with missiles on September 28. But the next day the United Nations issued an unusually rapid and strong statement saying the strike had killed 15 civilians and injured 13 others who had gathered at a house to celebrate a tribal elder’s return from a pilgrimage to Mecca. \\nThe Bureau spoke to a man named Haji Rais who said he was the owner of the house that was targeted. He said 15 people were killed and 19 others injured, and provided their names (listed below). The Bureau was able to independently verify the identities of those who died. \\nRais’ son, a headmaster at a local school, was among them. Another man, Abdul Hakim, lost three of his sons in the attack. \\nRais said he had no involvement with IS and denied US claims that IS members had visited his house before the strike. He said: “I did not even speak to those sort of people on the phone let alone receiving them in my house.” \\nThe deaths amount to the biggest confirmed loss of civilian life in a single American strike in Afghanistan since the attack on the MSF hospital in Kunduz last October, which killed at least 42 people. \\nThe Nangarhar strike was not the only US attack to kill civilians in September. The Bureau’s data indicates that as many as 45 civilians and allied soldiers were killed in four American strikes in Afghanistan and Somalia that month. \\nOn September 18 a pair of strikes killed eight Afghan policemen in Tarinkot, the capital of Urozgan provice. US jets reportedly hit a police checkpoint, killing one officer, before returning to target first responders. The use of this tactic – known as a “double-tap” strike – is controversial because they often hit civilian rescuers. \\nThe US told the Bureau it had conducted the strike against individuals firing on and posing a threat to Afghan forces. The email did not directly address the allegations of Afghan policemen being killed. \\nAt the end of the month in Somalia, citizens burnt US flags on the streets of the north-central city of Galcayo after it emerged a drone attack may have unintentionally killed 22 Somali soldiers and civilians. The strike occurred on the same day as the one in Nangarhar. \\nIn both the Somali and Afghan incidents, the US at first denied that any non-combatants had been killed. It is now investigating both the strikes in Nangarhar and Galcayo. \\nThe rate at which civilians are being killed by American airstrikes in Afghanistan is now higher than it was in 2014 when the US was engaged in active combat operations. Name'"
            ]
          },
          "metadata": {
            "tags": []
          },
          "execution_count": 25
        }
      ]
    },
    {
      "cell_type": "markdown",
      "metadata": {
        "id": "h7sZa8Ho1dcm",
        "colab_type": "text"
      },
      "source": [
        "After going thru above examples, I see its about US politics, talking about Hillary Clinton emails, Iraq war, terrorism etc."
      ]
    },
    {
      "cell_type": "markdown",
      "metadata": {
        "id": "WUHSTWj_2Y2T",
        "colab_type": "text"
      },
      "source": [
        "We can use Topic modelling to understand bit more about the variations of content of the texts."
      ]
    },
    {
      "cell_type": "markdown",
      "metadata": {
        "id": "lv7_NlZJ2mbV",
        "colab_type": "text"
      },
      "source": [
        "**Perform Topic Modelling**"
      ]
    },
    {
      "cell_type": "code",
      "metadata": {
        "id": "JAucklsDYjv3",
        "colab_type": "code",
        "colab": {
          "base_uri": "https://localhost:8080/",
          "height": 87
        },
        "outputId": "9662c02a-3df6-44c5-fd6f-4a2213c63bb3"
      },
      "source": [
        "import spacy\n",
        "spacy.load('en')\n",
        "from spacy.lang.en import English\n",
        "parser = English()\n",
        "#tokenize texts spacy parser\n",
        "def tokenize_text(text):\n",
        "    lda_tokens = []\n",
        "    tokens = parser(text)\n",
        "    for token in tokens:\n",
        "        if token.orth_.isspace():\n",
        "            continue\n",
        "        elif token.like_url:\n",
        "            lda_tokens.append('URL')\n",
        "        elif token.orth_.startswith('@'):\n",
        "            lda_tokens.append('SCREEN_NAME')\n",
        "        else:\n",
        "            lda_tokens.append(token.lower_)\n",
        "    return lda_tokens\n",
        "\n",
        "nltk.download('wordnet')\n",
        "from nltk.corpus import wordnet as wn\n",
        "def get_lemma(word):\n",
        "    lemma = wn.morphy(word)\n",
        "    if lemma is None:\n",
        "        return word\n",
        "    else:\n",
        "        return lemma\n",
        "    \n",
        "from nltk.stem.wordnet import WordNetLemmatizer\n",
        "def get_lemma2(word):\n",
        "    return WordNetLemmatizer().lemmatize(word)\n",
        "\n",
        "nltk.download('stopwords')\n",
        "en_stop = set(nltk.corpus.stopwords.words('english'))\n",
        "\n",
        "def prepare_text_for_lda(text):\n",
        "    ## restrict tokens with length less than 4 and which are stop words\n",
        "    tokens = tokenize_text(text)\n",
        "    tokens = [token for token in tokens if len(token) > 4]\n",
        "    tokens = [token for token in tokens if token not in en_stop]\n",
        "    tokens = [get_lemma(token) for token in tokens]\n",
        "    return tokens\n",
        "  "
      ],
      "execution_count": 19,
      "outputs": [
        {
          "output_type": "stream",
          "text": [
            "[nltk_data] Downloading package wordnet to /root/nltk_data...\n",
            "[nltk_data]   Unzipping corpora/wordnet.zip.\n",
            "[nltk_data] Downloading package stopwords to /root/nltk_data...\n",
            "[nltk_data]   Unzipping corpora/stopwords.zip.\n"
          ],
          "name": "stdout"
        }
      ]
    },
    {
      "cell_type": "markdown",
      "metadata": {
        "id": "IWELnx7H3nXy",
        "colab_type": "text"
      },
      "source": [
        "Get Topics from Unreliable(fake) texts"
      ]
    },
    {
      "cell_type": "code",
      "metadata": {
        "id": "ULxszf3OBDys",
        "colab_type": "code",
        "colab": {
          "base_uri": "https://localhost:8080/",
          "height": 159
        },
        "outputId": "c57d0702-9488-4f8e-9318-c4dd5b4a52cf"
      },
      "source": [
        "def is_nan(x):\n",
        "    #check for null\n",
        "    return (x != x)\n",
        "\n",
        "text_data=[]\n",
        "#unreliable articles\n",
        "articles = unr_text\n",
        "for line in articles:\n",
        "    if not is_nan(line):\n",
        "      tokens = prepare_text_for_lda(line)\n",
        "      text_data.append(tokens)\n",
        "\n",
        "from gensim import corpora\n",
        "dictionary = corpora.Dictionary(text_data)\n",
        "corpus = [dictionary.doc2bow(text) for text in text_data]\n",
        "import pickle\n",
        "pickle.dump(corpus, open('corpus.pkl', 'wb'))\n",
        "dictionary.save('dictionary.gensim')\n",
        "\n",
        "import gensim\n",
        "NUM_TOPICS = 5\n",
        "ldamodel = gensim.models.ldamodel.LdaModel(corpus, num_topics = NUM_TOPICS, id2word=dictionary, passes=15)\n",
        "ldamodel.save('model5.gensim')\n",
        "topics = ldamodel.print_topics(num_words=4)\n",
        "for topic in topics:\n",
        "    print(topic)\n",
        "\n",
        "dictionary = gensim.corpora.Dictionary.load('dictionary.gensim')\n",
        "corpus = pickle.load(open('corpus.pkl', 'rb'))\n",
        "lda = gensim.models.ldamodel.LdaModel.load('model5.gensim')"
      ],
      "execution_count": 26,
      "outputs": [
        {
          "output_type": "stream",
          "text": [
            "/usr/local/lib/python3.6/dist-packages/smart_open/smart_open_lib.py:254: UserWarning: This function is deprecated, use smart_open.open instead. See the migration notes for details: https://github.com/RaRe-Technologies/smart_open/blob/master/README.rst#migrating-to-the-new-open-function\n",
            "  'See the migration notes for details: %s' % _MIGRATION_NOTES_URL\n"
          ],
          "name": "stderr"
        },
        {
          "output_type": "stream",
          "text": [
            "(0, '0.006*\"people\" + 0.006*\"world\" + 0.004*\"would\" + 0.004*\"system\"')\n",
            "(1, '0.010*\"russia\" + 0.009*\"state\" + 0.007*\"government\" + 0.007*\"russian\"')\n",
            "(2, '0.024*\"trump\" + 0.020*\"clinton\" + 0.014*\"hillary\" + 0.011*\"election\"')\n",
            "(3, '0.003*\"pasaportes\" + 0.001*\"будет\" + 0.001*\"pasaporte\" + 0.001*\"migraciones\"')\n",
            "(4, '0.009*\"email\" + 0.005*\"clinton\" + 0.005*\"police\" + 0.005*\"state\"')\n"
          ],
          "name": "stdout"
        }
      ]
    },
    {
      "cell_type": "code",
      "metadata": {
        "id": "f9GSlgr8Ybdj",
        "colab_type": "code",
        "colab": {
          "base_uri": "https://localhost:8080/",
          "height": 880
        },
        "outputId": "cba74a55-c84f-4689-b005-3c652346907d"
      },
      "source": [
        "import pyLDAvis.gensim\n",
        "lda_display = pyLDAvis.gensim.prepare(lda, corpus, dictionary, sort_topics=False)\n",
        "pyLDAvis.display(lda_display)"
      ],
      "execution_count": null,
      "outputs": [
        {
          "output_type": "execute_result",
          "data": {
            "text/html": [
              "\n",
              "<link rel=\"stylesheet\" type=\"text/css\" href=\"https://cdn.rawgit.com/bmabey/pyLDAvis/files/ldavis.v1.0.0.css\">\n",
              "\n",
              "\n",
              "<div id=\"ldavis_el1061402614383449123057805474\"></div>\n",
              "<script type=\"text/javascript\">\n",
              "\n",
              "var ldavis_el1061402614383449123057805474_data = {\"mdsDat\": {\"x\": [-0.10746438385851542, -0.1292356472445031, -0.11711320112604975, -0.09883454247623213, 0.4526477747053005], \"y\": [0.097388097778782, 0.0782387069031717, -0.023688840371733872, -0.156989779478336, 0.005051815168116332], \"topics\": [1, 2, 3, 4, 5], \"cluster\": [1, 1, 1, 1, 1], \"Freq\": [21.651016235351562, 30.39039421081543, 25.874269485473633, 17.36678123474121, 4.717545509338379]}, \"tinfo\": {\"Term\": [\"trump\", \"clinton\", \"hillary\", \"election\", \"russia\", \"russian\", \"syria\", \"donald\", \"email\", \"military\", \"president\", \"campaign\", \"water\", \"obama\", \"voter\", \"republican\", \"syrian\", \"health\", \"presidential\", \"candidate\", \"israel\", \"foreign\", \"investigation\", \"world\", \"democrat\", \"country\", \"saudi\", \"government\", \"democratic\", \"putin\", \"syria\", \"syrian\", \"saudi\", \"ukraine\", \"aleppo\", \"palestinian\", \"missile\", \"mosul\", \"moscow\", \"iraqi\", \"pakistan\", \"palestine\", \"humanitarian\", \"ukrainian\", \"yemen\", \"turkish\", \"sunni\", \"assad\", \"kashmir\", \"ethiopia\", \"nusra\", \"arab\", \"crimea\", \"admiral\", \"bashar\", \"balfour\", \"kurdish\", \"siege\", \"airstrikes\", \"lebanon\", \"russia\", \"zionist\", \"turkey\", \"arabia\", \"russian\", \"israel\", \"civilian\", \"putin\", \"military\", \"qaeda\", \"regime\", \"rebel\", \"terrorist\", \"nuclear\", \"islamic\", \"israeli\", \"minister\", \"international\", \"western\", \"china\", \"foreign\", \"europe\", \"force\", \"weapon\", \"government\", \"country\", \"unite\", \"policy\", \"state\", \"attack\", \"security\", \"world\", \"would\", \"group\", \"power\", \"american\", \"president\", \"political\", \"people\", \"support\", \"trump\", \"voter\", \"comey\", \"nominee\", \"hillary\", \"ballot\", \"bernie\", \"assange\", \"clinton\", \"reopen\", \"kelly\", \"romney\", \"podesta\", \"stevens\", \"kadzik\", \"epstein\", \"veritas\", \"stein\", \"kaine\", \"breitbart\", \"nomination\", \"rigging\", \"wikileaks\", \"loretta\", \"gingrich\", \"teneo\", \"walsh\", \"mccabe\", \"stahl\", \"candidacy\", \"donald\", \"democrat\", \"voting\", \"server\", \"sander\", \"election\", \"lynch\", \"electoral\", \"biden\", \"republican\", \"candidate\", \"investigation\", \"email\", \"presidential\", \"weiner\", \"polls\", \"campaign\", \"vote\", \"democratic\", \"SCREEN_NAME\", \"supporter\", \"obama\", \"president\", \"foundation\", \"party\", \"elect\", \"house\", \"medium\", \"state\", \"american\", \"would\", \"political\", \"could\", \"people\", \"report\", \"going\", \"october\", \"white\", \"america\", \"right\", \"burton\", \"teacher\", \"pilgrim\", \"teaching\", \"transgender\", \"soul\", \"heaven\", \"wampanoag\", \"rankin\", \"christianity\", \"feminism\", \"christmas\", \"youngstown\", \"ritual\", \"divine\", \"separateness\", \"inmate\", \"python\", \"vatican\", \"celebration\", \"brooks\", \"feast\", \"angel\", \"savage\", \"danila\", \"compassion\", \"rectenwald\", \"illuminati\", \"spiritual\", \"awaken\", \"consciousness\", \"campus\", \"religion\", \"artist\", \"bible\", \"jesus\", \"plymouth\", \"gender\", \"church\", \"teach\", \"parent\", \"spirit\", \"culture\", \"student\", \"diversity\", \"music\", \"jungle\", \"christ\", \"identity\", \"child\", \"thanksgiving\", \"school\", \"black\", \"woman\", \"english\", \"humanity\", \"love\", \"police\", \"christian\", \"people\", \"society\", \"living\", \"young\", \"officer\", \"things\", \"world\", \"right\", \"family\", \"social\", \"life\", \"white\", \"thought\", \"always\", \"become\", \"think\", \"really\", \"never\", \"every\", \"would\", \"place\", \"years\", \"human\", \"believe\", \"american\", \"first\", \"could\", \"going\", \"america\", \"change\", \"state\", \"country\", \"power\", \"vaccine\", \"food\", \"vitamin\", \"solar\", \"sioux\", \"bundy\", \"marijuana\", \"infection\", \"magnetic\", \"cannabis\", \"ferment\", \"mustard\", \"sugar\", \"vegetable\", \"wildlife\", \"ingredient\", \"protein\", \"insurer\", \"ammon\", \"glutathione\", \"toxin\", \"constipation\", \"nutrient\", \"juice\", \"inflation\", \"vaccination\", \"nutrition\", \"diabetes\", \"calcium\", \"autism\", \"dakota\", \"mercury\", \"water\", \"cancer\", \"protector\", \"disease\", \"patient\", \"mineral\", \"health\", \"metal\", \"consumer\", \"juror\", \"market\", \"medicine\", \"silver\", \"plant\", \"healthcare\", \"investor\", \"company\", \"product\", \"pipeline\", \"energy\", \"price\", \"scientist\", \"study\", \"medical\", \"industry\", \"increase\", \"technology\", \"standing\", \"doctor\", \"insurance\", \"research\", \"brain\", \"access\", \"system\", \"cause\", \"percent\", \"federal\", \"dollar\", \"result\", \"report\", \"could\", \"money\", \"people\", \"years\", \"would\", \"government\", \"first\", \"include\", \"source\", \"world\", \"state\", \"accord\", \"million\", \"found\", \"since\", \"change\", \"pasaportes\", \"\\u0431\\u0443\\u0434\\u0435\\u0442\", \"pasaporte\", \"migraciones\", \"nicht\", \"entre\", \"\\u0447\\u0442\\u043e\\u0431\\u044b\", \"\\u043a\\u043e\\u0442\\u043e\\u0440\\u044b\\u0435\", \"\\u0442\\u0430\\u043a\\u0436\\u0435\", \"\\u0431\\u043e\\u043b\\u0435\\u0435\", \"\\u0440\\u043e\\u0441\\u0441\\u0438\\u0438\", \"\\u043e\\u0447\\u0435\\u043d\\u044c\", \"\\u0442\\u043e\\u043b\\u044c\\u043a\\u043e\", \"\\u043f\\u0440\\u0435\\u0437\\u0438\\u0434\\u0435\\u043d\\u0442\\u0430\", \"sobre\", \"\\u0442\\u0440\\u0430\\u043c\\u043f\\u0430\", \"gobierno\", \"\\u0441\\u0435\\u0433\\u043e\\u0434\\u043d\\u044f\", \"uni\\u00f3n\", \"\\u043c\\u043e\\u0436\\u0435\\u0442\", \"\\u0432\\u043e\\u043f\\u0440\\u043e\\u0441\", \"\\u0431\\u0435\\u0437\\u043e\\u043f\\u0430\\u0441\\u043d\\u043e\\u0441\\u0442\\u0438\", \"palais\", \"canciller\\u00eda\", \"estados\", \"\\u0441\\u0435\\u0439\\u0447\\u0430\\u0441\", \"\\u043a\\u043e\\u0433\\u0434\\u0430\", \"\\u043c\\u0435\\u0436\\u0434\\u0443\", \"\\u044d\\u0442\\u043e\\u0433\\u043e\", \"\\u043e\\u0434\\u043d\\u0430\\u043a\\u043e\", \"mundo\", \"presidente\"], \"Freq\": [19486.0, 19493.0, 11758.0, 9514.0, 6155.0, 4307.0, 3875.0, 4980.0, 6423.0, 4082.0, 8398.0, 6163.0, 2939.0, 6808.0, 3175.0, 3670.0, 2226.0, 2616.0, 3241.0, 3088.0, 2231.0, 3067.0, 2892.0, 9373.0, 2486.0, 7265.0, 1755.0, 8465.0, 2916.0, 1891.0, 3874.8759765625, 2226.160888671875, 1754.6875, 1123.2850341796875, 1031.4454345703125, 1019.8921508789062, 912.0230102539062, 834.5797119140625, 682.2952270507812, 623.8422241210938, 563.2296142578125, 537.3618774414062, 537.19189453125, 480.90399169921875, 425.11505126953125, 388.9752197265625, 298.4223327636719, 769.1761474609375, 287.43634033203125, 280.2256774902344, 274.878662109375, 266.5190124511719, 238.8886260986328, 242.292236328125, 225.54989624023438, 207.37046813964844, 200.8267364501953, 200.73342895507812, 198.55369567871094, 177.3177947998047, 6053.85107421875, 500.62158203125, 888.720947265625, 882.235595703125, 4146.78759765625, 2158.244140625, 1017.070068359375, 1827.392578125, 3875.22705078125, 531.7315063476562, 1263.423583984375, 640.259765625, 1633.9866943359375, 1766.2835693359375, 890.9275512695312, 761.9883422851562, 1097.0814208984375, 1821.9227294921875, 1652.36376953125, 1556.560546875, 2392.31396484375, 1245.7078857421875, 3169.3408203125, 1330.3592529296875, 4363.244140625, 3900.94775390625, 2536.22900390625, 2304.22216796875, 5318.95556640625, 1958.1080322265625, 1743.6263427734375, 3266.513916015625, 3241.626708984375, 1874.7447509765625, 1949.204345703125, 2346.97607421875, 2172.213134765625, 1736.14990234375, 2184.6748046875, 1615.1943359375, 19485.646484375, 3175.02880859375, 2061.84326171875, 1228.7506103515625, 11750.224609375, 766.988037109375, 721.3048095703125, 656.599365234375, 19467.01171875, 438.1144714355469, 429.7644958496094, 351.6050720214844, 1629.8157958984375, 323.8105773925781, 293.853759765625, 279.3873291015625, 265.7061767578125, 248.4488983154297, 247.63111877441406, 247.34030151367188, 232.9369659423828, 222.24708557128906, 1751.271728515625, 199.28555297851562, 193.1810302734375, 186.6446533203125, 191.55535888671875, 174.8811798095703, 171.6038360595703, 172.44223022460938, 4952.3828125, 2465.8515625, 1994.103515625, 1128.825927734375, 982.1968994140625, 9187.1787109375, 518.7642211914062, 857.1384887695312, 365.5462951660156, 3555.29541015625, 2993.862548828125, 2804.658203125, 6122.85400390625, 3114.278564453125, 948.9994506835938, 924.3796997070312, 5570.0966796875, 1794.1517333984375, 2664.6630859375, 2232.72998046875, 1621.423828125, 5466.375, 6156.4521484375, 1714.8995361328125, 3562.981201171875, 1589.5980224609375, 2671.6142578125, 3717.221435546875, 7065.9287109375, 4945.7451171875, 5572.06640625, 2760.900390625, 3039.092041015625, 4014.81689453125, 2660.58349609375, 2463.929931640625, 2224.775146484375, 2283.33203125, 2288.1044921875, 2267.7548828125, 402.6286926269531, 426.04705810546875, 222.52749633789062, 208.0670623779297, 172.0508270263672, 166.86337280273438, 166.41429138183594, 161.10691833496094, 153.30563354492188, 137.51417541503906, 133.03318786621094, 131.1302947998047, 127.67839813232422, 131.17068481445312, 122.99937438964844, 120.884765625, 120.76486206054688, 120.2606430053711, 120.86985778808594, 114.08474731445312, 113.66104125976562, 109.86061096191406, 107.58660125732422, 148.2990264892578, 103.43514251708984, 101.55484771728516, 99.06529235839844, 96.74353790283203, 335.166015625, 92.63668823242188, 615.28759765625, 313.1718444824219, 528.2117919921875, 182.78207397460938, 236.65419006347656, 515.5779418945312, 156.41513061523438, 499.5129699707031, 846.9854736328125, 527.8177490234375, 786.0897827148438, 420.7489318847656, 978.1944580078125, 1365.5621337890625, 287.4327697753906, 225.5347900390625, 237.3514404296875, 331.4557800292969, 539.4942626953125, 2876.687255859375, 318.2187194824219, 1368.28955078125, 2476.821533203125, 2912.24169921875, 486.87774658203125, 502.9510803222656, 456.8153381347656, 2224.970458984375, 921.770751953125, 7851.5986328125, 1161.1197509765625, 948.6340942382812, 894.5407104492188, 1124.545166015625, 1693.902099609375, 4264.5224609375, 3370.759765625, 1625.9051513671875, 1377.34326171875, 1037.1939697265625, 2306.252197265625, 1167.6751708984375, 1238.5264892578125, 2166.49658203125, 2175.298095703125, 1551.58984375, 1732.985595703125, 1714.7724609375, 3802.456787109375, 1638.821533203125, 2236.654541015625, 1324.7518310546875, 1416.3486328125, 2402.286865234375, 1921.6041259765625, 2090.98828125, 1724.756591796875, 1634.2054443359375, 1631.9151611328125, 2175.586669921875, 1684.781494140625, 1473.0811767578125, 711.7664794921875, 612.2618408203125, 481.16265869140625, 444.86468505859375, 350.74169921875, 314.7508239746094, 312.98419189453125, 267.94439697265625, 264.17291259765625, 250.35986328125, 241.73114013671875, 230.6294403076172, 217.39869689941406, 209.72694396972656, 199.97406005859375, 195.88270568847656, 186.5587615966797, 186.87803649902344, 184.0093994140625, 175.63247680664062, 171.46067810058594, 166.41795349121094, 154.87265014648438, 154.31045532226562, 254.07362365722656, 136.56544494628906, 132.76104736328125, 131.1390380859375, 119.4246597290039, 117.66496276855469, 884.8978271484375, 180.2645721435547, 2801.736328125, 868.1041259765625, 424.7999267578125, 729.349609375, 411.717529296875, 191.5095672607422, 2154.838623046875, 290.1449279785156, 427.44384765625, 407.2684326171875, 1623.0789794921875, 435.5130615234375, 504.53125, 685.2835693359375, 640.709228515625, 476.74847412109375, 1628.2562255859375, 735.3720092773438, 1101.53466796875, 1105.0120849609375, 861.5343627929688, 555.1586303710938, 1319.1636962890625, 716.1173095703125, 774.6159057617188, 1324.0145263671875, 646.1373291015625, 787.876708984375, 584.449462890625, 557.5532836914062, 787.735595703125, 614.8342895507812, 834.696044921875, 1583.9873046875, 1036.7772216796875, 1152.5811767578125, 1096.436767578125, 878.3944091796875, 1130.609130859375, 1425.89404296875, 1540.375, 1078.31689453125, 1806.83544921875, 1310.1944580078125, 1623.4000244140625, 1382.84423828125, 1252.6766357421875, 1126.08642578125, 1017.9796752929688, 1287.9287109375, 1333.174072265625, 969.6798706054688, 930.1580810546875, 905.4029541015625, 920.9990844726562, 888.0972290039062, 451.8533020019531, 187.68821716308594, 179.58465576171875, 172.9524383544922, 163.14463806152344, 162.26788330078125, 161.16738891601562, 152.37313842773438, 147.4497833251953, 147.31687927246094, 146.87294006347656, 144.61947631835938, 140.42613220214844, 136.31048583984375, 134.40045166015625, 126.8619384765625, 120.76556396484375, 116.76476287841797, 116.32289123535156, 114.84736633300781, 110.59353637695312, 109.37325286865234, 108.43952178955078, 107.32756805419922, 105.21343231201172, 104.41130065917969, 99.53328704833984, 99.51449584960938, 99.17455291748047, 97.90276336669922, 102.20880126953125, 141.8671112060547], \"Total\": [19486.0, 19493.0, 11758.0, 9514.0, 6155.0, 4307.0, 3875.0, 4980.0, 6423.0, 4082.0, 8398.0, 6163.0, 2939.0, 6808.0, 3175.0, 3670.0, 2226.0, 2616.0, 3241.0, 3088.0, 2231.0, 3067.0, 2892.0, 9373.0, 2486.0, 7265.0, 1755.0, 8465.0, 2916.0, 1891.0, 3875.634033203125, 2226.9169921875, 1755.451171875, 1124.051513671875, 1032.2069091796875, 1020.6536254882812, 912.7831420898438, 835.3379516601562, 683.0547485351562, 624.6005859375, 563.9933471679688, 538.1217651367188, 537.9605712890625, 481.66156005859375, 425.8714294433594, 389.7323913574219, 299.1783447265625, 771.1795654296875, 288.1993408203125, 280.98870849609375, 275.6338195800781, 267.2813720703125, 239.64962768554688, 243.06446838378906, 226.30581665039062, 208.1292724609375, 201.5814666748047, 201.49667358398438, 199.30958557128906, 178.08135986328125, 6155.32080078125, 503.10614013671875, 898.3684692382812, 896.58740234375, 4307.2998046875, 2231.441162109375, 1037.7734375, 1891.867919921875, 4082.62744140625, 539.2894897460938, 1320.0687255859375, 657.1220092773438, 1734.5167236328125, 1890.518798828125, 927.8914794921875, 794.249267578125, 1183.321044921875, 2162.04443359375, 1938.8465576171875, 1839.3492431640625, 3067.58251953125, 1461.029296875, 4915.197265625, 1639.9564208984375, 8465.05078125, 7265.423828125, 4487.40625, 4014.6572265625, 15893.8134765625, 3395.69873046875, 2834.03662109375, 9373.697265625, 14239.7177734375, 4181.02685546875, 4946.38134765625, 10283.380859375, 8398.6240234375, 5220.1572265625, 15858.0927734375, 4219.94580078125, 19486.44140625, 3175.787841796875, 2062.593505859375, 1229.506591796875, 11758.1240234375, 767.7454833984375, 722.0598754882812, 657.3525390625, 19493.337890625, 438.8706970214844, 430.5270690917969, 352.3578186035156, 1633.60791015625, 324.5640563964844, 294.6033630371094, 280.1409606933594, 266.4580078125, 249.20436096191406, 248.38430786132812, 248.0988311767578, 233.69337463378906, 223.0045166015625, 1757.7611083984375, 200.03736877441406, 193.9325408935547, 187.3954620361328, 192.3347930908203, 175.6311492919922, 172.3544464111328, 173.19976806640625, 4980.10107421875, 2486.46484375, 2015.4830322265625, 1136.6678466796875, 991.5403442382812, 9514.7587890625, 521.9573974609375, 867.4624633789062, 368.2781066894531, 3670.2392578125, 3088.932373046875, 2892.625244140625, 6423.35546875, 3241.558837890625, 966.9625244140625, 947.0108642578125, 6163.56005859375, 1923.1337890625, 2916.453857421875, 2433.619140625, 1758.9180908203125, 6808.96240234375, 8398.6240234375, 1986.21875, 4903.14990234375, 1914.105712890625, 3845.072021484375, 6332.556640625, 15893.8134765625, 10283.380859375, 14239.7177734375, 5220.1572265625, 7811.0205078125, 15858.0927734375, 6033.37451171875, 5070.07421875, 3755.562255859375, 4842.02392578125, 4943.21240234375, 7307.1279296875, 403.3761291503906, 427.3231201171875, 223.27822875976562, 208.82171630859375, 172.80299377441406, 167.61505126953125, 167.1658477783203, 161.8566131591797, 154.0587615966797, 138.26559448242188, 133.78457641601562, 131.88307189941406, 128.42440795898438, 131.94317626953125, 123.75053405761719, 121.63488006591797, 121.51982879638672, 121.02044677734375, 121.64955139160156, 114.8389892578125, 114.4166488647461, 110.61329650878906, 108.33759307861328, 149.3476104736328, 104.18292999267578, 102.30281066894531, 99.81652069091797, 97.50059509277344, 337.8531494140625, 93.38905334472656, 621.5355834960938, 317.91253662109375, 542.8671875, 185.68417358398438, 241.9115447998047, 538.8072509765625, 158.75747680664062, 525.7681274414062, 910.2625732421875, 557.1599731445312, 847.8181762695312, 442.5822448730469, 1076.6390380859375, 1533.6473388671875, 301.9572448730469, 233.79180908203125, 247.2847900390625, 355.3448181152344, 600.2398681640625, 3637.384033203125, 344.1327209472656, 1750.7880859375, 3421.306884765625, 4186.458984375, 562.5872192382812, 588.5518188476562, 527.4398803710938, 3256.00341796875, 1204.9893798828125, 15858.0927734375, 1666.67138671875, 1308.1519775390625, 1224.3638916015625, 1665.653564453125, 2821.140625, 9373.697265625, 7307.1279296875, 2786.678955078125, 2325.29541015625, 1585.178466796875, 4842.02392578125, 1886.01708984375, 2076.931640625, 4872.83251953125, 5039.4931640625, 2997.42919921875, 3565.801025390625, 3514.06787109375, 14239.7177734375, 3482.303466796875, 6267.15869140625, 2471.847412109375, 3118.0498046875, 10283.380859375, 6211.70361328125, 7811.0205078125, 5070.07421875, 4943.21240234375, 5098.55224609375, 15893.8134765625, 7265.423828125, 4946.38134765625, 712.5267333984375, 613.022705078125, 481.9174499511719, 445.6404724121094, 351.49957275390625, 315.5093994140625, 313.7440490722656, 268.70721435546875, 264.93841552734375, 251.11692810058594, 242.4849853515625, 231.38955688476562, 218.1610107421875, 210.49057006835938, 200.7339324951172, 196.6518096923828, 187.31295776367188, 187.63424682617188, 184.7711181640625, 176.3863067626953, 172.21746826171875, 167.17185974121094, 155.62681579589844, 155.07057189941406, 255.45614624023438, 137.34095764160156, 133.52578735351562, 131.90884399414062, 120.17910766601562, 118.4283218383789, 894.1790771484375, 181.710205078125, 2939.70703125, 896.107177734375, 433.2345275878906, 767.3008422851562, 426.50714111328125, 193.74835205078125, 2616.0087890625, 304.3426818847656, 465.6158447265625, 445.64288330078125, 2088.261962890625, 484.3567810058594, 571.7963256835938, 814.7318115234375, 757.4258422851562, 540.4466552734375, 2331.05419921875, 918.582763671875, 1497.146240234375, 1553.964111328125, 1164.2640380859375, 672.63330078125, 2071.928955078125, 946.9771728515625, 1053.6256103515625, 2183.278076171875, 852.6781005859375, 1159.904296875, 747.9207763671875, 697.2614135742188, 1261.1905517578125, 832.661376953125, 1446.7130126953125, 4679.31884765625, 2216.724853515625, 2891.458740234375, 2707.88916015625, 1742.2021484375, 3304.9033203125, 6033.37451171875, 7811.0205078125, 3145.603759765625, 15858.0927734375, 6267.15869140625, 14239.7177734375, 8465.05078125, 6211.70361328125, 4648.4375, 3232.65234375, 9373.697265625, 15893.8134765625, 3824.343017578125, 4200.41259765625, 2872.081787109375, 4160.5166015625, 5098.55224609375, 452.6319885253906, 188.4669189453125, 180.36334228515625, 173.7311248779297, 163.92335510253906, 163.0485382080078, 161.94607543945312, 153.15182495117188, 148.22848510742188, 148.09556579589844, 147.6527099609375, 145.39816284179688, 141.20481872558594, 137.08917236328125, 135.1791534423828, 127.64063262939453, 121.54426574707031, 117.54345703125, 117.10159301757812, 115.62606048583984, 111.37223052978516, 110.15194702148438, 109.21843719482422, 108.10626220703125, 105.99215698242188, 105.18999481201172, 100.31198120117188, 100.2931900024414, 99.9532470703125, 98.68145751953125, 103.03682708740234, 144.28733825683594], \"Category\": [\"Default\", \"Default\", \"Default\", \"Default\", \"Default\", \"Default\", \"Default\", \"Default\", \"Default\", \"Default\", \"Default\", \"Default\", \"Default\", \"Default\", \"Default\", \"Default\", \"Default\", \"Default\", \"Default\", \"Default\", \"Default\", \"Default\", \"Default\", \"Default\", \"Default\", \"Default\", \"Default\", \"Default\", \"Default\", \"Default\", \"Topic1\", \"Topic1\", \"Topic1\", \"Topic1\", \"Topic1\", \"Topic1\", \"Topic1\", \"Topic1\", \"Topic1\", \"Topic1\", \"Topic1\", \"Topic1\", \"Topic1\", \"Topic1\", \"Topic1\", \"Topic1\", \"Topic1\", \"Topic1\", \"Topic1\", \"Topic1\", \"Topic1\", \"Topic1\", \"Topic1\", \"Topic1\", \"Topic1\", \"Topic1\", \"Topic1\", \"Topic1\", \"Topic1\", \"Topic1\", \"Topic1\", \"Topic1\", \"Topic1\", \"Topic1\", \"Topic1\", \"Topic1\", \"Topic1\", \"Topic1\", \"Topic1\", \"Topic1\", \"Topic1\", \"Topic1\", \"Topic1\", \"Topic1\", \"Topic1\", \"Topic1\", \"Topic1\", \"Topic1\", \"Topic1\", \"Topic1\", \"Topic1\", \"Topic1\", \"Topic1\", \"Topic1\", \"Topic1\", \"Topic1\", \"Topic1\", \"Topic1\", \"Topic1\", \"Topic1\", \"Topic1\", \"Topic1\", \"Topic1\", \"Topic1\", \"Topic1\", \"Topic1\", \"Topic1\", \"Topic1\", \"Topic1\", \"Topic1\", \"Topic2\", \"Topic2\", \"Topic2\", \"Topic2\", \"Topic2\", \"Topic2\", \"Topic2\", \"Topic2\", \"Topic2\", \"Topic2\", \"Topic2\", \"Topic2\", \"Topic2\", \"Topic2\", \"Topic2\", \"Topic2\", \"Topic2\", \"Topic2\", \"Topic2\", \"Topic2\", \"Topic2\", \"Topic2\", \"Topic2\", \"Topic2\", \"Topic2\", \"Topic2\", \"Topic2\", \"Topic2\", \"Topic2\", \"Topic2\", \"Topic2\", \"Topic2\", \"Topic2\", \"Topic2\", \"Topic2\", \"Topic2\", \"Topic2\", \"Topic2\", \"Topic2\", \"Topic2\", \"Topic2\", \"Topic2\", \"Topic2\", \"Topic2\", \"Topic2\", \"Topic2\", \"Topic2\", \"Topic2\", \"Topic2\", \"Topic2\", \"Topic2\", \"Topic2\", \"Topic2\", \"Topic2\", \"Topic2\", \"Topic2\", \"Topic2\", \"Topic2\", \"Topic2\", \"Topic2\", \"Topic2\", \"Topic2\", \"Topic2\", \"Topic2\", \"Topic2\", \"Topic2\", \"Topic2\", \"Topic2\", \"Topic2\", \"Topic2\", \"Topic3\", \"Topic3\", \"Topic3\", \"Topic3\", \"Topic3\", \"Topic3\", \"Topic3\", \"Topic3\", \"Topic3\", \"Topic3\", \"Topic3\", \"Topic3\", \"Topic3\", \"Topic3\", \"Topic3\", \"Topic3\", \"Topic3\", \"Topic3\", \"Topic3\", \"Topic3\", \"Topic3\", \"Topic3\", \"Topic3\", \"Topic3\", \"Topic3\", \"Topic3\", \"Topic3\", \"Topic3\", \"Topic3\", \"Topic3\", \"Topic3\", \"Topic3\", \"Topic3\", \"Topic3\", \"Topic3\", \"Topic3\", \"Topic3\", \"Topic3\", \"Topic3\", \"Topic3\", \"Topic3\", \"Topic3\", \"Topic3\", \"Topic3\", \"Topic3\", \"Topic3\", \"Topic3\", \"Topic3\", \"Topic3\", \"Topic3\", \"Topic3\", \"Topic3\", \"Topic3\", \"Topic3\", \"Topic3\", \"Topic3\", \"Topic3\", \"Topic3\", \"Topic3\", \"Topic3\", \"Topic3\", \"Topic3\", \"Topic3\", \"Topic3\", \"Topic3\", \"Topic3\", \"Topic3\", \"Topic3\", \"Topic3\", \"Topic3\", \"Topic3\", \"Topic3\", \"Topic3\", \"Topic3\", \"Topic3\", \"Topic3\", \"Topic3\", \"Topic3\", \"Topic3\", \"Topic3\", \"Topic3\", \"Topic3\", \"Topic3\", \"Topic3\", \"Topic3\", \"Topic3\", \"Topic3\", \"Topic3\", \"Topic3\", \"Topic3\", \"Topic3\", \"Topic3\", \"Topic4\", \"Topic4\", \"Topic4\", \"Topic4\", \"Topic4\", \"Topic4\", \"Topic4\", \"Topic4\", \"Topic4\", \"Topic4\", \"Topic4\", \"Topic4\", \"Topic4\", \"Topic4\", \"Topic4\", \"Topic4\", \"Topic4\", \"Topic4\", \"Topic4\", \"Topic4\", \"Topic4\", \"Topic4\", \"Topic4\", \"Topic4\", \"Topic4\", \"Topic4\", \"Topic4\", \"Topic4\", \"Topic4\", \"Topic4\", \"Topic4\", \"Topic4\", \"Topic4\", \"Topic4\", \"Topic4\", \"Topic4\", \"Topic4\", \"Topic4\", \"Topic4\", \"Topic4\", \"Topic4\", \"Topic4\", \"Topic4\", \"Topic4\", \"Topic4\", \"Topic4\", \"Topic4\", \"Topic4\", \"Topic4\", \"Topic4\", \"Topic4\", \"Topic4\", \"Topic4\", \"Topic4\", \"Topic4\", \"Topic4\", \"Topic4\", \"Topic4\", \"Topic4\", \"Topic4\", \"Topic4\", \"Topic4\", \"Topic4\", \"Topic4\", \"Topic4\", \"Topic4\", \"Topic4\", \"Topic4\", \"Topic4\", \"Topic4\", \"Topic4\", \"Topic4\", \"Topic4\", \"Topic4\", \"Topic4\", \"Topic4\", \"Topic4\", \"Topic4\", \"Topic4\", \"Topic4\", \"Topic4\", \"Topic4\", \"Topic4\", \"Topic4\", \"Topic4\", \"Topic4\", \"Topic4\", \"Topic4\", \"Topic5\", \"Topic5\", \"Topic5\", \"Topic5\", \"Topic5\", \"Topic5\", \"Topic5\", \"Topic5\", \"Topic5\", \"Topic5\", \"Topic5\", \"Topic5\", \"Topic5\", \"Topic5\", \"Topic5\", \"Topic5\", \"Topic5\", \"Topic5\", \"Topic5\", \"Topic5\", \"Topic5\", \"Topic5\", \"Topic5\", \"Topic5\", \"Topic5\", \"Topic5\", \"Topic5\", \"Topic5\", \"Topic5\", \"Topic5\", \"Topic5\", \"Topic5\"], \"logprob\": [30.0, 29.0, 28.0, 27.0, 26.0, 25.0, 24.0, 23.0, 22.0, 21.0, 20.0, 19.0, 18.0, 17.0, 16.0, 15.0, 14.0, 13.0, 12.0, 11.0, 10.0, 9.0, 8.0, 7.0, 6.0, 5.0, 4.0, 3.0, 2.0, 1.0, -5.069900035858154, -5.624100208282471, -5.862100124359131, -6.308199882507324, -6.393499851226807, -6.404699802398682, -6.516499996185303, -6.605199813842773, -6.806700229644775, -6.896299839019775, -6.998499870300293, -7.045499801635742, -7.04580020904541, -7.156499862670898, -7.279799938201904, -7.36870002746582, -7.633699893951416, -6.6869001388549805, -7.671199798583984, -7.696599960327148, -7.715799808502197, -7.746699810028076, -7.856200218200684, -7.8420000076293945, -7.913599967956543, -7.997700214385986, -8.02970027923584, -8.030200004577637, -8.041099548339844, -8.154199600219727, -4.623700141906738, -7.116300106048584, -6.542399883270264, -6.549699783325195, -5.002099990844727, -5.655099868774414, -6.40749979019165, -5.821499824523926, -5.069799900054932, -7.056000232696533, -6.1905999183654785, -6.870299816131592, -5.9334001541137695, -5.855500221252441, -6.539899826049805, -6.696199893951416, -6.3317999839782715, -5.82450008392334, -5.9222002029418945, -5.981900215148926, -5.552199840545654, -6.204699993133545, -5.270899772644043, -6.138999938964844, -4.951200008392334, -5.063199996948242, -5.49370002746582, -5.589700222015381, -4.7530999183654785, -5.752399921417236, -5.868500232696533, -5.240699768066406, -5.248300075531006, -5.795899868011475, -5.756999969482422, -5.571300029754639, -5.64870023727417, -5.872799873352051, -5.64300012588501, -5.945000171661377, -3.793800115585327, -5.6082000732421875, -6.039899826049805, -6.557499885559082, -4.299600124359131, -7.028800010681152, -7.090199947357178, -7.184199810028076, -3.794800043106079, -7.588799953460693, -7.607999801635742, -7.808700084686279, -6.275000095367432, -7.89109992980957, -7.9882001876831055, -8.038700103759766, -8.088899612426758, -8.156000137329102, -8.159299850463867, -8.160499572753906, -8.220499992370605, -8.267499923706055, -6.203199863433838, -8.376500129699707, -8.407600402832031, -8.442000389099121, -8.416099548339844, -8.507100105285645, -8.526100158691406, -8.521200180053711, -5.163599967956543, -5.861000061035156, -6.073299884796143, -6.642300128936768, -6.781499862670898, -4.5457000732421875, -7.4197998046875, -6.917699813842773, -7.769899845123291, -5.495100021362305, -5.666900157928467, -5.7322001457214355, -4.951499938964844, -5.627500057220459, -6.815800189971924, -6.842100143432617, -5.04610013961792, -6.178999900817871, -5.783400058746338, -5.960299968719482, -6.280200004577637, -5.064899921417236, -4.946000099182129, -6.224100112915039, -5.4928998947143555, -6.300000190734863, -5.780799865722656, -5.450500011444092, -4.808199882507324, -5.164999961853027, -5.0457000732421875, -5.747900009155273, -5.651899814605713, -5.373499870300293, -5.784900188446045, -5.861700057983398, -5.963799953460693, -5.937900066375732, -5.935800075531006, -5.944699764251709, -7.512400150299072, -7.4558000564575195, -8.105299949645996, -8.172499656677246, -8.362600326538086, -8.393199920654297, -8.395899772644043, -8.428299903869629, -8.477899551391602, -8.586600303649902, -8.619799613952637, -8.634200096130371, -8.660900115966797, -8.633899688720703, -8.698200225830078, -8.715499877929688, -8.716500282287598, -8.72070026397705, -8.715700149536133, -8.77340030670166, -8.777199745178223, -8.811200141906738, -8.832099914550781, -8.511099815368652, -8.871399879455566, -8.889800071716309, -8.914600372314453, -8.938300132751465, -7.695700168609619, -8.98169994354248, -7.0883002281188965, -7.763599872589111, -7.240900039672852, -8.30210018157959, -8.043800354003906, -7.265100002288818, -8.457900047302246, -7.2967000007629395, -6.768700122833252, -7.241600036621094, -6.843299865722656, -7.468299865722656, -6.62470006942749, -6.291100025177002, -7.849400043487549, -8.091899871826172, -8.040800094604492, -7.706900119781494, -7.219699859619141, -5.546000003814697, -7.747600078582764, -6.289100170135498, -5.6956000328063965, -5.533699989318848, -7.322400093078613, -7.289899826049805, -7.386099815368652, -5.8028998374938965, -6.684100151062012, -4.541900157928467, -6.453199863433838, -6.655399799346924, -6.714099884033203, -6.485199928283691, -6.0756001472473145, -5.152299880981445, -5.387499809265137, -6.116600036621094, -6.28249979019165, -6.566100120544434, -5.767000198364258, -6.4475998878479, -6.388700008392334, -5.829500198364258, -5.825500011444092, -6.163300037384033, -6.052800178527832, -6.063300132751465, -5.267000198364258, -6.10860013961792, -5.797599792480469, -6.321400165557861, -6.254499912261963, -5.726200103759766, -5.94950008392334, -5.864999771118164, -6.057499885559082, -6.111499786376953, -6.1128997802734375, -5.825300216674805, -6.080999851226807, -6.2153000831604, -6.543900012969971, -6.694499969482422, -6.935500144958496, -7.013899803161621, -7.2515997886657715, -7.359899997711182, -7.365499973297119, -7.520899772644043, -7.535099983215332, -7.588799953460693, -7.623899936676025, -7.670899868011475, -7.730000019073486, -7.765900135040283, -7.813499927520752, -7.834199905395508, -7.882900238037109, -7.881199836730957, -7.896699905395508, -7.943299770355225, -7.967299938201904, -7.997200012207031, -8.069100379943848, -8.072699546813965, -7.574100017547607, -8.194899559020996, -8.223099708557129, -8.235400199890137, -8.329000473022461, -8.343799591064453, -6.326200008392334, -7.917300224304199, -5.173699855804443, -6.345399856567383, -7.060100078582764, -6.519499778747559, -7.091300010681152, -7.8566999435424805, -5.436200141906738, -7.441299915313721, -7.053899765014648, -7.102200031280518, -5.719600200653076, -7.035200119018555, -6.8881001472473145, -6.581900119781494, -6.649099826812744, -6.944699764251709, -5.716400146484375, -6.511300086975098, -6.1072001457214355, -6.104100227355957, -6.353000164031982, -6.792399883270264, -5.9268999099731445, -6.537799835205078, -6.4593000411987305, -5.923299789428711, -6.640699863433838, -6.442299842834473, -6.741000175476074, -6.788099765777588, -6.442500114440918, -6.690299987792969, -6.3846001625061035, -5.74399995803833, -6.167799949645996, -6.0619001388549805, -6.1118998527526855, -6.333600044250488, -6.081200122833252, -5.849100112915039, -5.771900177001953, -6.128499984741211, -5.612400054931641, -5.933800220489502, -5.719399929046631, -5.879799842834473, -5.978600025177002, -6.08519983291626, -6.186100006103516, -5.950900077819824, -5.916399955749512, -6.2347002029418945, -6.276299953460693, -6.303299903869629, -6.286200046539307, -6.3225998878479, -5.695099830627441, -6.573599815368652, -6.617800235748291, -6.655399799346924, -6.713799953460693, -6.719200134277344, -6.72599983215332, -6.782100200653076, -6.814899921417236, -6.815800189971924, -6.81879997253418, -6.8343000411987305, -6.863699913024902, -6.893499851226807, -6.907599925994873, -6.9653000831604, -7.014599800109863, -7.048299789428711, -7.052000045776367, -7.064799785614014, -7.10260009765625, -7.11359977722168, -7.122200012207031, -7.132500171661377, -7.152400016784668, -7.160099983215332, -7.207900047302246, -7.208099842071533, -7.21150016784668, -7.224400043487549, -7.181399822235107, -6.853499889373779], \"loglift\": [30.0, 29.0, 28.0, 27.0, 26.0, 25.0, 24.0, 23.0, 22.0, 21.0, 20.0, 19.0, 18.0, 17.0, 16.0, 15.0, 14.0, 13.0, 12.0, 11.0, 10.0, 9.0, 8.0, 7.0, 6.0, 5.0, 4.0, 3.0, 2.0, 1.0, 1.5298999547958374, 1.5298000574111938, 1.5297000408172607, 1.5293999910354614, 1.5293999910354614, 1.5293999910354614, 1.5292999744415283, 1.5291999578475952, 1.5290000438690186, 1.5289000272750854, 1.5288000106811523, 1.5286999940872192, 1.5286999940872192, 1.528499960899353, 1.5283000469207764, 1.5282000303268433, 1.5276000499725342, 1.527500033378601, 1.527500033378601, 1.527400016784668, 1.527400016784668, 1.5273000001907349, 1.526900053024292, 1.526900053024292, 1.5268000364303589, 1.5264999866485596, 1.5263999700546265, 1.5262999534606934, 1.5262999534606934, 1.5257999897003174, 1.5134999752044678, 1.5252000093460083, 1.5192999839782715, 1.5140000581741333, 1.4921000003814697, 1.4967999458312988, 1.5099999904632568, 1.4953999519348145, 1.4780000448226929, 1.5160000324249268, 1.486299991607666, 1.50409996509552, 1.4703999757766724, 1.4621000289916992, 1.4895000457763672, 1.488700032234192, 1.4543999433517456, 1.3589999675750732, 1.3702000379562378, 1.3631999492645264, 1.281499981880188, 1.3707000017166138, 1.0913000106811523, 1.3208999633789062, 0.8673999905586243, 0.9082000255584717, 0.9595000147819519, 0.9749000072479248, 0.43549999594688416, 0.9796000123023987, 1.0443999767303467, 0.47589999437332153, 0.050200000405311584, 0.7279999852180481, 0.5989000201225281, 0.05270000174641609, 0.1777999997138977, 0.4293000102043152, -0.45210000872612, 0.5698000192642212, 1.190999984741211, 1.1907999515533447, 1.1907000541687012, 1.1904000043869019, 1.1904000043869019, 1.1900999546051025, 1.190000057220459, 1.1899000406265259, 1.1897000074386597, 1.1892999410629272, 1.1892999410629272, 1.1888999938964844, 1.1886999607086182, 1.1886999607086182, 1.1885000467300415, 1.1883000135421753, 1.1881999969482422, 1.187999963760376, 1.187999963760376, 1.187999963760376, 1.1878000497817993, 1.187600016593933, 1.1872999668121338, 1.1872999668121338, 1.1871999502182007, 1.187000036239624, 1.187000036239624, 1.1868000030517578, 1.1866999864578247, 1.1866999864578247, 1.1855000257492065, 1.1827000379562378, 1.180400013923645, 1.1841000318527222, 1.1815999746322632, 1.156000018119812, 1.1849000453948975, 1.1791000366210938, 1.1835999488830566, 1.1591999530792236, 1.1598000526428223, 1.1601999998092651, 1.1431000232696533, 1.1510000228881836, 1.1722999811172485, 1.1669000387191772, 1.0898000001907349, 1.1216000318527222, 1.1008000373840332, 1.1049000024795532, 1.1095999479293823, 0.9714000225067139, 0.8805000185966492, 1.0441999435424805, 0.8718000054359436, 1.0053000450134277, 0.8269000053405762, 0.65829998254776, 0.38040000200271606, 0.45899999141693115, 0.25279998779296875, 0.554099977016449, 0.24709999561309814, -0.1826000064611435, 0.37229999899864197, 0.46939998865127563, 0.6675000190734863, 0.439300000667572, 0.42080000042915344, 0.020999999716877937, 1.350100040435791, 1.3488999605178833, 1.3486000299453735, 1.3482999801635742, 1.347599983215332, 1.3473999500274658, 1.3473999500274658, 1.3473000526428223, 1.347000002861023, 1.346500039100647, 1.3463000059127808, 1.3461999893188477, 1.3460999727249146, 1.3459999561309814, 1.3458000421524048, 1.3457000255584717, 1.3457000255584717, 1.3456000089645386, 1.3454999923706055, 1.3452999591827393, 1.3452999591827393, 1.3451000452041626, 1.3450000286102295, 1.3449000120162964, 1.3446999788284302, 1.344599962234497, 1.3444000482559204, 1.344099998474121, 1.3438999652862549, 1.3437999486923218, 1.3417999744415283, 1.336899995803833, 1.3245999813079834, 1.3361999988555908, 1.3299000263214111, 1.3078999519348145, 1.3371000289916992, 1.3006999492645264, 1.2798999547958374, 1.2977999448776245, 1.2762999534606934, 1.301300048828125, 1.25600004196167, 1.23580002784729, 1.3026000261306763, 1.315999984741211, 1.3108999729156494, 1.2822999954223633, 1.2452000379562378, 1.117300033569336, 1.2735999822616577, 1.1053999662399292, 1.0289000272750854, 0.9890000224113464, 1.2073999643325806, 1.194700002670288, 1.2081999778747559, 0.9711999893188477, 1.0839999914169312, 0.6489999890327454, 0.9904999732971191, 1.0305999517440796, 1.038100004196167, 0.9591000080108643, 0.8417999744415283, 0.564300000667572, 0.5781999826431274, 0.8130999803543091, 0.8281999826431274, 0.9276999831199646, 0.6101999878883362, 0.8725000023841858, 0.8349999785423279, 0.5414000153541565, 0.5117999911308289, 0.6934000253677368, 0.6304000020027161, 0.6344000101089478, 0.03150000050663948, 0.5982000231742859, 0.3215999901294708, 0.7282000184059143, 0.5627999901771545, -0.10220000147819519, 0.1785999983549118, 0.03400000184774399, 0.2736999988555908, 0.2451000064611435, 0.2126999944448471, -0.6366999745368958, -0.1096000000834465, 0.14059999585151672, 1.749500036239624, 1.749400019645691, 1.7489999532699585, 1.748900055885315, 1.7484999895095825, 1.7482000589370728, 1.7482000589370728, 1.7477999925613403, 1.7476999759674072, 1.7475999593734741, 1.747499942779541, 1.7473000288009644, 1.7470999956130981, 1.746999979019165, 1.7467999458312988, 1.7467000484466553, 1.7466000318527222, 1.7466000318527222, 1.746500015258789, 1.7462999820709229, 1.7461999654769897, 1.7460999488830566, 1.7458000183105469, 1.7457000017166138, 1.7452000379562378, 1.7448999881744385, 1.7448999881744385, 1.7447999715805054, 1.7443000078201294, 1.7440999746322632, 1.7402000427246094, 1.7425999641418457, 1.7024999856948853, 1.7188999652862549, 1.7309000492095947, 1.6999000310897827, 1.7152999639511108, 1.7389999628067017, 1.5566999912261963, 1.7028000354766846, 1.6650999784469604, 1.660599946975708, 1.4986000061035156, 1.6442999839782715, 1.625499963760376, 1.5776000022888184, 1.583299994468689, 1.6252000331878662, 1.391800045967102, 1.5282000303268433, 1.4437999725341797, 1.4097000360488892, 1.4494999647140503, 1.5586999654769897, 1.2991000413894653, 1.4711999893188477, 1.4429999589920044, 1.250499963760376, 1.4731999635696411, 1.3638999462127686, 1.503999948501587, 1.5269999504089355, 1.2799999713897705, 1.4472999572753906, 1.200600028038025, 0.6674000024795532, 0.9907000064849854, 0.8309000134468079, 0.8464999794960022, 1.0657999515533447, 0.6779999732971191, 0.30809998512268066, 0.12710000574588776, 0.6800000071525574, -0.42149999737739563, 0.18549999594688416, -0.42089998722076416, -0.06120000034570694, 0.14949999749660492, 0.3328000009059906, 0.5950999855995178, -0.23430000245571136, -0.7278000116348267, 0.3783999979496002, 0.24300000071525574, 0.5961999893188477, 0.24269999563694, 0.003000000026077032, 3.0522000789642334, 3.0497000217437744, 3.0495998859405518, 3.0494000911712646, 3.049099922180176, 3.049099922180176, 3.049099922180176, 3.048799991607666, 3.0485999584198, 3.0485999584198, 3.0485999584198, 3.0485000610351562, 3.0483999252319336, 3.0481998920440674, 3.048099994659424, 3.047800064086914, 3.047499895095825, 3.0471999645233154, 3.0471999645233154, 3.047100067138672, 3.0469000339508057, 3.046799898147583, 3.0467000007629395, 3.0467000007629395, 3.0464999675750732, 3.0464999675750732, 3.046099901199341, 3.046099901199341, 3.046099901199341, 3.0460000038146973, 3.045799970626831, 3.0369999408721924]}, \"token.table\": {\"Topic\": [1, 2, 3, 4, 5, 1, 2, 3, 4, 1, 2, 3, 4, 1, 1, 1, 1, 2, 3, 4, 1, 2, 3, 4, 1, 2, 3, 4, 4, 3, 1, 1, 5, 3, 4, 1, 5, 2, 1, 2, 3, 4, 4, 3, 1, 2, 1, 1, 2, 3, 4, 1, 2, 3, 4, 2, 2, 3, 1, 2, 5, 1, 2, 3, 4, 1, 2, 3, 4, 2, 3, 4, 3, 4, 1, 2, 3, 1, 3, 3, 4, 5, 2, 1, 2, 3, 4, 4, 1, 2, 3, 4, 3, 1, 2, 3, 4, 1, 2, 3, 4, 1, 2, 3, 4, 5, 2, 3, 1, 2, 3, 5, 3, 3, 1, 3, 1, 3, 1, 2, 5, 2, 1, 2, 3, 4, 3, 3, 4, 4, 2, 3, 4, 1, 2, 3, 4, 1, 2, 3, 4, 1, 1, 3, 4, 5, 2, 4, 3, 1, 2, 1, 2, 4, 3, 4, 2, 3, 4, 3, 1, 2, 3, 4, 1, 2, 3, 4, 5, 2, 3, 5, 1, 2, 3, 1, 2, 1, 2, 5, 1, 2, 3, 4, 5, 1, 2, 3, 4, 1, 2, 3, 5, 5, 2, 5, 1, 1, 3, 4, 1, 2, 3, 4, 1, 2, 3, 4, 5, 3, 1, 2, 3, 4, 5, 3, 4, 1, 2, 3, 4, 4, 1, 2, 3, 4, 5, 1, 2, 3, 4, 1, 2, 3, 4, 1, 2, 3, 4, 2, 3, 2, 4, 5, 1, 2, 3, 4, 1, 2, 3, 4, 5, 1, 2, 3, 4, 5, 1, 2, 3, 4, 2, 3, 4, 3, 1, 2, 5, 1, 2, 3, 4, 1, 2, 3, 4, 1, 1, 3, 4, 1, 2, 3, 3, 1, 2, 3, 4, 1, 2, 3, 4, 1, 2, 3, 4, 4, 1, 4, 4, 3, 2, 3, 4, 4, 1, 2, 3, 4, 5, 1, 2, 4, 1, 2, 4, 1, 1, 3, 1, 3, 5, 1, 3, 2, 3, 4, 3, 4, 3, 4, 2, 2, 1, 2, 1, 1, 1, 2, 3, 4, 1, 2, 3, 4, 2, 1, 2, 3, 4, 1, 2, 4, 4, 1, 2, 3, 4, 2, 1, 2, 3, 4, 1, 3, 4, 1, 2, 3, 4, 5, 3, 4, 2, 4, 5, 5, 1, 2, 3, 1, 2, 3, 4, 1, 4, 1, 2, 3, 1, 1, 2, 3, 4, 1, 1, 5, 2, 3, 4, 4, 1, 2, 3, 4, 5, 2, 2, 1, 2, 3, 4, 1, 4, 4, 1, 2, 3, 5, 1, 2, 3, 4, 1, 2, 3, 4, 1, 5, 1, 1, 2, 3, 4, 1, 2, 3, 4, 5, 5, 3, 4, 1, 2, 3, 4, 1, 2, 3, 4, 3, 1, 4, 1, 2, 3, 4, 1, 2, 3, 4, 5, 3, 5, 2, 5, 1, 2, 3, 4, 1, 2, 3, 4, 1, 2, 3, 2, 4, 1, 2, 3, 4, 1, 2, 3, 3, 5, 1, 2, 1, 2, 3, 4, 1, 2, 3, 4, 1, 4, 4, 1, 2, 5, 3, 1, 5, 3, 1, 2, 3, 4, 1, 3, 3, 1, 2, 3, 5, 1, 3, 2, 1, 2, 3, 4, 1, 2, 1, 2, 3, 4, 1, 2, 3, 4, 2, 1, 2, 3, 4, 3, 2, 1, 2, 1, 2, 2, 3, 1, 3, 1, 2, 3, 4, 2, 3, 4, 1, 2, 3, 4, 3, 2, 5, 1, 1, 2, 3, 4, 1, 2, 3, 4, 4, 5, 1, 2, 3, 4, 5, 1, 2, 3, 4, 4, 3, 1, 2, 3, 4, 1, 2, 3, 5, 3, 4, 2, 1, 2, 3, 4, 1, 2, 3, 4, 2, 2, 2, 3, 4, 1, 3, 4, 4, 1, 1, 2, 3, 4, 1, 2, 3, 4, 1, 1, 1, 2, 3, 4, 1, 2, 3, 1, 3, 3, 1, 2, 3, 4, 2, 1, 2, 3, 3, 4, 1, 2, 3, 4, 1, 2, 3, 4, 1, 2, 3, 4, 4, 3, 2, 1, 4, 1, 1, 1, 1, 2, 3, 4, 5, 4, 4, 3, 4, 2, 4, 1, 2, 2, 1, 2, 3, 2, 3, 1, 2, 3, 4, 1, 2, 3, 4, 1, 2, 5, 1, 3, 4, 1, 2, 3, 4, 2, 5, 4, 1, 2, 3, 4, 1, 2, 3, 4, 1, 2, 3, 4, 1, 2, 3, 4, 1, 1, 2, 3, 4, 3, 1, 3, 5, 5, 5, 5, 5, 5, 5, 5, 5, 5, 5, 5, 5, 5, 5, 5, 5, 5, 5], \"Freq\": [0.012327319011092186, 0.9175634384155273, 0.0008218212751671672, 0.06780025362968445, 0.0016436425503343344, 0.10160964727401733, 0.27579760551452637, 0.04562065750360489, 0.5771704316139221, 0.23350416123867035, 0.3854256868362427, 0.1273421347141266, 0.2536383271217346, 0.995620608329773, 0.9984467029571533, 0.9988307356834412, 0.13674017786979675, 0.13722164928913116, 0.5965530872344971, 0.12999945878982544, 0.18004485964775085, 0.4628569185733795, 0.3305542767047882, 0.026500985026359558, 0.22823233902454376, 0.48097023367881775, 0.23358076810836792, 0.057179637253284454, 0.9958266019821167, 0.9968838691711426, 0.998947262763977, 0.9837300777435303, 0.015614762902259827, 0.9855444431304932, 0.010770977474749088, 0.9971737265586853, 0.0012967148795723915, 0.999463677406311, 0.5766118168830872, 0.2594458758831024, 0.11161178350448608, 0.052419256418943405, 0.9963833093643188, 0.9958340525627136, 0.9945741891860962, 0.9990289807319641, 0.9986486434936523, 0.21896915137767792, 0.19372716546058655, 0.44450533390045166, 0.1426275223493576, 0.11000465601682663, 0.3280896842479706, 0.45413002371788025, 0.10775966197252274, 0.9985321760177612, 0.02066871151328087, 0.9796969294548035, 0.002715339185670018, 0.9938141703605652, 0.002715339185670018, 0.05261147394776344, 0.18063272535800934, 0.7239923477172852, 0.04296603798866272, 0.001200968399643898, 0.01200968399643898, 0.24860045313835144, 0.7385955452919006, 0.9955710172653198, 0.9963585138320923, 0.998385488986969, 0.9990675449371338, 0.990188717842102, 0.09036985039710999, 0.9036985039710999, 0.005840780213475227, 0.012582076713442802, 0.98454749584198, 0.030130324885249138, 0.9686341285705566, 0.9897668957710266, 0.9930729269981384, 0.027193861082196236, 0.969266951084137, 0.0009712093742564321, 0.002589891664683819, 0.9955521821975708, 0.17728857696056366, 0.09518547356128693, 0.25984281301498413, 0.46780726313591003, 0.9926941990852356, 0.17828591167926788, 0.3273478150367737, 0.3200908601284027, 0.17416708171367645, 0.07367932796478271, 0.035739969462156296, 0.7909530401229858, 0.09952207654714584, 0.8464950323104858, 0.006524046417325735, 0.0054367054253816605, 0.12015119194984436, 0.021746821701526642, 0.064725860953331, 0.9314895868301392, 0.21659941971302032, 0.016597656533122063, 0.7651519775390625, 0.0016597657231613994, 0.9980791211128235, 0.9933041334152222, 0.06921079754829407, 0.9305007457733154, 0.9799826741218567, 0.019272029399871826, 0.0008720928453840315, 0.9986488819122314, 0.0004616962105501443, 0.9997122287750244, 0.06091664358973503, 0.20334146916866302, 0.03689317777752876, 0.6983964443206787, 0.9970400333404541, 0.9894847869873047, 0.009653509594500065, 0.9929900765419006, 0.045101556926965714, 0.036510784178972244, 0.9170650243759155, 0.1459476351737976, 0.389065682888031, 0.2676987051963806, 0.1971573382616043, 0.5369266867637634, 0.19764848053455353, 0.23192040622234344, 0.033446088433265686, 0.99728924036026, 0.058515433222055435, 0.9083824157714844, 0.020433960482478142, 0.012074613012373447, 0.01006509829312563, 0.9897346496582031, 0.9886456727981567, 0.008043548092246056, 0.9917694926261902, 0.08606342226266861, 0.9137809872627258, 0.9931100606918335, 0.048220980912446976, 0.9500836730003357, 0.009935181587934494, 0.9504656791687012, 0.03642899915575981, 0.9939351081848145, 0.021392639726400375, 0.01871855929493904, 0.17782631516456604, 0.7808313369750977, 0.17391781508922577, 0.3024907410144806, 0.00975776556879282, 0.5039598941802979, 0.00918377935886383, 0.9943573474884033, 0.0036143844481557608, 0.0018071922240778804, 0.14837215840816498, 0.8306751251220703, 0.02141992375254631, 0.03436766192317009, 0.965552568435669, 0.005763938184827566, 0.9879390001296997, 0.005763938184827566, 0.010275003500282764, 0.9532400965690613, 0.014167049899697304, 0.01992728002369404, 0.0023352280259132385, 0.052768271416425705, 0.02445358969271183, 0.21171660721302032, 0.7110846042633057, 0.047992557287216187, 0.042660050094127655, 0.8656435608863831, 0.044437553733587265, 0.9935691356658936, 0.9959272146224976, 0.990639328956604, 0.9964812994003296, 0.8528234362602234, 0.10335179418325424, 0.043120283633470535, 0.10842135548591614, 0.2407466322183609, 0.48803839087486267, 0.16305889189243317, 0.05454521253705025, 0.23827646672725677, 0.583490252494812, 0.12344443053007126, 0.0003588500840123743, 0.9944555163383484, 0.019203148782253265, 0.5288251638412476, 0.043207086622714996, 0.4047433137893677, 0.004062204621732235, 0.9941354990005493, 0.9979999661445618, 0.18078775703907013, 0.3081280291080475, 0.30941593647003174, 0.20171600580215454, 0.9983317255973816, 0.6447350382804871, 0.10823573917150497, 0.15726734697818756, 0.08951827883720398, 0.00020345063239801675, 0.7797670960426331, 0.2122192233800888, 0.005541823338717222, 0.0019559375941753387, 0.04839694872498512, 0.3440013527870178, 0.292470782995224, 0.3151024580001831, 0.05789896100759506, 0.8634496927261353, 0.04631916806101799, 0.03222202882170677, 0.04945145547389984, 0.9509895443916321, 0.9951913952827454, 0.997809886932373, 0.9955220818519592, 0.06015691161155701, 0.48598894476890564, 0.340231716632843, 0.11360780149698257, 0.5154133439064026, 0.1870041936635971, 0.13337190449237823, 0.16337764263153076, 0.0008269294630736113, 0.44845443964004517, 0.20688697695732117, 0.2233901023864746, 0.12054455280303955, 0.0009567028027959168, 0.004969402216374874, 0.1162075623869896, 0.05504568666219711, 0.823773980140686, 0.10958168655633926, 0.04356862232089043, 0.8462874889373779, 0.9930257797241211, 0.00017009515431709588, 0.9993090629577637, 0.0004252379003446549, 0.08608421683311462, 0.6949154734611511, 0.17893032729625702, 0.04005126655101776, 0.2706477642059326, 0.01213667169213295, 0.5360363125801086, 0.1812409609556198, 0.9982144236564636, 0.1291305124759674, 0.8546401262283325, 0.01699085719883442, 0.07663603127002716, 0.023324009031057358, 0.8979743123054504, 0.9948657155036926, 0.288914293050766, 0.33753275871276855, 0.13144201040267944, 0.24223193526268005, 0.24229620397090912, 0.06229165196418762, 0.08931523561477661, 0.6064275503158569, 0.06928457319736481, 0.084470234811306, 0.11104513704776764, 0.7355554103851318, 0.9973680973052979, 0.003914566244930029, 0.9942998290061951, 0.9966854453086853, 0.9957222938537598, 0.1907462477684021, 0.01003927644342184, 0.8002737164497375, 0.9966197609901428, 0.8427208662033081, 0.06429100036621094, 0.034689389169216156, 0.055040497332811356, 0.003237676341086626, 0.014865389093756676, 0.9697073698043823, 0.015556802973151207, 0.10361799597740173, 0.012952249497175217, 0.8826032876968384, 0.9990384578704834, 0.9602416157722473, 0.038797639310359955, 0.967087984085083, 0.030473580583930016, 0.002240704372525215, 0.9593965411186218, 0.04028961807489395, 0.04268687963485718, 0.9576708674430847, 0.9930962324142456, 0.9584091305732727, 0.03639528155326843, 0.08527006953954697, 0.913287341594696, 0.9979519248008728, 0.9984527826309204, 0.9958385229110718, 0.9987757802009583, 0.9971154928207397, 0.9939277172088623, 0.1368931084871292, 0.16591191291809082, 0.6541849970817566, 0.04289737716317177, 0.07338596880435944, 0.05503947660326958, 0.725450873374939, 0.14677193760871887, 0.9948140978813171, 0.017063556239008904, 0.08342182636260986, 0.8664494752883911, 0.0322311632335186, 0.005747595336288214, 0.9943340420722961, 0.9964579939842224, 0.9976285099983215, 0.10870283842086792, 0.07853420823812485, 0.03543616831302643, 0.7772013545036316, 0.9964063763618469, 0.055967558175325394, 0.0021119832526892424, 0.18585453927516937, 0.7560900449752808, 0.030968906357884407, 0.07019618898630142, 0.9001628756523132, 0.22581717371940613, 0.5869666934013367, 0.1195409744977951, 0.06663975119590759, 0.0009474846301600337, 0.005503268446773291, 0.9905883073806763, 0.042715009301900864, 0.9528732299804688, 0.0032857698388397694, 0.9957916140556335, 0.949143648147583, 0.012736896052956581, 0.03796574845910072, 0.21355044841766357, 0.45305073261260986, 0.11189377307891846, 0.22140681743621826, 0.010322668589651585, 0.9909761548042297, 0.9270519018173218, 0.027042534202337265, 0.045634277164936066, 0.999142050743103, 0.09346377104520798, 0.35350924730300903, 0.21045243740081787, 0.3427005112171173, 0.998455822467804, 0.9995954036712646, 0.9899373054504395, 0.02566385827958584, 0.9666720032691956, 0.008554619736969471, 0.9983164668083191, 0.12143134325742722, 0.3121318221092224, 0.4860058128833771, 0.08020637929439545, 0.9943671822547913, 0.9970329999923706, 0.9995879530906677, 0.9341351389884949, 0.029092542827129364, 0.011108062230050564, 0.025389855727553368, 0.9977005124092102, 0.9959723353385925, 0.9960622787475586, 0.16860131919384003, 0.8027654886245728, 0.020708000287413597, 0.007783858571201563, 0.22047297656536102, 0.5924545526504517, 0.06390520930290222, 0.12328380346298218, 0.13027919828891754, 0.1008613109588623, 0.6754105687141418, 0.09365692734718323, 0.998238742351532, 0.9888440370559692, 0.9979153871536255, 0.9993596076965332, 0.00117949815467, 0.9270855784416199, 0.07194939255714417, 0.19171349704265594, 0.7266757488250732, 0.08076440542936325, 0.0008158020791597664, 0.9979854822158813, 0.9986037611961365, 0.03282477334141731, 0.9659861922264099, 0.13778454065322876, 0.2531830370426178, 0.49514150619506836, 0.11394812911748886, 0.1234670877456665, 0.4260825216770172, 0.05187692865729332, 0.39876067638397217, 0.9987539052963257, 0.26383528113365173, 0.7360670566558838, 0.19067838788032532, 0.19900619983673096, 0.47066548466682434, 0.1398499608039856, 0.044186320155858994, 0.03927672654390335, 0.06750687956809998, 0.8407674431800842, 0.007364386692643166, 0.9826309084892273, 0.012597831897437572, 0.9977914690971375, 0.001836425974033773, 0.03470512479543686, 0.0706387460231781, 0.683353066444397, 0.2113019824028015, 0.5738970637321472, 0.32730066776275635, 0.029392298310995102, 0.06949535012245178, 0.3325570225715637, 0.528911292552948, 0.13850156962871552, 0.9757015705108643, 0.023230990394949913, 0.39402541518211365, 0.17548182606697083, 0.297793447971344, 0.13262221217155457, 0.25861379504203796, 0.7329772114753723, 0.008334698155522346, 0.013861230574548244, 0.984147310256958, 0.03917868062853813, 0.9606488943099976, 0.0867500826716423, 0.024908438324928284, 0.14859172701835632, 0.7403818964958191, 0.05769757553935051, 0.0685839131474495, 0.0729384496808052, 0.8001456260681152, 0.01846574805676937, 0.9809929132461548, 0.998329222202301, 0.9657122492790222, 0.025371750816702843, 0.008457249961793423, 0.9915679693222046, 0.9864831566810608, 0.012980042025446892, 0.9931275248527527, 0.09141166508197784, 0.3136020600795746, 0.5177770256996155, 0.07739965617656708, 0.9739439487457275, 0.02434859797358513, 0.9918197989463806, 0.9567683935165405, 0.040149424225091934, 0.0015150726540014148, 0.0007575363270007074, 0.02578899636864662, 0.9726135730743408, 0.9980160593986511, 0.2504402697086334, 0.44104671478271484, 0.07226470112800598, 0.23635198175907135, 0.03106064535677433, 0.9686017036437988, 0.06977534294128418, 0.08563337475061417, 0.21963374316692352, 0.6248064637184143, 0.1885077804327011, 0.3283000588417053, 0.1410026103258133, 0.3422187864780426, 0.9954955577850342, 0.16778138279914856, 0.31038185954093933, 0.4613303542137146, 0.06062573567032814, 0.9928516745567322, 0.9989845156669617, 0.983539342880249, 0.016408568248152733, 0.9627841711044312, 0.03714624047279358, 0.9903782606124878, 0.00907678622752428, 0.9997429847717285, 0.9909766912460327, 0.08853156119585037, 0.09424327313899994, 0.7813624143600464, 0.03541262447834015, 0.05649437755346298, 0.1174488365650177, 0.8251152634620667, 0.6153766512870789, 0.2953384518623352, 0.016936972737312317, 0.07233498990535736, 0.994780421257019, 0.9932541251182556, 0.006158351432532072, 0.9975350499153137, 0.026233118027448654, 0.029730865731835365, 0.06295948475599289, 0.883181631565094, 0.29539600014686584, 0.2833782732486725, 0.1999751627445221, 0.221366748213768, 0.9985787272453308, 0.9912770986557007, 0.1264355480670929, 0.20642538368701935, 0.5921828150749207, 0.06708825379610062, 0.007310898974537849, 0.20699942111968994, 0.032999906688928604, 0.6965980529785156, 0.06359981745481491, 0.9985628128051758, 0.9963305592536926, 0.13518311083316803, 0.432462215423584, 0.11724118888378143, 0.31491169333457947, 0.011297334916889668, 0.03389200568199158, 0.9512356519699097, 0.0022594670299440622, 0.9915550351142883, 0.005919731687754393, 0.9979435205459595, 0.06207408756017685, 0.12673459947109222, 0.13190743327140808, 0.679366409778595, 0.33465850353240967, 0.4445754885673523, 0.136908620595932, 0.08386910706758499, 0.9951671957969666, 0.9982621073722839, 0.07498464733362198, 0.8906871676445007, 0.03390609845519066, 0.07143101841211319, 0.2915157973766327, 0.6366048455238342, 0.9946781992912292, 0.996061384677887, 0.38270634412765503, 0.36280086636543274, 0.1656419336795807, 0.08886370062828064, 0.04377691075205803, 0.9215892553329468, 0.023878315463662148, 0.010233563371002674, 0.9998363852500916, 0.9995882511138916, 0.19105345010757446, 0.23336729407310486, 0.23700030148029327, 0.33851081132888794, 0.035896334797143936, 0.016153350472450256, 0.9476631879806519, 0.002340149600058794, 0.9969037175178528, 0.9960649609565735, 0.14542415738105774, 0.04339269548654556, 0.05277489870786667, 0.7576130032539368, 0.9978896975517273, 0.9420491456985474, 0.03459176793694496, 0.023061178624629974, 0.9240620732307434, 0.07264638692140579, 0.032610923051834106, 0.26726779341697693, 0.6004663705825806, 0.09995956718921661, 0.08453231304883957, 0.3835703134536743, 0.4315910339355469, 0.10020849108695984, 0.050370700657367706, 0.19299931824207306, 0.6192944645881653, 0.1378566473722458, 0.9929306507110596, 0.995353102684021, 0.9999773502349854, 0.9895716905593872, 0.010018161498010159, 0.9981207847595215, 0.9990645051002502, 0.9986265301704407, 0.5651371479034424, 0.2903681695461273, 0.08802412450313568, 0.056602854281663895, 0.9905928373336792, 0.9975174069404602, 0.9992607235908508, 0.994660496711731, 0.9976693987846375, 0.9982811212539673, 0.998096227645874, 0.06655803322792053, 0.9328523874282837, 0.9997519254684448, 0.009923179633915424, 0.9893410205841064, 0.0004961589584127069, 0.9982593059539795, 0.9947075843811035, 0.002041019732132554, 0.01088543888181448, 0.03401699662208557, 0.9531562328338623, 0.8109971880912781, 0.023781118914484978, 0.10488083213567734, 0.05975768715143204, 0.010341661982238293, 0.9814237356185913, 0.007239163853228092, 0.8520529866218567, 0.11501684039831161, 0.03249354660511017, 0.04378334432840347, 0.4714970588684082, 0.4762471318244934, 0.008261008188128471, 0.9961535930633545, 0.0034134332090616226, 0.996343731880188, 0.01218213327229023, 0.24005967378616333, 0.6955758929252625, 0.05207264795899391, 0.3485284447669983, 0.059208229184150696, 0.4549965560436249, 0.13740575313568115, 0.22767305374145508, 0.39129990339279175, 0.26699966192245483, 0.11397697776556015, 0.20503708720207214, 0.22913093864917755, 0.35694006085395813, 0.20902614295482635, 0.9979537725448608, 0.04083753377199173, 0.17478464543819427, 0.7309918403625488, 0.05390554293990135, 0.9966952800750732, 0.9958137273788452, 0.003975304309278727, 0.9895421862602234, 0.9926022887229919, 0.9975225329399109, 0.9966577887535095, 0.9968898892402649, 0.9924792051315308, 0.997076690196991, 0.9945854544639587, 0.9930943846702576, 0.9972615838050842, 0.9920549988746643, 0.9955794215202332, 0.9953765273094177, 0.9886871576309204, 0.991712212562561, 0.9914675951004028, 0.9949809908866882, 0.9941580891609192, 0.9904630780220032], \"Term\": [\"SCREEN_NAME\", \"SCREEN_NAME\", \"SCREEN_NAME\", \"SCREEN_NAME\", \"SCREEN_NAME\", \"access\", \"access\", \"access\", \"access\", \"accord\", \"accord\", \"accord\", \"accord\", \"admiral\", \"airstrikes\", \"aleppo\", \"always\", \"always\", \"always\", \"always\", \"america\", \"america\", \"america\", \"america\", \"american\", \"american\", \"american\", \"american\", \"ammon\", \"angel\", \"arab\", \"arabia\", \"arabia\", \"artist\", \"artist\", \"assad\", \"assad\", \"assange\", \"attack\", \"attack\", \"attack\", \"attack\", \"autism\", \"awaken\", \"balfour\", \"ballot\", \"bashar\", \"become\", \"become\", \"become\", \"become\", \"believe\", \"believe\", \"believe\", \"believe\", \"bernie\", \"bible\", \"bible\", \"biden\", \"biden\", \"biden\", \"black\", \"black\", \"black\", \"black\", \"brain\", \"brain\", \"brain\", \"brain\", \"breitbart\", \"brooks\", \"bundy\", \"burton\", \"calcium\", \"campaign\", \"campaign\", \"campaign\", \"campus\", \"campus\", \"cancer\", \"cancer\", \"canciller\\u00eda\", \"candidacy\", \"candidate\", \"candidate\", \"candidate\", \"candidate\", \"cannabis\", \"cause\", \"cause\", \"cause\", \"cause\", \"celebration\", \"change\", \"change\", \"change\", \"change\", \"child\", \"child\", \"child\", \"child\", \"china\", \"china\", \"china\", \"china\", \"china\", \"christ\", \"christ\", \"christian\", \"christian\", \"christian\", \"christian\", \"christianity\", \"christmas\", \"church\", \"church\", \"civilian\", \"civilian\", \"clinton\", \"clinton\", \"clinton\", \"comey\", \"company\", \"company\", \"company\", \"company\", \"compassion\", \"consciousness\", \"consciousness\", \"constipation\", \"consumer\", \"consumer\", \"consumer\", \"could\", \"could\", \"could\", \"could\", \"country\", \"country\", \"country\", \"country\", \"crimea\", \"culture\", \"culture\", \"culture\", \"culture\", \"dakota\", \"dakota\", \"danila\", \"democrat\", \"democrat\", \"democratic\", \"democratic\", \"diabetes\", \"disease\", \"disease\", \"diversity\", \"diversity\", \"diversity\", \"divine\", \"doctor\", \"doctor\", \"doctor\", \"doctor\", \"dollar\", \"dollar\", \"dollar\", \"dollar\", \"dollar\", \"donald\", \"donald\", \"donald\", \"elect\", \"elect\", \"elect\", \"election\", \"election\", \"electoral\", \"electoral\", \"electoral\", \"email\", \"email\", \"email\", \"email\", \"email\", \"energy\", \"energy\", \"energy\", \"energy\", \"english\", \"english\", \"english\", \"english\", \"entre\", \"epstein\", \"estados\", \"ethiopia\", \"europe\", \"europe\", \"europe\", \"every\", \"every\", \"every\", \"every\", \"family\", \"family\", \"family\", \"family\", \"family\", \"feast\", \"federal\", \"federal\", \"federal\", \"federal\", \"federal\", \"feminism\", \"ferment\", \"first\", \"first\", \"first\", \"first\", \"food\", \"force\", \"force\", \"force\", \"force\", \"force\", \"foreign\", \"foreign\", \"foreign\", \"foreign\", \"found\", \"found\", \"found\", \"found\", \"foundation\", \"foundation\", \"foundation\", \"foundation\", \"gender\", \"gender\", \"gingrich\", \"glutathione\", \"gobierno\", \"going\", \"going\", \"going\", \"going\", \"government\", \"government\", \"government\", \"government\", \"government\", \"group\", \"group\", \"group\", \"group\", \"group\", \"health\", \"health\", \"health\", \"health\", \"healthcare\", \"healthcare\", \"healthcare\", \"heaven\", \"hillary\", \"hillary\", \"hillary\", \"house\", \"house\", \"house\", \"house\", \"human\", \"human\", \"human\", \"human\", \"humanitarian\", \"humanity\", \"humanity\", \"humanity\", \"identity\", \"identity\", \"identity\", \"illuminati\", \"include\", \"include\", \"include\", \"include\", \"increase\", \"increase\", \"increase\", \"increase\", \"industry\", \"industry\", \"industry\", \"industry\", \"infection\", \"inflation\", \"inflation\", \"ingredient\", \"inmate\", \"insurance\", \"insurance\", \"insurance\", \"insurer\", \"international\", \"international\", \"international\", \"international\", \"international\", \"investigation\", \"investigation\", \"investigation\", \"investor\", \"investor\", \"investor\", \"iraqi\", \"islamic\", \"islamic\", \"israel\", \"israel\", \"israel\", \"israeli\", \"israeli\", \"jesus\", \"jesus\", \"juice\", \"jungle\", \"jungle\", \"juror\", \"juror\", \"kadzik\", \"kaine\", \"kashmir\", \"kelly\", \"kurdish\", \"lebanon\", \"life\", \"life\", \"life\", \"life\", \"living\", \"living\", \"living\", \"living\", \"loretta\", \"love\", \"love\", \"love\", \"love\", \"lynch\", \"lynch\", \"magnetic\", \"marijuana\", \"market\", \"market\", \"market\", \"market\", \"mccabe\", \"medical\", \"medical\", \"medical\", \"medical\", \"medicine\", \"medicine\", \"medicine\", \"medium\", \"medium\", \"medium\", \"medium\", \"medium\", \"mercury\", \"mercury\", \"metal\", \"metal\", \"metal\", \"migraciones\", \"military\", \"military\", \"military\", \"million\", \"million\", \"million\", \"million\", \"mineral\", \"mineral\", \"minister\", \"minister\", \"minister\", \"missile\", \"money\", \"money\", \"money\", \"money\", \"moscow\", \"mosul\", \"mundo\", \"music\", \"music\", \"music\", \"mustard\", \"never\", \"never\", \"never\", \"never\", \"nicht\", \"nomination\", \"nominee\", \"nuclear\", \"nuclear\", \"nuclear\", \"nuclear\", \"nusra\", \"nutrient\", \"nutrition\", \"obama\", \"obama\", \"obama\", \"obama\", \"october\", \"october\", \"october\", \"october\", \"officer\", \"officer\", \"officer\", \"officer\", \"pakistan\", \"palais\", \"palestine\", \"palestinian\", \"parent\", \"parent\", \"parent\", \"party\", \"party\", \"party\", \"party\", \"pasaporte\", \"pasaportes\", \"patient\", \"patient\", \"people\", \"people\", \"people\", \"people\", \"percent\", \"percent\", \"percent\", \"percent\", \"pilgrim\", \"pipeline\", \"pipeline\", \"place\", \"place\", \"place\", \"place\", \"plant\", \"plant\", \"plant\", \"plant\", \"plant\", \"plymouth\", \"plymouth\", \"podesta\", \"podesta\", \"police\", \"police\", \"police\", \"police\", \"policy\", \"policy\", \"policy\", \"policy\", \"political\", \"political\", \"political\", \"polls\", \"polls\", \"power\", \"power\", \"power\", \"power\", \"president\", \"president\", \"president\", \"presidente\", \"presidente\", \"presidential\", \"presidential\", \"price\", \"price\", \"price\", \"price\", \"product\", \"product\", \"product\", \"product\", \"protector\", \"protector\", \"protein\", \"putin\", \"putin\", \"putin\", \"python\", \"qaeda\", \"qaeda\", \"rankin\", \"really\", \"really\", \"really\", \"really\", \"rebel\", \"rebel\", \"rectenwald\", \"regime\", \"regime\", \"regime\", \"regime\", \"religion\", \"religion\", \"reopen\", \"report\", \"report\", \"report\", \"report\", \"republican\", \"republican\", \"research\", \"research\", \"research\", \"research\", \"result\", \"result\", \"result\", \"result\", \"rigging\", \"right\", \"right\", \"right\", \"right\", \"ritual\", \"romney\", \"russia\", \"russia\", \"russian\", \"russian\", \"sander\", \"sander\", \"saudi\", \"savage\", \"school\", \"school\", \"school\", \"school\", \"scientist\", \"scientist\", \"scientist\", \"security\", \"security\", \"security\", \"security\", \"separateness\", \"server\", \"server\", \"siege\", \"silver\", \"silver\", \"silver\", \"silver\", \"since\", \"since\", \"since\", \"since\", \"sioux\", \"sobre\", \"social\", \"social\", \"social\", \"social\", \"social\", \"society\", \"society\", \"society\", \"society\", \"solar\", \"soul\", \"source\", \"source\", \"source\", \"source\", \"spirit\", \"spirit\", \"spirit\", \"spirit\", \"spiritual\", \"spiritual\", \"stahl\", \"standing\", \"standing\", \"standing\", \"standing\", \"state\", \"state\", \"state\", \"state\", \"stein\", \"stevens\", \"student\", \"student\", \"student\", \"study\", \"study\", \"study\", \"sugar\", \"sunni\", \"support\", \"support\", \"support\", \"support\", \"supporter\", \"supporter\", \"supporter\", \"supporter\", \"syria\", \"syrian\", \"system\", \"system\", \"system\", \"system\", \"teach\", \"teach\", \"teach\", \"teacher\", \"teacher\", \"teaching\", \"technology\", \"technology\", \"technology\", \"technology\", \"teneo\", \"terrorist\", \"terrorist\", \"terrorist\", \"thanksgiving\", \"thanksgiving\", \"things\", \"things\", \"things\", \"things\", \"think\", \"think\", \"think\", \"think\", \"thought\", \"thought\", \"thought\", \"thought\", \"toxin\", \"transgender\", \"trump\", \"turkey\", \"turkey\", \"turkish\", \"ukraine\", \"ukrainian\", \"unite\", \"unite\", \"unite\", \"unite\", \"uni\\u00f3n\", \"vaccination\", \"vaccine\", \"vatican\", \"vegetable\", \"veritas\", \"vitamin\", \"vote\", \"vote\", \"voter\", \"voting\", \"voting\", \"voting\", \"walsh\", \"wampanoag\", \"water\", \"water\", \"water\", \"water\", \"weapon\", \"weapon\", \"weapon\", \"weapon\", \"weiner\", \"weiner\", \"weiner\", \"western\", \"western\", \"western\", \"white\", \"white\", \"white\", \"white\", \"wikileaks\", \"wikileaks\", \"wildlife\", \"woman\", \"woman\", \"woman\", \"woman\", \"world\", \"world\", \"world\", \"world\", \"would\", \"would\", \"would\", \"would\", \"years\", \"years\", \"years\", \"years\", \"yemen\", \"young\", \"young\", \"young\", \"young\", \"youngstown\", \"zionist\", \"zionist\", \"\\u0431\\u0435\\u0437\\u043e\\u043f\\u0430\\u0441\\u043d\\u043e\\u0441\\u0442\\u0438\", \"\\u0431\\u043e\\u043b\\u0435\\u0435\", \"\\u0431\\u0443\\u0434\\u0435\\u0442\", \"\\u0432\\u043e\\u043f\\u0440\\u043e\\u0441\", \"\\u043a\\u043e\\u0433\\u0434\\u0430\", \"\\u043a\\u043e\\u0442\\u043e\\u0440\\u044b\\u0435\", \"\\u043c\\u0435\\u0436\\u0434\\u0443\", \"\\u043c\\u043e\\u0436\\u0435\\u0442\", \"\\u043e\\u0434\\u043d\\u0430\\u043a\\u043e\", \"\\u043e\\u0447\\u0435\\u043d\\u044c\", \"\\u043f\\u0440\\u0435\\u0437\\u0438\\u0434\\u0435\\u043d\\u0442\\u0430\", \"\\u0440\\u043e\\u0441\\u0441\\u0438\\u0438\", \"\\u0441\\u0435\\u0433\\u043e\\u0434\\u043d\\u044f\", \"\\u0441\\u0435\\u0439\\u0447\\u0430\\u0441\", \"\\u0442\\u0430\\u043a\\u0436\\u0435\", \"\\u0442\\u043e\\u043b\\u044c\\u043a\\u043e\", \"\\u0442\\u0440\\u0430\\u043c\\u043f\\u0430\", \"\\u0447\\u0442\\u043e\\u0431\\u044b\", \"\\u044d\\u0442\\u043e\\u0433\\u043e\"]}, \"R\": 30, \"lambda.step\": 0.01, \"plot.opts\": {\"xlab\": \"PC1\", \"ylab\": \"PC2\"}, \"topic.order\": [1, 2, 3, 4, 5]};\n",
              "\n",
              "function LDAvis_load_lib(url, callback){\n",
              "  var s = document.createElement('script');\n",
              "  s.src = url;\n",
              "  s.async = true;\n",
              "  s.onreadystatechange = s.onload = callback;\n",
              "  s.onerror = function(){console.warn(\"failed to load library \" + url);};\n",
              "  document.getElementsByTagName(\"head\")[0].appendChild(s);\n",
              "}\n",
              "\n",
              "if(typeof(LDAvis) !== \"undefined\"){\n",
              "   // already loaded: just create the visualization\n",
              "   !function(LDAvis){\n",
              "       new LDAvis(\"#\" + \"ldavis_el1061402614383449123057805474\", ldavis_el1061402614383449123057805474_data);\n",
              "   }(LDAvis);\n",
              "}else if(typeof define === \"function\" && define.amd){\n",
              "   // require.js is available: use it to load d3/LDAvis\n",
              "   require.config({paths: {d3: \"https://cdnjs.cloudflare.com/ajax/libs/d3/3.5.5/d3.min\"}});\n",
              "   require([\"d3\"], function(d3){\n",
              "      window.d3 = d3;\n",
              "      LDAvis_load_lib(\"https://cdn.rawgit.com/bmabey/pyLDAvis/files/ldavis.v1.0.0.js\", function(){\n",
              "        new LDAvis(\"#\" + \"ldavis_el1061402614383449123057805474\", ldavis_el1061402614383449123057805474_data);\n",
              "      });\n",
              "    });\n",
              "}else{\n",
              "    // require.js not available: dynamically load d3 & LDAvis\n",
              "    LDAvis_load_lib(\"https://cdnjs.cloudflare.com/ajax/libs/d3/3.5.5/d3.min.js\", function(){\n",
              "         LDAvis_load_lib(\"https://cdn.rawgit.com/bmabey/pyLDAvis/files/ldavis.v1.0.0.js\", function(){\n",
              "                 new LDAvis(\"#\" + \"ldavis_el1061402614383449123057805474\", ldavis_el1061402614383449123057805474_data);\n",
              "            })\n",
              "         });\n",
              "}\n",
              "</script>"
            ],
            "text/plain": [
              "<IPython.core.display.HTML object>"
            ]
          },
          "metadata": {
            "tags": []
          },
          "execution_count": 78
        }
      ]
    },
    {
      "cell_type": "markdown",
      "metadata": {
        "id": "IUxCxQWL4QsA",
        "colab_type": "text"
      },
      "source": [
        "I have modelled the data in 5 Topics.For unreliable texts(fake news) \n",
        "\n",
        "\n",
        "*   Topic 1: talks about war in Syria, which involves US and Russia\n",
        "*   Topic 2: Is about Elections and talks about Republican and democrats\n",
        "*   Topic 3: Appears to talk about social issues\n",
        "*   Topic 4: Govt take on water, public health, market and companies.\n",
        "*   Topic 5: This topic is built around news in russian language. \n",
        "\n",
        "I can see fake news are mainly on US politics involving Donald Trump, and Hillary clinton (eg regarding her emails )\n",
        "\n",
        "\n",
        "\n",
        "\n"
      ]
    },
    {
      "cell_type": "code",
      "metadata": {
        "id": "SYAs23GHja7B",
        "colab_type": "code",
        "colab": {}
      },
      "source": [
        "### Reliable news"
      ],
      "execution_count": null,
      "outputs": []
    },
    {
      "cell_type": "code",
      "metadata": {
        "id": "nFMgM4wF0Vyu",
        "colab_type": "code",
        "colab": {
          "base_uri": "https://localhost:8080/",
          "height": 159
        },
        "outputId": "3f3cc4ff-bf75-47f8-db0b-9cb3d6e03576"
      },
      "source": [
        "def is_nan(x):\n",
        "    return (x != x)\n",
        "\n",
        "text_data=[]\n",
        "articles = rel_text\n",
        "for line in articles:\n",
        "    if not is_nan(line):\n",
        "      tokens = prepare_text_for_lda(line)\n",
        "      text_data.append(tokens)\n",
        "\n",
        "from gensim import corpora\n",
        "dictionary = corpora.Dictionary(text_data)\n",
        "corpus = [dictionary.doc2bow(text) for text in text_data]\n",
        "import pickle\n",
        "pickle.dump(corpus, open('corpus.pkl', 'wb'))\n",
        "dictionary.save('dictionary.gensim')\n",
        "\n",
        "import gensim\n",
        "NUM_TOPICS = 5\n",
        "ldamodel = gensim.models.ldamodel.LdaModel(corpus, num_topics = NUM_TOPICS, id2word=dictionary, passes=15)\n",
        "ldamodel.save('model5.gensim')\n",
        "topics = ldamodel.print_topics(num_words=4)\n",
        "for topic in topics:\n",
        "    print(topic)\n",
        "\n",
        "dictionary = gensim.corpora.Dictionary.load('dictionary.gensim')\n",
        "corpus = pickle.load(open('corpus.pkl', 'rb'))\n",
        "lda = gensim.models.ldamodel.LdaModel.load('model5.gensim')"
      ],
      "execution_count": 27,
      "outputs": [
        {
          "output_type": "stream",
          "text": [
            "/usr/local/lib/python3.6/dist-packages/smart_open/smart_open_lib.py:254: UserWarning: This function is deprecated, use smart_open.open instead. See the migration notes for details: https://github.com/RaRe-Technologies/smart_open/blob/master/README.rst#migrating-to-the-new-open-function\n",
            "  'See the migration notes for details: %s' % _MIGRATION_NOTES_URL\n"
          ],
          "name": "stderr"
        },
        {
          "output_type": "stream",
          "text": [
            "(0, '0.011*\"company\" + 0.007*\"would\" + 0.006*\"percent\" + 0.006*\"people\"')\n",
            "(1, '0.005*\"first\" + 0.005*\"would\" + 0.004*\"people\" + 0.004*\"woman\"')\n",
            "(2, '0.012*\"state\" + 0.008*\"unite\" + 0.008*\"country\" + 0.007*\"government\"')\n",
            "(3, '0.038*\"trump\" + 0.014*\"president\" + 0.009*\"republican\" + 0.009*\"would\"')\n",
            "(4, '0.011*\"police\" + 0.010*\"state\" + 0.009*\"court\" + 0.007*\"officer\"')\n"
          ],
          "name": "stdout"
        }
      ]
    },
    {
      "cell_type": "code",
      "metadata": {
        "id": "fzxPa5Wn0YeT",
        "colab_type": "code",
        "colab": {
          "base_uri": "https://localhost:8080/",
          "height": 880
        },
        "outputId": "a83df656-b5d3-4947-b70f-a6b8ed54df5c"
      },
      "source": [
        "lda_display = pyLDAvis.gensim.prepare(lda, corpus, dictionary, sort_topics=False)\n",
        "pyLDAvis.display(lda_display)"
      ],
      "execution_count": null,
      "outputs": [
        {
          "output_type": "execute_result",
          "data": {
            "text/html": [
              "\n",
              "<link rel=\"stylesheet\" type=\"text/css\" href=\"https://cdn.rawgit.com/bmabey/pyLDAvis/files/ldavis.v1.0.0.css\">\n",
              "\n",
              "\n",
              "<div id=\"ldavis_el1061402614089421444964474410\"></div>\n",
              "<script type=\"text/javascript\">\n",
              "\n",
              "var ldavis_el1061402614089421444964474410_data = {\"mdsDat\": {\"x\": [-0.06330863109348368, -0.045995503593537455, 0.16616770870190437, 0.08133849132622256, -0.138202065341106], \"y\": [0.050875361198107726, -0.1677164930102578, -0.0286993945387237, 0.0928737687038868, 0.05266675764698694], \"topics\": [1, 2, 3, 4, 5], \"cluster\": [1, 1, 1, 1, 1], \"Freq\": [25.071027755737305, 18.51239585876465, 22.748062133789062, 16.435226440429688, 17.233285903930664]}, \"tinfo\": {\"Term\": [\"trump\", \"clinton\", \"company\", \"police\", \"president\", \"republican\", \"state\", \"campaign\", \"percent\", \"government\", \"unite\", \"election\", \"officer\", \"health\", \"obama\", \"democrat\", \"military\", \"donald\", \"country\", \"islamic\", \"attack\", \"SCREEN_NAME\", \"china\", \"official\", \"million\", \"russia\", \"school\", \"voter\", \"security\", \"muslim\", \"clinton\", \"hillary\", \"comey\", \"kushner\", \"gorsuch\", \"flynn\", \"schumer\", \"romney\", \"spic\", \"mcconnell\", \"mccain\", \"nunes\", \"priebus\", \"conway\", \"ivanka\", \"weiner\", \"kaine\", \"partisan\", \"msnbc\", \"acosta\", \"siriusxm\", \"rubio\", \"yiannopoulos\", \"holton\", \"marlow\", \"electoral\", \"pollak\", \"filibuster\", \"pelosi\", \"manafort\", \"trump\", \"nominee\", \"bannon\", \"inauguration\", \"caucus\", \"senator\", \"democrat\", \"election\", \"republican\", \"candidate\", \"donald\", \"voter\", \"democratic\", \"sander\", \"campaign\", \"presidential\", \"senate\", \"conservative\", \"ethics\", \"penny\", \"SCREEN_NAME\", \"presidency\", \"president\", \"obama\", \"tweet\", \"sessions\", \"white\", \"house\", \"twitter\", \"party\", \"speech\", \"political\", \"vote\", \"medium\", \"committee\", \"former\", \"think\", \"would\", \"washington\", \"going\", \"people\", \"state\", \"american\", \"administration\", \"could\", \"national\", \"right\", \"rates\", \"medicaid\", \"insurer\", \"regulator\", \"brexit\", \"regulatory\", \"emission\", \"voucher\", \"dope\", \"medicare\", \"sperm\", \"subsidy\", \"mortgage\", \"investor\", \"inflation\", \"macron\", \"antidoping\", \"premium\", \"equity\", \"merger\", \"valuation\", \"automaker\", \"vaccine\", \"dioxide\", \"subsidize\", \"aetna\", \"productivity\", \"microcephaly\", \"frieden\", \"tariff\", \"insurance\", \"growth\", \"manufacturing\", \"virus\", \"provider\", \"litwin\", \"regulate\", \"unemployment\", \"revenue\", \"consumer\", \"profits\", \"investment\", \"billion\", \"economist\", \"regulation\", \"income\", \"environmental\", \"company\", \"health\", \"banks\", \"percent\", \"economy\", \"market\", \"budget\", \"financial\", \"industry\", \"patient\", \"costs\", \"price\", \"climate\", \"increase\", \"worker\", \"million\", \"money\", \"economic\", \"benefit\", \"business\", \"dollar\", \"education\", \"program\", \"employee\", \"federal\", \"would\", \"school\", \"state\", \"change\", \"executive\", \"people\", \"years\", \"could\", \"government\", \"include\", \"american\", \"public\", \"policy\", \"accord\", \"group\", \"unite\", \"artist\", \"album\", \"comedy\", \"tesla\", \"opera\", \"painting\", \"airbnb\", \"adderall\", \"designer\", \"musical\", \"netflix\", \"snapchat\", \"cooley\", \"musician\", \"star\", \"beyonc\\u00e9\", \"moonlight\", \"literary\", \"asteroid\", \"subscribe\", \"lyric\", \"nadal\", \"smartphone\", \"phelps\", \"performer\", \"djokovic\", \"adventure\", \"gabor\", \"costume\", \"redstone\", \"studio\", \"music\", \"movie\", \"actress\", \"song\", \"theater\", \"museum\", \"dylan\", \"memoir\", \"novel\", \"brain\", \"award\", \"oscar\", \"actor\", \"character\", \"prize\", \"book\", \"festival\", \"dress\", \"space\", \"feature\", \"writer\", \"fashion\", \"performance\", \"story\", \"series\", \"woman\", \"something\", \"world\", \"first\", \"always\", \"play\", \"become\", \"friend\", \"little\", \"years\", \"really\", \"write\", \"around\", \"people\", \"could\", \"great\", \"would\", \"start\", \"never\", \"still\", \"night\", \"think\", \"times\", \"include\", \"seem\", \"every\", \"call\", \"another\", \"place\", \"going\", \"inmate\", \"playoff\", \"quarterback\", \"detective\", \"rouge\", \"mateen\", \"olivarez\", \"juror\", \"touchdown\", \"torres\", \"slager\", \"majors\", \"kaepernick\", \"firearm\", \"robbery\", \"jabara\", \"nunez\", \"santiago\", \"gebreselase\", \"durst\", \"zeta\", \"gunshot\", \"lochte\", \"cartel\", \"rivera\", \"handgun\", \"steelers\", \"tamaulipas\", \"ortiz\", \"cosby\", \"yard\", \"police\", \"shooting\", \"dallas\", \"championship\", \"sheriff\", \"hurricane\", \"officer\", \"gunman\", \"passenger\", \"murder\", \"bullet\", \"baltimore\", \"crash\", \"county\", \"injury\", \"injure\", \"traffic\", \"storm\", \"victim\", \"examiner\", \"prison\", \"texas\", \"arrest\", \"crime\", \"student\", \"league\", \"driver\", \"guard\", \"death\", \"family\", \"school\", \"black\", \"player\", \"charge\", \"violence\", \"video\", \"suspect\", \"child\", \"kill\", \"neighborhood\", \"people\", \"three\", \"community\", \"resident\", \"street\", \"report\", \"local\", \"years\", \"second\", \"would\", \"state\", \"official\", \"first\", \"another\", \"could\", \"found\", \"accord\", \"member\", \"islamic\", \"syria\", \"syrian\", \"korea\", \"saudi\", \"missile\", \"turkish\", \"palestinian\", \"aleppo\", \"iraqi\", \"assad\", \"erdogan\", \"arabia\", \"afghan\", \"mosul\", \"duterte\", \"islamist\", \"netanyahu\", \"pakistan\", \"taliban\", \"cyprus\", \"qaeda\", \"cypriot\", \"asylum\", \"yemen\", \"airstrikes\", \"humanitarian\", \"jihadist\", \"bashar\", \"militia\", \"refugee\", \"mosque\", \"egypt\", \"israel\", \"israeli\", \"militant\", \"turkey\", \"korean\", \"afghanistan\", \"islam\", \"iranian\", \"military\", \"minister\", \"troops\", \"terrorist\", \"civilian\", \"china\", \"muslim\", \"parliament\", \"migrant\", \"ministry\", \"nuclear\", \"unite\", \"chinese\", \"government\", \"terrorism\", \"attack\", \"russia\", \"country\", \"security\", \"state\", \"official\", \"foreign\", \"immigration\", \"force\", \"nation\", \"international\", \"american\", \"north\", \"european\", \"group\", \"order\", \"russian\", \"court\", \"president\", \"report\", \"would\", \"people\", \"include\", \"world\"], \"Freq\": [36223.0, 8196.0, 8770.0, 6711.0, 16440.0, 9050.0, 22029.0, 7474.0, 6390.0, 8893.0, 9821.0, 5231.0, 4434.0, 4627.0, 7432.0, 4489.0, 3530.0, 4623.0, 9679.0, 2723.0, 6056.0, 5244.0, 3472.0, 8604.0, 6503.0, 3700.0, 5702.0, 3293.0, 5047.0, 2564.0, 8195.4638671875, 2139.964111328125, 1505.8087158203125, 1341.80224609375, 599.7009887695312, 537.6504516601562, 505.67144775390625, 463.86309814453125, 609.1027221679688, 502.135986328125, 437.08416748046875, 420.0743103027344, 411.2255554199219, 390.5727844238281, 389.1834716796875, 367.0102233886719, 323.05621337890625, 308.8017578125, 303.49786376953125, 250.51611328125, 251.5944366455078, 281.7817077636719, 229.268310546875, 231.0422821044922, 222.19171142578125, 369.0245666503906, 195.21763610839844, 188.4490509033203, 186.79490661621094, 181.10682678222656, 35403.8828125, 1602.66064453125, 1520.7525634765625, 649.3827514648438, 349.76531982421875, 2846.3623046875, 4276.88037109375, 4966.2548828125, 8478.9814453125, 2651.666015625, 4345.072265625, 3115.1875, 2722.16845703125, 1013.9125366210938, 6817.8115234375, 2884.63232421875, 2581.014404296875, 2507.705078125, 661.6572265625, 1023.2293701171875, 4401.55810546875, 953.0127563476562, 12106.927734375, 5571.84375, 1067.4627685546875, 1056.188720703125, 5118.56494140625, 6403.97802734375, 4134.98046875, 4514.14892578125, 2077.380615234375, 3869.12548828125, 1540.02880859375, 3463.088134765625, 2220.737060546875, 3612.35546875, 3716.0517578125, 7351.52099609375, 2764.583984375, 3245.81640625, 5130.98046875, 5060.73583984375, 3406.1240234375, 2846.025146484375, 3046.18115234375, 2783.195556640625, 2772.942138671875, 792.9800415039062, 653.1654052734375, 439.3173522949219, 439.0662841796875, 391.4996643066406, 354.6643981933594, 329.6153564453125, 324.88067626953125, 320.0285339355469, 272.16851806640625, 268.2678527832031, 271.01580810546875, 262.8674011230469, 986.231201171875, 148.75413513183594, 151.98402404785156, 144.97293090820312, 409.4539489746094, 243.6932373046875, 140.82887268066406, 135.2805938720703, 174.02593994140625, 112.7298355102539, 108.68987274169922, 108.50907135009766, 101.53219604492188, 99.41874694824219, 92.78864288330078, 90.97013092041016, 146.07363891601562, 1520.89453125, 1049.16650390625, 435.7757263183594, 353.2505187988281, 249.12515258789062, 231.67868041992188, 176.26910400390625, 266.85211181640625, 591.2306518554688, 930.8096923828125, 277.7153015136719, 1038.262451171875, 2305.696533203125, 459.576904296875, 1133.749267578125, 859.4745483398438, 629.2967529296875, 7446.07421875, 3999.6298828125, 622.8233032226562, 5364.73291015625, 1548.21484375, 2179.800048828125, 1321.118408203125, 1857.677490234375, 1733.9698486328125, 1255.8599853515625, 832.9622802734375, 1725.790771484375, 1154.194091796875, 2084.885009765625, 1934.9482421875, 4214.916015625, 2552.97705078125, 1670.755859375, 1310.6318359375, 2816.044677734375, 1048.4403076171875, 1169.268310546875, 2236.947998046875, 1367.6837158203125, 2611.070068359375, 6155.73388671875, 2543.18212890625, 5342.1025390625, 2453.473388671875, 2037.37841796875, 4087.396484375, 3120.89111328125, 3180.11669921875, 2416.077880859375, 2440.024169921875, 2619.5732421875, 1966.4454345703125, 1848.63330078125, 1851.603515625, 1883.096435546875, 1852.8714599609375, 1104.0882568359375, 732.0890502929688, 565.6101684570312, 524.0045776367188, 423.16876220703125, 422.6664123535156, 418.91583251953125, 402.4685974121094, 410.6904296875, 373.56976318359375, 313.29400634765625, 308.8203430175781, 301.181640625, 326.058349609375, 866.8262329101562, 251.93405151367188, 251.1243438720703, 248.44078063964844, 246.46348571777344, 239.5289306640625, 235.47572326660156, 218.80902099609375, 215.5821533203125, 211.33163452148438, 204.53701782226562, 201.4568328857422, 199.2654571533203, 194.71250915527344, 179.20191955566406, 179.70289611816406, 603.7982788085938, 1394.2799072265625, 1465.0748291015625, 530.5528564453125, 397.1241760253906, 702.4151611328125, 816.9995727539062, 398.7698059082031, 261.7635498046875, 562.753173828125, 779.555908203125, 1133.0885009765625, 539.0704345703125, 831.9176025390625, 872.9794311523438, 577.933349609375, 865.4812622070312, 451.66876220703125, 724.9881591796875, 1063.255859375, 1047.3709716796875, 734.9871826171875, 617.427734375, 848.4275512695312, 1964.739013671875, 1323.5587158203125, 3071.736328125, 1853.03857421875, 2795.84033203125, 3782.2470703125, 1447.341064453125, 1146.9805908203125, 2526.765869140625, 1555.4910888671875, 1683.7257080078125, 3228.296875, 1616.120849609375, 2057.04248046875, 1882.3009033203125, 3842.878662109375, 3033.320068359375, 1454.8082275390625, 3692.935546875, 1650.799072265625, 1663.7646484375, 1878.9810791015625, 1526.4967041015625, 1908.093994140625, 1771.7431640625, 2017.4305419921875, 1388.2763671875, 1461.6934814453125, 1711.0247802734375, 1602.3197021484375, 1478.9962158203125, 1471.3638916015625, 519.0364990234375, 402.445068359375, 402.53875732421875, 349.1479187011719, 186.04510498046875, 174.53163146972656, 169.37123107910156, 168.62904357910156, 167.00726318359375, 166.6021270751953, 157.54998779296875, 156.1642608642578, 475.7216491699219, 295.2006530761719, 144.5625762939453, 139.94970703125, 133.39022827148438, 133.63815307617188, 125.2343521118164, 122.11365509033203, 119.22303009033203, 118.64071655273438, 119.20584869384766, 499.58245849609375, 117.02598571777344, 114.13117980957031, 110.40524291992188, 110.26358795166016, 110.95980834960938, 108.74689483642578, 244.12791442871094, 6302.02587890625, 1447.7381591796875, 546.5126953125, 437.1143493652344, 426.5378723144531, 219.0546112060547, 3772.3642578125, 422.686767578125, 601.4260864257812, 909.7498168945312, 281.9352722167969, 254.08432006835938, 681.462158203125, 1336.4842529296875, 618.0612182617188, 583.030517578125, 647.6864624023438, 507.359130859375, 1143.02685546875, 310.6479797363281, 1094.35009765625, 1520.8526611328125, 1329.99365234375, 1367.8328857421875, 1776.1824951171875, 657.5348510742188, 733.0723266601562, 694.0808715820312, 1477.024169921875, 2632.3720703125, 2442.818603515625, 1751.661376953125, 1115.9769287109375, 1621.3323974609375, 958.886474609375, 1407.8931884765625, 880.949462890625, 1949.0404052734375, 1176.122314453125, 867.4171752929688, 3761.367919921875, 1772.9088134765625, 1309.26953125, 951.186767578125, 1280.638916015625, 2056.0283203125, 1170.3433837890625, 2065.849609375, 1175.4864501953125, 2558.065185546875, 2513.088134765625, 1754.629150390625, 1855.6451416015625, 1476.0118408203125, 1793.5582275390625, 1366.685791015625, 1380.604736328125, 1298.0313720703125, 2722.426513671875, 2013.6253662109375, 1552.7041015625, 1359.36572265625, 875.5848388671875, 810.2859497070312, 671.2215576171875, 603.6083984375, 548.7852172851562, 509.04437255859375, 471.225830078125, 459.41339111328125, 434.9695739746094, 390.90740966796875, 386.5330505371094, 373.8028259277344, 374.17669677734375, 363.9912414550781, 360.7222900390625, 356.044677734375, 349.36810302734375, 347.7028503417969, 329.6237487792969, 327.5205383300781, 307.1869812011719, 293.28466796875, 278.37591552734375, 241.76698303222656, 239.51412963867188, 231.4485321044922, 1876.4417724609375, 570.6318359375, 537.690185546875, 1236.9169921875, 750.7022705078125, 539.6654052734375, 1100.9307861328125, 761.7047119140625, 708.1185302734375, 734.3240356445312, 509.6021423339844, 3187.98486328125, 1997.1732177734375, 631.558349609375, 1663.2562255859375, 879.13916015625, 3018.627197265625, 2248.03271484375, 677.3839111328125, 888.1603393554688, 630.9639892578125, 1040.610107421875, 5944.97607421875, 1389.35693359375, 5047.18798828125, 990.3639526367188, 3632.465087890625, 2463.504638671875, 5214.63330078125, 3089.76318359375, 8993.5263671875, 4062.770263671875, 1878.919677734375, 1866.7095947265625, 2538.762939453125, 2220.597900390625, 1704.30078125, 4118.99609375, 1828.1505126953125, 1520.9638671875, 2933.071533203125, 1998.99169921875, 1814.16748046875, 2213.71728515625, 3115.567138671875, 2427.57177734375, 3157.677978515625, 2575.4541015625, 2068.714111328125, 1830.2889404296875], \"Total\": [36223.0, 8196.0, 8770.0, 6711.0, 16440.0, 9050.0, 22029.0, 7474.0, 6390.0, 8893.0, 9821.0, 5231.0, 4434.0, 4627.0, 7432.0, 4489.0, 3530.0, 4623.0, 9679.0, 2723.0, 6056.0, 5244.0, 3472.0, 8604.0, 6503.0, 3700.0, 5702.0, 3293.0, 5047.0, 2564.0, 8196.2646484375, 2140.946044921875, 1506.6038818359375, 1342.6044921875, 600.4963989257812, 538.4751586914062, 506.4725341796875, 464.6607971191406, 610.168701171875, 503.0254821777344, 437.8820495605469, 420.86669921875, 412.01904296875, 391.3682861328125, 389.98321533203125, 367.81390380859375, 323.85333251953125, 309.6133728027344, 304.29791259765625, 251.31504821777344, 252.39859008789062, 282.7479248046875, 230.06814575195312, 231.86221313476562, 222.99855041503906, 370.39874267578125, 196.0154266357422, 189.2467498779297, 187.5922088623047, 181.90342712402344, 36223.25390625, 1621.18505859375, 1547.97998046875, 657.0584106445312, 352.5693054199219, 2940.10400390625, 4489.63671875, 5231.43798828125, 9050.181640625, 2767.211181640625, 4623.92578125, 3293.552978515625, 2892.95458984375, 1046.055908203125, 7474.0322265625, 3083.673095703125, 2772.841064453125, 2713.108154296875, 682.2766723632812, 1086.7144775390625, 5244.3427734375, 1013.2534790039062, 16440.73828125, 7432.47314453125, 1163.4111328125, 1156.0186767578125, 6978.9150390625, 9162.4296875, 5624.2587890625, 6447.7041015625, 2580.644287109375, 5815.90087890625, 1845.7677001953125, 5324.89990234375, 3015.015869140625, 6293.80029296875, 6892.38134765625, 22915.93359375, 4451.80419921875, 6940.62353515625, 19398.078125, 22029.40234375, 11835.630859375, 5587.4794921875, 12729.1796875, 6194.65576171875, 7295.8759765625, 793.8859252929688, 653.9596557617188, 440.1085205078125, 439.8853454589844, 392.3132629394531, 355.4801940917969, 330.4101867675781, 325.6788330078125, 320.83660888671875, 272.9682922363281, 269.06329345703125, 271.8205871582031, 263.664306640625, 989.3648071289062, 149.54977416992188, 152.80503845214844, 145.7686004638672, 411.77044677734375, 245.12693786621094, 141.6576690673828, 136.11146545410156, 175.21719360351562, 113.52508544921875, 109.48666381835938, 109.3189926147461, 102.32257843017578, 100.25216674804688, 93.5849380493164, 91.76050567626953, 147.39181518554688, 1539.0888671875, 1061.4525146484375, 441.6032409667969, 358.1006164550781, 252.43161010742188, 234.60987854003906, 178.09889221191406, 270.8873291015625, 605.4361572265625, 967.2035522460938, 282.9065246582031, 1088.48876953125, 2497.711669921875, 474.75299072265625, 1204.877197265625, 905.9830322265625, 662.63134765625, 8770.44140625, 4627.88525390625, 657.2953491210938, 6390.013671875, 1718.68017578125, 2535.328369140625, 1489.020751953125, 2165.095458984375, 2047.83154296875, 1437.1627197265625, 916.6528930664062, 2081.18408203125, 1358.9434814453125, 2767.73388671875, 2562.342041015625, 6503.7666015625, 3639.56201171875, 2220.24853515625, 1676.4368896484375, 4424.830078125, 1311.5389404296875, 1520.9290771484375, 3831.04443359375, 1918.718017578125, 5052.08642578125, 22915.93359375, 5702.833984375, 22029.40234375, 5712.14990234375, 4196.19287109375, 19398.078125, 11085.7587890625, 12729.1796875, 8893.130859375, 9520.056640625, 11835.630859375, 5841.2373046875, 5138.0205078125, 5933.43408203125, 7943.7509765625, 9821.9892578125, 1104.8839111328125, 732.8775634765625, 566.4378051757812, 524.830078125, 423.9628601074219, 423.4661865234375, 419.7153015136719, 403.26019287109375, 411.50347900390625, 374.3627624511719, 314.0888977050781, 309.6225891113281, 301.9917907714844, 326.9718933105469, 869.501953125, 252.72653198242188, 251.91497802734375, 249.23269653320312, 247.25936889648438, 240.32029724121094, 236.26856994628906, 219.5980224609375, 216.38937377929688, 212.12330627441406, 205.33709716796875, 202.24610900878906, 200.06185913085938, 195.5082244873047, 179.99417114257812, 180.49794006347656, 608.49755859375, 1420.6700439453125, 1494.7996826171875, 540.9668579101562, 403.635009765625, 723.9415893554688, 860.4749145507812, 410.76904296875, 265.6864929199219, 607.1173095703125, 869.7860107421875, 1321.2147216796875, 588.6012573242188, 953.9425048828125, 1009.8662109375, 641.064697265625, 1013.2714233398438, 486.6831359863281, 857.5156860351562, 1382.67236328125, 1361.869384765625, 902.6177368164062, 720.2407836914062, 1110.502197265625, 3494.9169921875, 2045.3721923828125, 7354.1806640625, 3563.595703125, 6603.703125, 10767.5869140625, 2665.5703125, 1868.4041748046875, 6459.0712890625, 3129.458984375, 3670.635009765625, 11085.7587890625, 3572.440185546875, 5481.9052734375, 4907.068359375, 19398.078125, 12729.1796875, 3111.734619140625, 22915.93359375, 4176.78662109375, 4314.8681640625, 6312.26953125, 3857.504150390625, 6892.38134765625, 6111.330078125, 9520.056640625, 3234.946533203125, 3824.718505859375, 7068.62744140625, 5625.20654296875, 4782.28125, 6940.62353515625, 519.8580932617188, 403.2398681640625, 403.3619689941406, 349.9465637207031, 186.84738159179688, 175.33132934570312, 170.16552734375, 169.42608642578125, 167.8058624267578, 167.4110107421875, 158.34300231933594, 156.96705627441406, 478.24993896484375, 296.78759765625, 145.3647003173828, 140.74258422851562, 134.18707275390625, 134.4376220703125, 126.0314712524414, 122.90814208984375, 120.01653289794922, 119.43824768066406, 120.01812744140625, 503.0018310546875, 117.83518981933594, 114.931640625, 111.19801330566406, 111.05716705322266, 111.76618957519531, 109.55131530761719, 246.44671630859375, 6711.12109375, 1504.46875, 563.71435546875, 456.166748046875, 450.4004211425781, 225.60963439941406, 4434.8173828125, 451.50323486328125, 659.1290893554688, 1039.781494140625, 299.075439453125, 267.6178894042969, 782.75048828125, 1663.7681884765625, 725.9432983398438, 680.1322021484375, 799.8848266601562, 605.9174194335938, 1577.6021728515625, 345.50067138671875, 1551.3876953125, 2323.644775390625, 1985.93603515625, 2084.1298828125, 2966.521240234375, 867.7647094726562, 1004.2072143554688, 946.558837890625, 2688.467529296875, 6204.181640625, 5702.833984375, 3525.557373046875, 1848.3770751953125, 3259.3720703125, 1573.076171875, 2919.8125, 1382.8048095703125, 5034.99658203125, 2268.41015625, 1351.6273193359375, 19398.078125, 5250.3671875, 2985.662109375, 1653.8974609375, 3029.107421875, 8576.2265625, 2736.67431640625, 11085.7587890625, 2859.2265625, 22915.93359375, 22029.40234375, 8604.908203125, 10767.5869140625, 5625.20654296875, 12729.1796875, 4667.34521484375, 5933.43408203125, 5587.96533203125, 2723.21044921875, 2014.4095458984375, 1553.4874267578125, 1360.1517333984375, 876.3646240234375, 811.063720703125, 672.0017700195312, 604.386962890625, 549.561767578125, 509.82147216796875, 472.0006408691406, 460.18865966796875, 435.75079345703125, 391.684814453125, 387.30889892578125, 374.58148193359375, 374.9566955566406, 364.7688903808594, 361.5052490234375, 356.82086181640625, 350.1460876464844, 348.4786376953125, 330.3987121582031, 328.3078308105469, 307.96563720703125, 294.0600280761719, 279.1569519042969, 242.54322814941406, 240.2926025390625, 232.22891235351562, 1904.967041015625, 572.9593505859375, 541.2727661132812, 1256.9534912109375, 759.05078125, 543.9091796875, 1119.0958251953125, 775.1189575195312, 719.6812133789062, 752.08203125, 518.3530883789062, 3530.122802734375, 2173.43359375, 648.47265625, 1801.188232421875, 926.0316162109375, 3472.49365234375, 2564.81689453125, 704.0374145507812, 947.162353515625, 656.6592407226562, 1181.4676513671875, 9821.9892578125, 1726.403564453125, 8893.130859375, 1158.9522705078125, 6056.2783203125, 3700.0966796875, 9679.4052734375, 5047.95654296875, 22029.40234375, 8604.908203125, 2883.58203125, 2960.27734375, 4866.34423828125, 4075.381591796875, 2713.66064453125, 11835.630859375, 3118.8271484375, 2331.81884765625, 7943.7509765625, 4107.3994140625, 3454.388427734375, 5497.7783203125, 16440.73828125, 8576.2265625, 22915.93359375, 19398.078125, 9520.056640625, 6603.703125], \"Category\": [\"Default\", \"Default\", \"Default\", \"Default\", \"Default\", \"Default\", \"Default\", \"Default\", \"Default\", \"Default\", \"Default\", \"Default\", \"Default\", \"Default\", \"Default\", \"Default\", \"Default\", \"Default\", \"Default\", \"Default\", \"Default\", \"Default\", \"Default\", \"Default\", \"Default\", \"Default\", \"Default\", \"Default\", \"Default\", \"Default\", \"Topic1\", \"Topic1\", \"Topic1\", \"Topic1\", \"Topic1\", \"Topic1\", \"Topic1\", \"Topic1\", \"Topic1\", \"Topic1\", \"Topic1\", \"Topic1\", \"Topic1\", \"Topic1\", \"Topic1\", \"Topic1\", \"Topic1\", \"Topic1\", \"Topic1\", \"Topic1\", \"Topic1\", \"Topic1\", \"Topic1\", \"Topic1\", \"Topic1\", \"Topic1\", \"Topic1\", \"Topic1\", \"Topic1\", \"Topic1\", \"Topic1\", \"Topic1\", \"Topic1\", \"Topic1\", \"Topic1\", \"Topic1\", \"Topic1\", \"Topic1\", \"Topic1\", \"Topic1\", \"Topic1\", \"Topic1\", \"Topic1\", \"Topic1\", \"Topic1\", \"Topic1\", \"Topic1\", \"Topic1\", \"Topic1\", \"Topic1\", \"Topic1\", \"Topic1\", \"Topic1\", \"Topic1\", \"Topic1\", \"Topic1\", \"Topic1\", \"Topic1\", \"Topic1\", \"Topic1\", \"Topic1\", \"Topic1\", \"Topic1\", \"Topic1\", \"Topic1\", \"Topic1\", \"Topic1\", \"Topic1\", \"Topic1\", \"Topic1\", \"Topic1\", \"Topic1\", \"Topic1\", \"Topic1\", \"Topic1\", \"Topic1\", \"Topic1\", \"Topic2\", \"Topic2\", \"Topic2\", \"Topic2\", \"Topic2\", \"Topic2\", \"Topic2\", \"Topic2\", \"Topic2\", \"Topic2\", \"Topic2\", \"Topic2\", \"Topic2\", \"Topic2\", \"Topic2\", \"Topic2\", \"Topic2\", \"Topic2\", \"Topic2\", \"Topic2\", \"Topic2\", \"Topic2\", \"Topic2\", \"Topic2\", \"Topic2\", \"Topic2\", \"Topic2\", \"Topic2\", \"Topic2\", \"Topic2\", \"Topic2\", \"Topic2\", \"Topic2\", \"Topic2\", \"Topic2\", \"Topic2\", \"Topic2\", \"Topic2\", \"Topic2\", \"Topic2\", \"Topic2\", \"Topic2\", \"Topic2\", \"Topic2\", \"Topic2\", \"Topic2\", \"Topic2\", \"Topic2\", \"Topic2\", \"Topic2\", \"Topic2\", \"Topic2\", \"Topic2\", \"Topic2\", \"Topic2\", \"Topic2\", \"Topic2\", \"Topic2\", \"Topic2\", \"Topic2\", \"Topic2\", \"Topic2\", \"Topic2\", \"Topic2\", \"Topic2\", \"Topic2\", \"Topic2\", \"Topic2\", \"Topic2\", \"Topic2\", \"Topic2\", \"Topic2\", \"Topic2\", \"Topic2\", \"Topic2\", \"Topic2\", \"Topic2\", \"Topic2\", \"Topic2\", \"Topic2\", \"Topic2\", \"Topic2\", \"Topic2\", \"Topic2\", \"Topic2\", \"Topic2\", \"Topic2\", \"Topic2\", \"Topic3\", \"Topic3\", \"Topic3\", \"Topic3\", \"Topic3\", \"Topic3\", \"Topic3\", \"Topic3\", \"Topic3\", \"Topic3\", \"Topic3\", \"Topic3\", \"Topic3\", \"Topic3\", \"Topic3\", \"Topic3\", \"Topic3\", \"Topic3\", \"Topic3\", \"Topic3\", \"Topic3\", \"Topic3\", \"Topic3\", \"Topic3\", \"Topic3\", \"Topic3\", \"Topic3\", \"Topic3\", \"Topic3\", \"Topic3\", \"Topic3\", \"Topic3\", \"Topic3\", \"Topic3\", \"Topic3\", \"Topic3\", \"Topic3\", \"Topic3\", \"Topic3\", \"Topic3\", \"Topic3\", \"Topic3\", \"Topic3\", \"Topic3\", \"Topic3\", \"Topic3\", \"Topic3\", \"Topic3\", \"Topic3\", \"Topic3\", \"Topic3\", \"Topic3\", \"Topic3\", \"Topic3\", \"Topic3\", \"Topic3\", \"Topic3\", \"Topic3\", \"Topic3\", \"Topic3\", \"Topic3\", \"Topic3\", \"Topic3\", \"Topic3\", \"Topic3\", \"Topic3\", \"Topic3\", \"Topic3\", \"Topic3\", \"Topic3\", \"Topic3\", \"Topic3\", \"Topic3\", \"Topic3\", \"Topic3\", \"Topic3\", \"Topic3\", \"Topic3\", \"Topic3\", \"Topic3\", \"Topic3\", \"Topic3\", \"Topic3\", \"Topic3\", \"Topic3\", \"Topic3\", \"Topic4\", \"Topic4\", \"Topic4\", \"Topic4\", \"Topic4\", \"Topic4\", \"Topic4\", \"Topic4\", \"Topic4\", \"Topic4\", \"Topic4\", \"Topic4\", \"Topic4\", \"Topic4\", \"Topic4\", \"Topic4\", \"Topic4\", \"Topic4\", \"Topic4\", \"Topic4\", \"Topic4\", \"Topic4\", \"Topic4\", \"Topic4\", \"Topic4\", \"Topic4\", \"Topic4\", \"Topic4\", \"Topic4\", \"Topic4\", \"Topic4\", \"Topic4\", \"Topic4\", \"Topic4\", \"Topic4\", \"Topic4\", \"Topic4\", \"Topic4\", \"Topic4\", \"Topic4\", \"Topic4\", \"Topic4\", \"Topic4\", \"Topic4\", \"Topic4\", \"Topic4\", \"Topic4\", \"Topic4\", \"Topic4\", \"Topic4\", \"Topic4\", \"Topic4\", \"Topic4\", \"Topic4\", \"Topic4\", \"Topic4\", \"Topic4\", \"Topic4\", \"Topic4\", \"Topic4\", \"Topic4\", \"Topic4\", \"Topic4\", \"Topic4\", \"Topic4\", \"Topic4\", \"Topic4\", \"Topic4\", \"Topic4\", \"Topic4\", \"Topic4\", \"Topic4\", \"Topic4\", \"Topic4\", \"Topic4\", \"Topic4\", \"Topic4\", \"Topic4\", \"Topic4\", \"Topic4\", \"Topic4\", \"Topic4\", \"Topic4\", \"Topic4\", \"Topic4\", \"Topic4\", \"Topic4\", \"Topic4\", \"Topic4\", \"Topic5\", \"Topic5\", \"Topic5\", \"Topic5\", \"Topic5\", \"Topic5\", \"Topic5\", \"Topic5\", \"Topic5\", \"Topic5\", \"Topic5\", \"Topic5\", \"Topic5\", \"Topic5\", \"Topic5\", \"Topic5\", \"Topic5\", \"Topic5\", \"Topic5\", \"Topic5\", \"Topic5\", \"Topic5\", \"Topic5\", \"Topic5\", \"Topic5\", \"Topic5\", \"Topic5\", \"Topic5\", \"Topic5\", \"Topic5\", \"Topic5\", \"Topic5\", \"Topic5\", \"Topic5\", \"Topic5\", \"Topic5\", \"Topic5\", \"Topic5\", \"Topic5\", \"Topic5\", \"Topic5\", \"Topic5\", \"Topic5\", \"Topic5\", \"Topic5\", \"Topic5\", \"Topic5\", \"Topic5\", \"Topic5\", \"Topic5\", \"Topic5\", \"Topic5\", \"Topic5\", \"Topic5\", \"Topic5\", \"Topic5\", \"Topic5\", \"Topic5\", \"Topic5\", \"Topic5\", \"Topic5\", \"Topic5\", \"Topic5\", \"Topic5\", \"Topic5\", \"Topic5\", \"Topic5\", \"Topic5\", \"Topic5\", \"Topic5\", \"Topic5\", \"Topic5\", \"Topic5\", \"Topic5\", \"Topic5\", \"Topic5\", \"Topic5\", \"Topic5\", \"Topic5\", \"Topic5\"], \"logprob\": [30.0, 29.0, 28.0, 27.0, 26.0, 25.0, 24.0, 23.0, 22.0, 21.0, 20.0, 19.0, 18.0, 17.0, 16.0, 15.0, 14.0, 13.0, 12.0, 11.0, 10.0, 9.0, 8.0, 7.0, 6.0, 5.0, 4.0, 3.0, 2.0, 1.0, -4.751999855041504, -6.094799995422363, -6.446300029754639, -6.561600208282471, -7.3668999671936035, -7.476099967956543, -7.537499904632568, -7.623799800872803, -7.351399898529053, -7.54449987411499, -7.683199882507324, -7.722899913787842, -7.744200229644775, -7.7957000732421875, -7.799300193786621, -7.857900142669678, -7.985499858856201, -8.030599594116211, -8.04800033569336, -8.239800453186035, -8.23550033569336, -8.122200012207031, -8.328399658203125, -8.320699691772461, -8.359800338745117, -7.852499961853027, -8.4891996383667, -8.524499893188477, -8.533300399780273, -8.564299583435059, -3.288800001144409, -6.383900165557861, -6.436399936676025, -7.287300109863281, -7.906099796295166, -5.809500217437744, -5.402400016784668, -5.252900123596191, -4.7179999351501465, -5.88040018081665, -5.386499881744385, -5.719299793243408, -5.8541998863220215, -6.841800212860107, -4.935999870300293, -5.796199798583984, -5.907400131225586, -5.936200141906738, -7.268599987030029, -6.832600116729736, -5.373600006103516, -6.90369987487793, -4.361800193786621, -5.137899875640869, -6.790299892425537, -6.800899982452393, -5.222700119018555, -4.998700141906738, -5.436100006103516, -5.348400115966797, -6.124499797821045, -5.502600193023682, -6.423799991607666, -5.613399982452393, -6.057700157165527, -5.571199893951416, -5.542900085449219, -4.8607001304626465, -5.838699817657471, -5.678199768066406, -5.220300197601318, -5.234099864959717, -5.630000114440918, -5.809700012207031, -5.741700172424316, -5.831999778747559, -5.835700035095215, -6.784299850463867, -6.9781999588012695, -7.374800205230713, -7.375400066375732, -7.490099906921387, -7.588900089263916, -7.662099838256836, -7.676599979400635, -7.691699981689453, -7.853600025177002, -7.868100166320801, -7.857900142669678, -7.888400077819824, -6.566199779510498, -8.457799911499023, -8.436300277709961, -8.483499526977539, -7.445199966430664, -7.964200019836426, -8.512499809265137, -8.55270004272461, -8.30090045928955, -8.735099792480469, -8.771599769592285, -8.773200035095215, -8.839699745178223, -8.860699653625488, -8.929699897766113, -8.94950008392334, -8.47599983215332, -6.132999897003174, -6.504300117492676, -7.382900238037109, -7.592899799346924, -7.9421000480651855, -8.014699935913086, -8.288100242614746, -7.8734002113342285, -7.077899932861328, -6.624000072479248, -7.833499908447266, -6.514800071716309, -5.716899871826172, -7.329800128936768, -6.426799774169922, -6.703700065612793, -7.015500068664551, -4.544600009918213, -5.166100025177002, -7.0258002281188965, -4.872499942779541, -6.115200042724609, -5.773099899291992, -6.273799896240234, -5.933000087738037, -6.0019001960754395, -6.32450008392334, -6.735099792480469, -6.0065999031066895, -6.408899784088135, -5.817599773406982, -5.892199993133545, -5.113699913024902, -5.615099906921387, -6.039000034332275, -6.281799793243408, -5.517000198364258, -6.505000114440918, -6.395899772644043, -5.747200012207031, -6.239200115203857, -5.592599868774414, -4.734899997711182, -5.618899822235107, -4.876699924468994, -5.654799938201904, -5.84060001373291, -5.144400119781494, -5.4141998291015625, -5.395400047302246, -5.670199871063232, -5.660299777984619, -5.589300155639648, -5.876100063323975, -5.937900066375732, -5.936299800872803, -5.919400215148926, -5.9355998039245605, -6.659299850463867, -7.070199966430664, -7.328199863433838, -7.404600143432617, -7.618299961090088, -7.619500160217285, -7.628399848937988, -7.668499946594238, -7.6483001708984375, -7.743000030517578, -7.919000148773193, -7.933300018310547, -7.958399772644043, -7.879000186920166, -6.901299953460693, -8.136899948120117, -8.140199661254883, -8.150899887084961, -8.158900260925293, -8.187399864196777, -8.204500198364258, -8.277899742126465, -8.292799949645996, -8.312700271606445, -8.345399856567383, -8.36050033569336, -8.371500015258789, -8.394599914550781, -8.47760009765625, -8.474800109863281, -7.262899875640869, -6.426000118255615, -6.376399993896484, -7.392199993133545, -7.6819000244140625, -7.111599922180176, -6.9604997634887695, -7.677700042724609, -8.098699569702148, -7.3333001136779785, -7.007400035858154, -6.633399963378906, -7.376299858093262, -6.942399978637695, -6.894199848175049, -7.306600093841553, -6.9028000831604, -7.553199768066406, -7.079999923706055, -6.697000026702881, -6.712100028991699, -7.066299915313721, -7.240499973297119, -6.922699928283691, -6.083000183105469, -6.478000164031982, -5.636099815368652, -6.141499996185303, -5.730199813842773, -5.427999973297119, -6.388599872589111, -6.621200084686279, -5.831399917602539, -6.3165998458862305, -6.237299919128418, -5.586400032043457, -6.278299808502197, -6.037099838256836, -6.125899791717529, -5.412099838256836, -5.64870023727417, -6.383500099182129, -5.451900005340576, -6.2571001052856445, -6.249300003051758, -6.127600193023682, -6.335400104522705, -6.112199783325195, -6.186399936676025, -6.05649995803833, -6.430300235748291, -6.378799915313721, -6.22130012512207, -6.286900043487549, -6.367000102996826, -6.372200012207031, -7.089099884033203, -7.343500137329102, -7.343299865722656, -7.485599994659424, -8.115099906921387, -8.178899765014648, -8.208999633789062, -8.213399887084961, -8.222999572753906, -8.2253999710083, -8.281299591064453, -8.29010009765625, -7.176199913024902, -7.65339994430542, -8.367300033569336, -8.399800300598145, -8.447799682617188, -8.445899963378906, -8.510899543762207, -8.536100387573242, -8.560099601745605, -8.5649995803833, -8.560199737548828, -7.127299785614014, -8.578700065612793, -8.603699684143066, -8.636899948120117, -8.638199806213379, -8.6318998336792, -8.652000427246094, -7.843400001525879, -4.592400074005127, -6.063300132751465, -7.037499904632568, -7.260900020599365, -7.285399913787842, -7.951700210571289, -5.105599880218506, -7.294400215148926, -6.941699981689453, -6.527900218963623, -7.699399948120117, -7.803400039672852, -6.816800117492676, -6.1433000564575195, -6.9145002365112305, -6.972799777984619, -6.867599964141846, -7.111800193786621, -6.299600124359131, -7.602399826049805, -6.343100070953369, -6.013999938964844, -6.148099899291992, -6.120100021362305, -5.858799934387207, -6.85260009765625, -6.743800163269043, -6.798500061035156, -6.043300151824951, -5.465400218963623, -5.54010009765625, -5.872700214385986, -6.323599815368652, -5.949999809265137, -6.475299835205078, -6.09119987487793, -6.560100078582764, -5.765999794006348, -6.271100044250488, -6.575500011444092, -5.108500003814697, -5.8607001304626465, -6.16379976272583, -6.48330020904541, -6.1859002113342285, -5.712500095367432, -6.276000022888184, -5.707799911499023, -6.271599769592285, -5.49399995803833, -5.5117998123168945, -5.870999813079834, -5.815100193023682, -6.044000148773193, -5.849100112915039, -6.1209001541137695, -6.110799789428711, -6.172399997711182, -5.4791998863220215, -5.780799865722656, -6.0406999588012695, -6.173699855804443, -6.61359977722168, -6.691100120544434, -6.87939977645874, -6.985499858856201, -7.0808000564575195, -7.155900001525879, -7.233099937438965, -7.258500099182129, -7.313199996948242, -7.420000076293945, -7.431300163269043, -7.464700222015381, -7.463699817657471, -7.491300106048584, -7.500400066375732, -7.513400077819824, -7.532299995422363, -7.537099838256836, -7.5904998779296875, -7.59689998626709, -7.660999774932861, -7.707300186157227, -7.759500026702881, -7.9004998207092285, -7.909900188446045, -7.9440999031066895, -5.85129976272583, -7.0416998863220215, -7.101200103759766, -6.268099784851074, -6.767499923706055, -7.097499847412109, -6.3846001625061035, -6.752900123596191, -6.825900077819824, -6.7895002365112305, -7.154799938201904, -5.321300029754639, -5.789000034332275, -6.940299987792969, -5.97189998626709, -6.609499931335449, -5.375899791717529, -5.6707000732421875, -6.870200157165527, -6.599299907684326, -6.941199779510498, -6.440899848937988, -4.698200225830078, -6.151899814605713, -4.8618998527526855, -6.4903998374938965, -5.190800189971924, -5.579100131988525, -4.82919979095459, -5.35260009765625, -4.284200191497803, -5.078800201416016, -5.849999904632568, -5.856500148773193, -5.548999786376953, -5.6828999519348145, -5.9475998878479, -5.065100193023682, -5.877399921417236, -6.061399936676025, -5.404699802398682, -5.788099765777588, -5.8850998878479, -5.685999870300293, -5.344299793243408, -5.593800067901611, -5.330900192260742, -5.5346999168396, -5.753799915313721, -5.876200199127197], \"loglift\": [30.0, 29.0, 28.0, 27.0, 26.0, 25.0, 24.0, 23.0, 22.0, 21.0, 20.0, 19.0, 18.0, 17.0, 16.0, 15.0, 14.0, 13.0, 12.0, 11.0, 10.0, 9.0, 8.0, 7.0, 6.0, 5.0, 4.0, 3.0, 2.0, 1.0, 1.3833999633789062, 1.3830000162124634, 1.3828999996185303, 1.3828999996185303, 1.382099986076355, 1.3818999528884888, 1.3818999528884888, 1.381700038909912, 1.381700038909912, 1.381700038909912, 1.381600022315979, 1.381600022315979, 1.381500005722046, 1.3813999891281128, 1.3813999891281128, 1.3812999725341797, 1.38100004196167, 1.3808000087738037, 1.3808000087738037, 1.3803000450134277, 1.3803000450134277, 1.3799999952316284, 1.3799999952316284, 1.3798999786376953, 1.3797999620437622, 1.379699945449829, 1.3794000148773193, 1.3791999816894531, 1.3791999816894531, 1.37909996509552, 1.3605999946594238, 1.371999979019165, 1.3657000064849854, 1.3717000484466553, 1.375499963760376, 1.351099967956543, 1.3349000215530396, 1.3314000368118286, 1.3183000087738037, 1.3408000469207764, 1.3213000297546387, 1.3278000354766846, 1.32260000705719, 1.3522000312805176, 1.291599988937378, 1.3166999816894531, 1.3118000030517578, 1.3047000169754028, 1.3528000116348267, 1.3233000040054321, 1.208299994468689, 1.3221999406814575, 1.0774999856948853, 1.0952999591827393, 1.2973999977111816, 1.2930999994277954, 1.0734000205993652, 1.0253000259399414, 1.0758999586105347, 1.026900053024292, 1.1664999723434448, 0.9758999943733215, 1.2023999691009521, 0.9531999826431274, 1.0777000188827515, 0.8282999992370605, 0.7656999826431274, 0.24650000035762787, 0.9070000052452087, 0.6233999729156494, 0.053599998354911804, -0.08739999681711197, 0.1378999948501587, 0.708899974822998, -0.04659999907016754, 0.5834000110626221, 0.41609999537467957, 1.6856000423431396, 1.6855000257492065, 1.6849000453948975, 1.6849000453948975, 1.6847000122070312, 1.684399962425232, 1.6842999458312988, 1.6842999458312988, 1.6842000484466553, 1.6837999820709229, 1.6837999820709229, 1.6837999820709229, 1.6836999654769897, 1.6835999488830566, 1.681399941444397, 1.6813000440597534, 1.6813000440597534, 1.6811000108718872, 1.680899977684021, 1.680899977684021, 1.6806000471115112, 1.679900050163269, 1.6797000169754028, 1.6793999671936035, 1.6792999505996704, 1.6790000200271606, 1.6784000396728516, 1.6782000064849854, 1.6780999898910522, 1.6777000427246094, 1.6748000383377075, 1.6750999689102173, 1.6734000444412231, 1.6730999946594238, 1.6734999418258667, 1.6742000579833984, 1.6763999462127686, 1.6717000007629395, 1.6629999876022339, 1.6483999490737915, 1.6682000160217285, 1.6395000219345093, 1.6066999435424805, 1.6541999578475952, 1.6259000301361084, 1.6339999437332153, 1.63510000705719, 1.5230000019073486, 1.5407999753952026, 1.6328999996185303, 1.5118000507354736, 1.5822999477386475, 1.535599946975708, 1.5671000480651855, 1.5335999727249146, 1.520400047302246, 1.551900029182434, 1.590999960899353, 1.499500036239624, 1.5233999490737915, 1.40339994430542, 1.405900001525879, 1.253000020980835, 1.3321000337600708, 1.402400016784668, 1.440600037574768, 1.2347999811172485, 1.4628000259399414, 1.423799991607666, 1.1486999988555908, 1.3481999635696411, 1.0267000198364258, 0.37229999899864197, 0.8791999816894531, 0.27000001072883606, 0.8416000008583069, 0.9642000198364258, 0.12950000166893005, 0.41920000314712524, 0.29980000853538513, 0.38359999656677246, 0.325300008058548, 0.1785999983549118, 0.5979999899864197, 0.6644999980926514, 0.5221999883651733, 0.24729999899864197, 0.018799999728798866, 1.4800000190734863, 1.479599952697754, 1.479200005531311, 1.479099988937378, 1.4788000583648682, 1.4788000583648682, 1.4788000583648682, 1.478700041770935, 1.478700041770935, 1.478600025177002, 1.4781999588012695, 1.4780999422073364, 1.4780000448226929, 1.4779000282287598, 1.4775999784469604, 1.4774999618530273, 1.4774999618530273, 1.4774999618530273, 1.4774999618530273, 1.4773999452590942, 1.4773000478744507, 1.4771000146865845, 1.4769999980926514, 1.4769999980926514, 1.4767999649047852, 1.4767999649047852, 1.476699948310852, 1.4766000509262085, 1.4763000011444092, 1.4763000011444092, 1.4729000329971313, 1.461899995803833, 1.4606000185012817, 1.461300015449524, 1.464400053024292, 1.4505000114440918, 1.4287999868392944, 1.4509999752044678, 1.4658000469207764, 1.4048000574111938, 1.3711999654769897, 1.3271000385284424, 1.392799973487854, 1.3437999486923218, 1.3350000381469727, 1.3769999742507935, 1.3229999542236328, 1.406000018119812, 1.3128000497817993, 1.218000054359436, 1.2180999517440796, 1.2752000093460083, 1.32669997215271, 1.2115000486373901, 0.904699981212616, 1.0454000234603882, 0.607699990272522, 0.82669997215271, 0.6212000250816345, 0.4345000088214874, 0.8700000047683716, 0.9926999807357788, 0.5421000123023987, 0.7815999984741211, 0.7013000249862671, 0.24699999392032623, 0.6875, 0.5005000233650208, 0.5224999785423279, -0.13830000162124634, 0.04650000110268593, 0.7203999757766724, -0.34470000863075256, 0.5523999929428101, 0.5277000069618225, 0.2689000070095062, 0.553600013256073, 0.1964000016450882, 0.24250000715255737, -0.07090000063180923, 0.6347000002861023, 0.5188000202178955, 0.06210000067949295, 0.2249000072479248, 0.30709999799728394, -0.07050000131130219, 1.8042000532150269, 1.8037999868392944, 1.8036999702453613, 1.8035000562667847, 1.8013999462127686, 1.801200032234192, 1.8011000156402588, 1.8009999990463257, 1.8009999990463257, 1.8008999824523926, 1.8006999492645264, 1.8006000518798828, 1.8004000186920166, 1.8004000186920166, 1.8001999855041504, 1.8000999689102173, 1.7998000383377075, 1.7998000383377075, 1.799399971961975, 1.799299955368042, 1.7991000413894653, 1.7990000247955322, 1.7990000247955322, 1.7989000082015991, 1.7989000082015991, 1.798799991607666, 1.7985999584197998, 1.7985999584197998, 1.7984999418258667, 1.7984000444412231, 1.7963000535964966, 1.742799997329712, 1.767300009727478, 1.7747999429702759, 1.763100028038025, 1.7512999773025513, 1.7762999534606934, 1.6440000534057617, 1.739799976348877, 1.7141000032424927, 1.6720999479293823, 1.7467000484466553, 1.7538000345230103, 1.667199969291687, 1.5866999626159668, 1.6448999643325806, 1.6517000198364258, 1.5946999788284302, 1.6282000541687012, 1.4835000038146973, 1.6993999481201172, 1.4567999839782715, 1.3818999528884888, 1.4048000574111938, 1.384600043296814, 1.292799949645996, 1.5283000469207764, 1.4910000562667847, 1.4954999685287476, 1.2067999839782715, 0.9484000205993652, 0.9578999876976013, 1.1062999963760376, 1.301200032234192, 1.1074999570846558, 1.3107000589370728, 1.076300024986267, 1.3549000024795532, 0.8567000031471252, 1.148900032043457, 1.3622000217437744, 0.16539999842643738, 0.7200999855995178, 0.9814000129699707, 1.2525999546051025, 0.9448000192642212, 0.3774999976158142, 0.9563000202178955, 0.12559999525547028, 0.9168999791145325, -0.38679999113082886, -0.3650999963283539, 0.21570000052452087, 0.04740000143647194, 0.46779999136924744, -0.15399999916553497, 0.5774999856948853, 0.34769999980926514, 0.34599998593330383, 1.7580000162124634, 1.7578999996185303, 1.7577999830245972, 1.757699966430664, 1.7574000358581543, 1.7574000358581543, 1.757200002670288, 1.7569999694824219, 1.7568999528884888, 1.7568000555038452, 1.756700038909912, 1.756600022315979, 1.756500005722046, 1.7562999725341797, 1.7562999725341797, 1.7561999559402466, 1.7561999559402466, 1.7561999559402466, 1.7561999559402466, 1.756100058555603, 1.756100058555603, 1.756100058555603, 1.75600004196167, 1.7559000253677368, 1.7558000087738037, 1.7556999921798706, 1.7554999589920044, 1.7551000118255615, 1.7551000118255615, 1.7549999952316284, 1.7431999444961548, 1.7542999982833862, 1.7517000436782837, 1.742300033569336, 1.7473000288009644, 1.750499963760376, 1.7419999837875366, 1.7409000396728516, 1.7421000003814697, 1.7344000339508057, 1.7412999868392944, 1.6563999652862549, 1.673799991607666, 1.7318999767303467, 1.6786999702453613, 1.7064000368118286, 1.618299961090088, 1.6265000104904175, 1.7196999788284302, 1.694000005722046, 1.718400001525879, 1.6313999891281128, 1.2562999725341797, 1.541100025177002, 1.1919000148773193, 1.601099967956543, 1.2470999956130981, 1.3516000509262085, 1.139799952507019, 1.2674000263214111, 0.862500011920929, 1.0078999996185303, 1.3300000429153442, 1.2971999645233154, 1.107699990272522, 1.1511000394821167, 1.2932000160217285, 0.7027999758720398, 1.2242000102996826, 1.3309999704360962, 0.7620000243186951, 1.0382000207901, 1.114300012588501, 0.8486999869346619, 0.0949999988079071, 0.49619999527931213, -0.22370000183582306, -0.26080000400543213, 0.23190000653266907, 0.47519999742507935]}, \"token.table\": {\"Topic\": [1, 3, 4, 5, 1, 2, 3, 4, 5, 1, 1, 3, 5, 1, 3, 3, 1, 2, 5, 3, 2, 5, 4, 5, 3, 5, 3, 5, 1, 2, 3, 4, 5, 1, 2, 3, 4, 5, 1, 2, 3, 4, 5, 2, 5, 1, 2, 3, 4, 5, 4, 5, 3, 5, 3, 5, 1, 2, 3, 4, 5, 2, 5, 1, 2, 3, 4, 5, 1, 4, 1, 2, 3, 5, 1, 4, 5, 1, 2, 3, 4, 5, 1, 2, 3, 4, 5, 3, 2, 3, 5, 1, 2, 3, 4, 5, 1, 2, 3, 4, 5, 2, 3, 4, 2, 1, 2, 3, 5, 1, 3, 4, 1, 2, 3, 4, 5, 1, 2, 3, 4, 5, 1, 2, 3, 5, 1, 2, 3, 4, 5, 4, 5, 1, 2, 3, 4, 1, 2, 3, 4, 5, 1, 3, 4, 1, 2, 3, 4, 5, 1, 2, 3, 4, 5, 2, 3, 5, 2, 3, 5, 4, 5, 1, 2, 3, 4, 5, 1, 3, 1, 1, 2, 4, 5, 1, 2, 3, 4, 5, 1, 2, 3, 4, 5, 1, 2, 4, 5, 2, 3, 1, 3, 4, 1, 2, 3, 5, 3, 1, 2, 3, 4, 5, 1, 2, 3, 4, 5, 1, 2, 4, 1, 2, 3, 4, 5, 1, 2, 3, 4, 5, 1, 3, 4, 5, 5, 5, 1, 2, 3, 4, 1, 2, 3, 4, 5, 1, 2, 1, 2, 5, 3, 4, 2, 3, 1, 2, 3, 4, 5, 1, 2, 3, 5, 2, 1, 3, 4, 5, 2, 3, 4, 5, 4, 5, 1, 3, 4, 1, 2, 3, 5, 2, 3, 5, 1, 2, 5, 1, 2, 3, 4, 5, 4, 5, 1, 2, 5, 1, 2, 2, 1, 2, 3, 4, 5, 1, 2, 3, 2, 5, 5, 1, 4, 5, 2, 3, 5, 1, 2, 3, 4, 5, 1, 4, 1, 2, 3, 4, 5, 1, 2, 3, 4, 5, 1, 2, 3, 4, 5, 1, 2, 3, 4, 5, 1, 2, 4, 5, 3, 4, 1, 1, 2, 3, 5, 4, 5, 1, 2, 3, 4, 5, 1, 1, 2, 3, 4, 5, 1, 2, 3, 5, 1, 2, 3, 4, 5, 1, 2, 3, 4, 5, 2, 1, 3, 4, 5, 3, 4, 1, 2, 3, 4, 5, 1, 1, 2, 4, 5, 1, 2, 3, 4, 5, 1, 2, 3, 4, 5, 2, 3, 5, 1, 2, 3, 4, 5, 4, 5, 4, 4, 1, 2, 3, 4, 5, 1, 1, 1, 2, 3, 4, 5, 5, 1, 2, 4, 1, 2, 4, 5, 1, 5, 1, 2, 3, 4, 5, 1, 2, 1, 2, 3, 4, 5, 1, 2, 3, 5, 2, 4, 5, 1, 2, 3, 4, 5, 4, 2, 4, 2, 1, 2, 3, 4, 5, 1, 2, 3, 5, 2, 3, 3, 5, 5, 1, 5, 5, 5, 1, 3, 5, 3, 5, 1, 4, 5, 4, 3, 4, 1, 1, 3, 4, 5, 5, 3, 5, 1, 1, 2, 3, 4, 5, 3, 1, 2, 3, 4, 5, 2, 4, 1, 2, 3, 4, 5, 4, 3, 2, 4, 1, 1, 2, 2, 3, 4, 5, 1, 4, 1, 1, 2, 2, 1, 3, 4, 5, 1, 2, 3, 4, 5, 1, 3, 2, 2, 1, 2, 4, 5, 4, 5, 1, 2, 3, 4, 5, 5, 1, 2, 3, 4, 5, 1, 2, 3, 4, 5, 4, 5, 5, 1, 2, 3, 4, 5, 3, 2, 4, 5, 5, 1, 3, 4, 5, 1, 1, 3, 4, 5, 3, 4, 5, 3, 4, 3, 3, 1, 5, 3, 1, 2, 3, 4, 5, 1, 2, 3, 4, 5, 2, 3, 4, 5, 5, 3, 1, 2, 3, 4, 5, 1, 3, 4, 5, 1, 3, 1, 2, 3, 4, 5, 1, 3, 4, 1, 2, 3, 5, 1, 4, 1, 2, 5, 1, 2, 3, 4, 5, 1, 2, 4, 5, 4, 3, 1, 2, 3, 4, 5, 4, 3, 4, 3, 5, 5, 2, 5, 1, 1, 2, 3, 4, 5, 2, 4, 5, 2, 3, 4, 1, 1, 3, 1, 2, 3, 4, 5, 1, 2, 3, 4, 5, 1, 2, 3, 4, 3, 3, 1, 2, 3, 4, 5, 1, 2, 3, 4, 5, 1, 2, 3, 4, 5, 4, 4, 5, 1, 2, 5, 1, 2, 3, 4, 5, 1, 2, 3, 1, 2, 5, 1, 2, 3, 4, 5, 1, 2, 5, 1, 2, 3, 4, 5, 1, 4, 5, 1, 2, 3, 5, 2, 2, 3, 1, 2, 3, 4, 5, 2, 5, 1, 2, 3, 4, 5, 5, 4, 2, 1, 2, 3, 4, 5, 3, 1, 2, 5, 2, 3, 1, 2, 4, 5, 2, 2, 1, 2, 3, 4, 5, 1, 2, 2, 3, 4, 5, 1, 2, 3, 1, 2, 3, 4, 5, 4, 4, 1, 4, 1, 1, 2, 5, 1, 3, 5, 1, 3, 4, 5, 1, 2, 3, 4, 5, 1, 1, 2, 3, 4, 5, 1, 2, 4, 5, 1, 2, 3, 4, 5, 1, 2, 5, 1, 2, 5, 1, 2, 3, 4, 5, 1, 3, 4, 5, 1, 4, 5, 1, 4, 5, 1, 4, 3, 3, 1, 2, 3, 4, 5, 3, 4, 1, 2, 3, 4, 5, 1, 2, 3, 4, 5, 2, 1, 1, 3, 1, 2, 3, 4, 5, 1, 2, 3, 4, 5, 4, 1, 2, 3, 4, 5, 1, 2, 3, 4, 5, 1, 2, 3, 4, 5, 1, 2, 3, 4, 5, 1, 2, 3, 4, 5, 3, 4, 3, 2, 2, 1, 2, 3, 4, 5, 5, 5, 5, 4, 2, 5, 1, 4, 5, 1, 4, 5, 3, 1, 2, 4, 5, 1, 3, 4, 5, 1, 2, 3, 4, 5, 1, 2, 3, 4, 5, 1, 2, 3, 4, 5, 4, 4, 1, 2, 3, 4, 5, 1, 4, 5, 1, 2, 5, 2, 3, 5, 5, 1, 3, 4, 5, 1, 2, 3, 4, 5, 2, 5, 1, 2, 3, 4, 5, 2, 2, 1, 3, 4, 5, 1, 3, 4, 5, 1, 3, 4, 5, 2, 5, 1, 2, 5, 1, 2, 2, 1, 2, 3, 4, 5, 1, 1, 2, 3, 4, 5, 1, 2, 3, 4, 5, 1, 2, 3, 4, 5, 1, 2, 3, 4, 5, 1, 2, 3, 4, 5, 1, 2, 3, 4, 5, 1, 3, 4, 5, 3, 4, 1, 2, 3, 4, 5, 5, 1, 4], \"Freq\": [0.83938068151474, 0.0003813633229583502, 0.15006646513938904, 0.010106127709150314, 0.20898520946502686, 0.31212952733039856, 0.040954362601041794, 0.2327488511800766, 0.20527741312980652, 0.998746395111084, 0.11006952822208405, 0.8721699714660645, 0.016772499307990074, 0.01848542131483555, 0.9815758466720581, 0.996874988079071, 0.5093531012535095, 0.1925734132528305, 0.2979876697063446, 0.994692325592041, 0.9968474507331848, 0.9982516169548035, 0.015284544788300991, 0.983768880367279, 0.9982957243919373, 0.9963951706886292, 0.9988026022911072, 0.998977780342102, 0.20183297991752625, 0.0697786882519722, 0.5428481698036194, 0.1444343775510788, 0.04126696661114693, 0.28777509927749634, 0.22136546671390533, 0.1092463955283165, 0.03362727537751198, 0.3480169475078583, 0.18523764610290527, 0.13670608401298523, 0.2847895324230194, 0.2623903751373291, 0.13083964586257935, 0.9947272539138794, 0.9982770085334778, 0.1387794017791748, 0.11289836466312408, 0.38352838158607483, 0.2531042695045471, 0.11147185415029526, 0.6697093844413757, 0.32981929183006287, 0.9991999864578247, 0.9978799819946289, 0.9949066638946533, 0.9990623593330383, 0.19170188903808594, 0.00016511790454387665, 0.009411720559000969, 0.19880196452140808, 0.5997082591056824, 0.9930532574653625, 0.0057072024792432785, 0.027247652411460876, 0.003784396219998598, 0.8575441837310791, 0.06130721792578697, 0.04995403066277504, 0.0485767237842083, 0.9491144418716431, 0.034991879016160965, 0.9478235244750977, 0.007606930565088987, 0.009128316305577755, 0.9825708270072937, 0.017442086711525917, 0.9987823367118835, 0.18454664945602417, 0.17696042358875275, 0.3912327289581299, 0.14738960564136505, 0.10001438111066818, 0.0912649929523468, 0.7820157408714294, 0.07158038765192032, 0.005368528887629509, 0.0507027730345726, 0.9971252083778381, 0.9232450723648071, 0.013212093152105808, 0.06365826725959778, 0.16536392271518707, 0.009360222145915031, 0.32789140939712524, 0.4969426989555359, 0.0005672861589118838, 0.026646364480257034, 0.0207249503582716, 0.853670597076416, 0.07303077727556229, 0.025659462437033653, 0.09312635660171509, 0.8967723250389099, 0.010347372852265835, 0.9966525435447693, 0.09200678020715714, 0.8871602416038513, 0.020147468894720078, 0.0006715822964906693, 0.04012365639209747, 0.013374552130699158, 0.9429059028625488, 0.16520407795906067, 0.6364086270332336, 0.11616265028715134, 0.059889305382966995, 0.022373739629983902, 0.32679611444473267, 0.08601386845111847, 0.2420554757118225, 0.1666518747806549, 0.1785353720188141, 0.9122251272201538, 0.02916765585541725, 0.0030773214530199766, 0.055525582283735275, 0.9583656191825867, 0.03143959492444992, 0.0010841239709407091, 0.008311617188155651, 0.0010841239709407091, 0.9940321445465088, 0.005964193027466536, 0.9927126169204712, 0.005672643426805735, 0.03945925459265709, 0.9579830169677734, 0.23336222767829895, 0.42943552136421204, 0.18311844766139984, 0.0528697595000267, 0.10101275891065598, 0.11882761865854263, 0.8644709587097168, 0.01584368199110031, 0.1893002688884735, 0.12364345043897629, 0.04111221432685852, 0.4973350465297699, 0.14849485456943512, 0.028599821031093597, 0.23138049244880676, 0.2516387104988098, 0.38709062337875366, 0.10109242051839828, 0.1120232418179512, 0.0184305589646101, 0.8694040179252625, 0.0683501809835434, 0.12685330212116241, 0.8045627474784851, 0.04967432841658592, 0.9492116570472717, 0.09124735742807388, 0.8491891026496887, 0.03164222836494446, 0.013981449417769909, 0.013981449417769909, 0.9998456835746765, 0.9992271065711975, 0.9995991587638855, 0.7366462349891663, 0.13399598002433777, 0.03316732123494148, 0.09618522971868515, 0.20464472472667694, 0.12526534497737885, 0.0545942559838295, 0.43842869997024536, 0.17684519290924072, 0.008893509395420551, 0.8489880561828613, 0.1327185183763504, 0.0010261741699650884, 0.008323412388563156, 0.924401044845581, 0.0445982962846756, 0.00110574287828058, 0.03022363781929016, 0.9625688195228577, 0.037220705300569534, 0.9990589618682861, 0.9967158436775208, 0.994967520236969, 0.008727404288947582, 0.9087409377098083, 0.07527385652065277, 0.007636478170752525, 0.9944766759872437, 0.239292711019516, 0.24981971085071564, 0.23827144503593445, 0.14093603193759918, 0.13166598975658417, 0.2095170021057129, 0.155381441116333, 0.044940777122974396, 0.05144944041967392, 0.5387727618217468, 0.04087108001112938, 0.15567073225975037, 0.8029964566230774, 0.3337711989879608, 0.0951293334364891, 0.005092966370284557, 0.16352060437202454, 0.40270811319351196, 0.005110185127705336, 0.05110185220837593, 0.06515486538410187, 0.8700090646743774, 0.007665277924388647, 0.14634405076503754, 0.0004798165464308113, 0.656389057636261, 0.1962449699640274, 0.9987932443618774, 0.9967268109321594, 0.023061325773596764, 0.005321844015270472, 0.0017739480827003717, 0.9703496098518372, 0.03942766785621643, 0.046866849064826965, 0.15101540088653564, 0.5493836402893066, 0.2131325751543045, 0.9526383280754089, 0.047219857573509216, 0.9409065842628479, 0.007259014528244734, 0.051850106567144394, 0.9987764954566956, 0.9972951412200928, 0.99555504322052, 0.9938386678695679, 0.07624630630016327, 0.7990612983703613, 0.05108502507209778, 0.011436945758759975, 0.06175950914621353, 0.9396777153015137, 0.02941223606467247, 0.007136792875826359, 0.023789308965206146, 0.9973924160003662, 0.010495434515178204, 0.8454656004905701, 0.13410833477973938, 0.010495434515178204, 0.17327101528644562, 0.07568158954381943, 0.7299290299415588, 0.020912019535899162, 0.9926112294197083, 0.9984476566314697, 0.007303374353796244, 0.971348762512207, 0.01947566494345665, 0.0972864031791687, 0.7526184320449829, 0.01576400175690651, 0.13466960191726685, 0.9689249396324158, 0.004212717059999704, 0.027382660657167435, 0.032583143562078476, 0.9006911516189575, 0.0663299709558487, 0.0992814227938652, 0.7686091661453247, 0.019724786281585693, 0.08021412789821625, 0.03221714869141579, 0.005542492028325796, 0.9939535856246948, 0.9492610096931458, 0.022555939853191376, 0.02809934876859188, 0.9962236881256104, 0.0026997930835932493, 0.9987585544586182, 0.09433382004499435, 0.7129760384559631, 0.011987170204520226, 0.14176131784915924, 0.039088599383831024, 0.02716442570090294, 0.9492457509040833, 0.0226370207965374, 0.9954026341438293, 0.004079518839716911, 0.9974170327186584, 0.9702808856964111, 0.02051953412592411, 0.008794086053967476, 0.31306034326553345, 0.03430798277258873, 0.6522805094718933, 0.22380731999874115, 0.16994714736938477, 0.3822503387928009, 0.16680966317653656, 0.05725911632180214, 0.09840790927410126, 0.9001429677009583, 0.28216052055358887, 0.48544004559516907, 0.07983427494764328, 0.0004766225174535066, 0.15204258263111115, 0.09670896828174591, 0.16891832649707794, 0.2142103612422943, 0.42423000931739807, 0.09590306133031845, 0.05692540854215622, 0.0430411621928215, 0.8566579818725586, 0.005553698167204857, 0.0374874621629715, 0.1475912481546402, 0.022762829437851906, 0.7687962055206299, 0.029371391981840134, 0.03157424554228783, 0.21139781177043915, 0.5168161988258362, 0.1425153762102127, 0.12905558943748474, 0.9287356734275818, 0.06986065208911896, 0.9934120178222656, 0.06650976836681366, 0.8581607937812805, 0.041568607091903687, 0.03371675685048103, 0.9939768314361572, 0.0033694130834192038, 0.2554889917373657, 0.11135271191596985, 0.35123932361602783, 0.17236916720867157, 0.1095881536602974, 0.9991176128387451, 0.09575977176427841, 0.17138122022151947, 0.04767439141869545, 0.16357247531414032, 0.5217468738555908, 0.29824018478393555, 0.04508281499147415, 0.004855072591453791, 0.651620090007782, 0.5738980770111084, 0.09437859058380127, 0.06466681510210037, 0.09787409007549286, 0.1690552532672882, 0.1118408814072609, 0.2313949316740036, 0.26717543601989746, 0.29288598895072937, 0.09684306383132935, 0.9917120337486267, 0.21665087342262268, 0.49689099192619324, 0.24572937190532684, 0.040582094341516495, 0.9974005222320557, 0.9918157458305359, 0.46768131852149963, 0.13356149196624756, 0.21194061636924744, 0.15819904208183289, 0.028527695685625076, 0.9991733431816101, 0.15360169112682343, 0.2716703414916992, 0.0071965656243264675, 0.5675166845321655, 0.3416101038455963, 0.07841285318136215, 0.46758484840393066, 0.06491556018590927, 0.0475618951022625, 0.17535796761512756, 0.2370416671037674, 0.0897560864686966, 0.1286545842885971, 0.369221031665802, 0.9882684350013733, 0.010363157838582993, 0.0009421052527613938, 0.02535500004887581, 0.010564583353698254, 0.05071000009775162, 0.7331821322441101, 0.1795979142189026, 0.9368703365325928, 0.06201506033539772, 0.996330738067627, 0.9918939471244812, 0.0993974506855011, 0.8643256425857544, 0.0034573026932775974, 0.028738828375935555, 0.003889465471729636, 0.9995580911636353, 0.9962813258171082, 0.6989412307739258, 0.09495297819375992, 0.09189701825380325, 0.07465268671512604, 0.03950916975736618, 0.9958555698394775, 0.008864869363605976, 0.017729738727211952, 0.9707032442092896, 0.33881959319114685, 0.026686688885092735, 0.0037158681079745293, 0.6306841373443604, 0.9877356290817261, 0.010653543286025524, 0.19369632005691528, 0.25630098581314087, 0.2118684947490692, 0.12079760432243347, 0.21733063459396362, 0.05077357962727547, 0.9481413960456848, 0.018065320327878, 0.7533238530158997, 0.01734270714223385, 0.04733113944530487, 0.16439442336559296, 0.0004883214132860303, 0.8467493653297424, 0.14844970405101776, 0.004394892603158951, 0.996323823928833, 0.8571863174438477, 0.142619326710701, 0.016530215740203857, 0.04959065094590187, 0.04683561250567436, 0.851306140422821, 0.03581546992063522, 0.9983493685722351, 0.9882470369338989, 0.011695231311023235, 0.9974812269210815, 0.05232784152030945, 0.15845754742622375, 0.1201329305768013, 0.04053565114736557, 0.6279340982437134, 0.031235966831445694, 0.9536157250404358, 0.005512229632586241, 0.009187049232423306, 0.996599018573761, 0.003032248467206955, 0.015433494932949543, 0.9838853478431702, 0.9983887076377869, 0.022603917866945267, 0.9759573936462402, 0.9995555281639099, 0.9974485039710999, 0.012729190289974213, 0.002386723179370165, 0.9841254949569702, 0.010539479553699493, 0.9893935918807983, 0.9974788427352905, 0.9947237968444824, 0.9977602958679199, 0.9974851012229919, 0.004181913565844297, 0.9952954649925232, 0.9973650574684143, 0.0035266990307718515, 0.007935073226690292, 0.5184247493743896, 0.4703734815120697, 0.9991532564163208, 0.016771620139479637, 0.9830749034881592, 0.9995497465133667, 0.1256100833415985, 0.012676247395575047, 0.10025759041309357, 0.7582700848579407, 0.003457158338278532, 0.9950540065765381, 0.21767351031303406, 0.16482162475585938, 0.45877620577812195, 0.10325188934803009, 0.05557621642947197, 0.988875687122345, 0.008524790406227112, 0.012058431282639503, 0.23605293035507202, 0.086966872215271, 0.42752620577812195, 0.23714914917945862, 0.9915168881416321, 0.9946308135986328, 0.994731605052948, 0.9938390851020813, 0.9950335025787354, 0.011322380974888802, 0.987311601638794, 0.8598491549491882, 0.07849081605672836, 0.015382622368633747, 0.046542294323444366, 0.995522141456604, 0.998110294342041, 0.9979856610298157, 0.9979613423347473, 0.9985325336456299, 0.9964527487754822, 0.6503408551216125, 0.15549588203430176, 0.07981370389461517, 0.11436834931373596, 0.3185417056083679, 0.1406594216823578, 0.07802481949329376, 0.23228490352630615, 0.23049534857273102, 0.01129150390625, 0.9861246347427368, 0.9953573346138, 0.9937496781349182, 0.011613637208938599, 0.003167355665937066, 0.047510333359241486, 0.9375372529029846, 0.007354169152677059, 0.9928128123283386, 0.06317060440778732, 0.004532420076429844, 0.003399315057322383, 0.025778140872716904, 0.9030847549438477, 0.9947081804275513, 0.10086462646722794, 0.6480860114097595, 0.1529882699251175, 0.010762994177639484, 0.0871802493929863, 0.015643449500203133, 0.04923085868358612, 0.0032207102049142122, 0.012422739528119564, 0.9188226461410522, 0.03807149827480316, 0.9609245657920837, 0.9986884593963623, 0.08737315237522125, 0.7014580368995667, 0.1096285730600357, 0.0810537114739418, 0.0206068754196167, 0.9963679313659668, 0.9974805116653442, 0.0034906489308923483, 0.9965803027153015, 0.9992024302482605, 0.014717690646648407, 0.9800644516944885, 0.002006957773119211, 0.002675943775102496, 0.9957347512245178, 0.009617405012249947, 0.01250262651592493, 0.8751838803291321, 0.102906234562397, 0.9494756460189819, 0.019756531342864037, 0.030215872451663017, 0.9812271595001221, 0.0183012243360281, 0.9990310072898865, 0.997027575969696, 0.12320567667484283, 0.8764758110046387, 0.9972767233848572, 0.1921292543411255, 0.16391102969646454, 0.027972839772701263, 0.0711589828133583, 0.5449796319007874, 0.4492582082748413, 0.13882935047149658, 0.05407887324690819, 0.15787802636623383, 0.20001111924648285, 0.10505854338407516, 0.18274268507957458, 0.6414490342140198, 0.07028564810752869, 0.9978921413421631, 0.9965331554412842, 0.3070777356624603, 0.04310676455497742, 0.3856433033943176, 0.18772299587726593, 0.07647974044084549, 0.26597508788108826, 0.3955925703048706, 0.3074526786804199, 0.03084896318614483, 0.9887828826904297, 0.011102989315986633, 0.08079960197210312, 0.06188223510980606, 0.04136170074343681, 0.22989411652088165, 0.5861177444458008, 0.03129543364048004, 0.9273331165313721, 0.041178204119205475, 0.1125718504190445, 0.0008464048733003438, 0.005078429356217384, 0.8811075091362, 0.9979406595230103, 0.9911535978317261, 0.749683141708374, 0.04803246259689331, 0.20222070813179016, 0.033146798610687256, 0.022999819368124008, 0.007666606456041336, 0.8505423665046692, 0.0856856033205986, 0.225452721118927, 0.09854840487241745, 0.20395337045192719, 0.4721723794937134, 0.9931506514549255, 0.9977288842201233, 0.2670789659023285, 0.07279545068740845, 0.0564834289252758, 0.11710572987794876, 0.486682653427124, 0.993144690990448, 0.9157302975654602, 0.08324820548295975, 0.9988991022109985, 0.9986023902893066, 0.9993597269058228, 0.03692985698580742, 0.9615966081619263, 0.9980189204216003, 0.7000941634178162, 0.049630068242549896, 0.08638733625411987, 0.01783580519258976, 0.14594341814517975, 0.0591689869761467, 0.9118092656135559, 0.027308762073516846, 0.8739441633224487, 0.046619635075330734, 0.07932295650243759, 0.9968430995941162, 0.9413696527481079, 0.05797290802001953, 0.26451075077056885, 0.21069097518920898, 0.19811241328716278, 0.1938851922750473, 0.13274510204792023, 0.07996852695941925, 0.8395913243293762, 0.020187750458717346, 0.027073495090007782, 0.03317676857113838, 0.11706415563821793, 0.09725330024957657, 0.7636184692382812, 0.02161184325814247, 0.9983583092689514, 0.9947044849395752, 0.14658276736736298, 0.15055575966835022, 0.3092666268348694, 0.24193474650382996, 0.15160128474235535, 0.11507146060466766, 0.00963388942182064, 0.6138928532600403, 0.21408644318580627, 0.04763423278927803, 0.011361317709088326, 0.03570700064301491, 0.3392165005207062, 0.6037728786468506, 0.009738272987306118, 0.9969252347946167, 0.9390383362770081, 0.060794610530138016, 0.3789397180080414, 0.359866201877594, 0.2611900866031647, 0.6652451753616333, 0.052442435175180435, 0.037483446300029755, 0.02338416688144207, 0.22128987312316895, 0.9948196411132812, 0.9932718873023987, 0.004857074934989214, 0.9405346512794495, 0.010856118984520435, 0.047372154891490936, 0.7364024519920349, 0.0630142018198967, 0.004136067349463701, 0.006994819734245539, 0.1895291954278946, 0.9355725646018982, 0.020105892792344093, 0.0444275364279747, 0.015375862829387188, 0.8293355703353882, 0.09513814747333527, 0.039400648325681686, 0.020661314949393272, 0.9975267052650452, 0.7051751017570496, 0.29393038153648376, 0.024958480149507523, 0.009359429590404034, 0.9016250371932983, 0.06239619851112366, 0.9875098466873169, 0.982656717300415, 0.017673682421445847, 0.0856163427233696, 0.5839138627052307, 0.07543634623289108, 0.06577840447425842, 0.18924343585968018, 0.9864057898521423, 0.011884407140314579, 0.28624072670936584, 0.336572527885437, 0.09313095360994339, 0.12394633889198303, 0.1600688248872757, 0.9986264705657959, 0.9991025924682617, 0.9988840818405151, 0.326667457818985, 0.0904143899679184, 0.4523518681526184, 0.1130879670381546, 0.01735508441925049, 0.9972413182258606, 0.013123586773872375, 0.002099773846566677, 0.9847939610481262, 0.9882150292396545, 0.005614858120679855, 0.055607326328754425, 0.9411747455596924, 0.0024898801930248737, 0.0016599202062934637, 0.9979873299598694, 0.9986491799354553, 0.27587890625, 0.19472433626651764, 0.006646279711276293, 0.23973247408866882, 0.2831082046031952, 0.936887264251709, 0.0630926564335823, 0.187436044216156, 0.024789929389953613, 0.5750054121017456, 0.21283060312271118, 0.0016517018666490912, 0.9761557579040527, 0.021472124382853508, 0.3800777196884155, 0.06277518719434738, 0.17311149835586548, 0.16365410387516022, 0.22039848566055298, 0.992912232875824, 0.9974911212921143, 0.998577892780304, 0.9954648613929749, 0.9973548054695129, 0.3337750732898712, 0.0002702632045838982, 0.6659285426139832, 0.45825767517089844, 0.016500750556588173, 0.5251291394233704, 0.9693554639816284, 0.030591098591685295, 0.9967448115348816, 0.9995839595794678, 0.013326707296073437, 0.44591864943504333, 0.0953911691904068, 0.4283834993839264, 0.017009086906909943, 0.9990670084953308, 0.14654313027858734, 0.0678505152463913, 0.2902882993221283, 0.41095030307769775, 0.08393878489732742, 0.25990715622901917, 0.05843948945403099, 0.0695330873131752, 0.6121288537979126, 0.32396209239959717, 0.06522519141435623, 0.4290642738342285, 0.10912081599235535, 0.07233504205942154, 0.930814266204834, 0.06239088252186775, 0.006491536740213633, 0.9679929614067078, 0.0312914103269577, 0.0006802480202168226, 0.14765039086341858, 0.041068319231271744, 0.6473149657249451, 0.10462643206119537, 0.0596468448638916, 0.9134800434112549, 0.06660792231559753, 0.010380455292761326, 0.00951541680842638, 0.035523947328329086, 0.9480453133583069, 0.015541725791990757, 0.024593397974967957, 0.9624660015106201, 0.013293729163706303, 0.998420774936676, 0.997833788394928, 0.9982005953788757, 0.9979891777038574, 0.2503089904785156, 0.07267940044403076, 0.5199804306030273, 0.12347079813480377, 0.03367385268211365, 0.9835618734359741, 0.014864915050566196, 0.022420350462198257, 0.09112787991762161, 0.7688010931015015, 0.0643681064248085, 0.05279631167650223, 0.8048377633094788, 0.003875001333653927, 0.08718752861022949, 0.004650001414120197, 0.09920003265142441, 0.9960481524467468, 0.9980846047401428, 0.0023001674562692642, 0.9971225261688232, 0.17190247774124146, 0.16950829327106476, 0.3952799439430237, 0.22241978347301483, 0.04094056412577629, 0.22973841428756714, 0.24249409139156342, 0.005447265226393938, 0.11407481878995895, 0.40827253460884094, 0.9892262816429138, 0.18107591569423676, 0.22543397545814514, 0.2976742386817932, 0.1839275062084198, 0.11200408637523651, 0.033007796853780746, 0.047861307859420776, 0.07921871542930603, 0.8367477059364319, 0.0016503898659721017, 0.36309874057769775, 0.0014306491939350963, 0.5622451305389404, 0.06380695104598999, 0.0094422847032547, 0.15185990929603577, 0.15417082607746124, 0.19378645718097687, 0.4228968620300293, 0.07725048065185547, 0.03033856675028801, 0.29664376378059387, 0.0667448416352272, 0.5986810326576233, 0.007416093721985817, 0.9926087260246277, 0.006573568098247051, 0.9986671805381775, 0.997081995010376, 0.996981143951416, 0.06508510559797287, 0.006508510559797287, 0.01880236528813839, 0.6371108889579773, 0.2726342976093292, 0.9997966885566711, 0.9996862411499023, 0.997699499130249, 0.990480899810791, 0.9905570149421692, 0.006784637458622456, 0.12511301040649414, 0.01984551176428795, 0.8542197942733765, 0.034976910799741745, 0.04108399152755737, 0.9232794046401978, 0.998418390750885, 0.16697904467582703, 0.10414672642946243, 0.6545751094818115, 0.07402164489030838, 0.016575923189520836, 0.9696915149688721, 0.0013813269324600697, 0.011050615459680557, 0.5391460061073303, 0.094887375831604, 0.2768273949623108, 0.0647091269493103, 0.024374740198254585, 0.12894336879253387, 0.14341853559017181, 0.26188644766807556, 0.33769068121910095, 0.12818151712417603, 0.3375697135925293, 0.07837901264429092, 0.2899532616138458, 0.1778663545846939, 0.11634128540754318, 0.9975448846817017, 0.9951976537704468, 0.03500504046678543, 0.022503240033984184, 0.08376205712556839, 0.8101166486740112, 0.04875702038407326, 0.00616834033280611, 0.020047105848789215, 0.9745977520942688, 0.9773831963539124, 0.005769774317741394, 0.01684001088142395, 0.0008935785153880715, 0.015190835110843182, 0.9838299751281738, 0.9985092878341675, 0.9171306490898132, 0.05501064658164978, 0.026645783334970474, 0.0008595413528382778, 0.7352079749107361, 0.0001778012083377689, 0.0657864436507225, 0.1582430750131607, 0.04071647673845291, 0.9856496453285217, 0.011074715293943882, 0.12533102929592133, 0.18865832686424255, 0.033190831542015076, 0.047546375542879105, 0.6052745580673218, 0.9953747391700745, 0.9918341636657715, 0.03549690917134285, 0.01965007372200489, 0.724517285823822, 0.22058792412281036, 0.13459768891334534, 0.29590940475463867, 0.4822227358818054, 0.08733437210321426, 0.08518341183662415, 0.027334976941347122, 0.6096335649490356, 0.2777996361255646, 0.9857564568519592, 0.011170044541358948, 0.8343411684036255, 0.14086279273033142, 0.024380099028348923, 0.9457871317863464, 0.05404497683048248, 0.9979156255722046, 0.6210964918136597, 0.07794592529535294, 0.05525849387049675, 0.05750477686524391, 0.18823829293251038, 0.9977871775627136, 0.7334951162338257, 0.02349935472011566, 0.11778335273265839, 0.10846958309412003, 0.01662149466574192, 0.2633875906467438, 0.11449269950389862, 0.41772159934043884, 0.16997134685516357, 0.03453817963600159, 0.001951339771039784, 0.7551684975624084, 0.023025808855891228, 0.1198122650384903, 0.09990859776735306, 0.09873247891664505, 0.16672463715076447, 0.42339879274368286, 0.03392036259174347, 0.2771172523498535, 0.3208248019218445, 0.26863405108451843, 0.16115424036979675, 0.11162538826465607, 0.13780803978443146, 0.3392980992794037, 0.06056288629770279, 0.3752345144748688, 0.09832347929477692, 0.1265983134508133, 0.11965198069810867, 0.8142982125282288, 0.062041766941547394, 0.004431555047631264, 0.008115344680845737, 0.9900720119476318, 0.10454855114221573, 0.2815323770046234, 0.2911843955516815, 0.18636523187160492, 0.13639120757579803, 0.9968644380569458, 0.9953572750091553, 0.9915300607681274], \"Term\": [\"SCREEN_NAME\", \"SCREEN_NAME\", \"SCREEN_NAME\", \"SCREEN_NAME\", \"accord\", \"accord\", \"accord\", \"accord\", \"accord\", \"acosta\", \"actor\", \"actor\", \"actor\", \"actress\", \"actress\", \"adderall\", \"administration\", \"administration\", \"administration\", \"adventure\", \"aetna\", \"afghan\", \"afghanistan\", \"afghanistan\", \"airbnb\", \"airstrikes\", \"album\", \"aleppo\", \"always\", \"always\", \"always\", \"always\", \"always\", \"american\", \"american\", \"american\", \"american\", \"american\", \"another\", \"another\", \"another\", \"another\", \"another\", \"antidoping\", \"arabia\", \"around\", \"around\", \"around\", \"around\", \"around\", \"arrest\", \"arrest\", \"artist\", \"assad\", \"asteroid\", \"asylum\", \"attack\", \"attack\", \"attack\", \"attack\", \"attack\", \"automaker\", \"automaker\", \"award\", \"award\", \"award\", \"award\", \"award\", \"baltimore\", \"baltimore\", \"banks\", \"banks\", \"banks\", \"banks\", \"bannon\", \"bannon\", \"bashar\", \"become\", \"become\", \"become\", \"become\", \"become\", \"benefit\", \"benefit\", \"benefit\", \"benefit\", \"benefit\", \"beyonc\\u00e9\", \"billion\", \"billion\", \"billion\", \"black\", \"black\", \"black\", \"black\", \"black\", \"book\", \"book\", \"book\", \"book\", \"book\", \"brain\", \"brain\", \"brain\", \"brexit\", \"budget\", \"budget\", \"budget\", \"budget\", \"bullet\", \"bullet\", \"bullet\", \"business\", \"business\", \"business\", \"business\", \"business\", \"call\", \"call\", \"call\", \"call\", \"call\", \"campaign\", \"campaign\", \"campaign\", \"campaign\", \"candidate\", \"candidate\", \"candidate\", \"candidate\", \"candidate\", \"cartel\", \"cartel\", \"caucus\", \"caucus\", \"championship\", \"championship\", \"change\", \"change\", \"change\", \"change\", \"change\", \"character\", \"character\", \"character\", \"charge\", \"charge\", \"charge\", \"charge\", \"charge\", \"child\", \"child\", \"child\", \"child\", \"child\", \"china\", \"china\", \"china\", \"chinese\", \"chinese\", \"chinese\", \"civilian\", \"civilian\", \"climate\", \"climate\", \"climate\", \"climate\", \"climate\", \"clinton\", \"comedy\", \"comey\", \"committee\", \"committee\", \"committee\", \"committee\", \"community\", \"community\", \"community\", \"community\", \"community\", \"company\", \"company\", \"company\", \"company\", \"company\", \"conservative\", \"conservative\", \"conservative\", \"conservative\", \"consumer\", \"consumer\", \"conway\", \"cooley\", \"cosby\", \"costs\", \"costs\", \"costs\", \"costs\", \"costume\", \"could\", \"could\", \"could\", \"could\", \"could\", \"country\", \"country\", \"country\", \"country\", \"country\", \"county\", \"county\", \"county\", \"court\", \"court\", \"court\", \"court\", \"court\", \"crash\", \"crash\", \"crash\", \"crash\", \"crash\", \"crime\", \"crime\", \"crime\", \"crime\", \"cypriot\", \"cyprus\", \"dallas\", \"dallas\", \"dallas\", \"dallas\", \"death\", \"death\", \"death\", \"death\", \"death\", \"democrat\", \"democrat\", \"democratic\", \"democratic\", \"democratic\", \"designer\", \"detective\", \"dioxide\", \"djokovic\", \"dollar\", \"dollar\", \"dollar\", \"dollar\", \"dollar\", \"donald\", \"donald\", \"donald\", \"donald\", \"dope\", \"dress\", \"dress\", \"dress\", \"dress\", \"driver\", \"driver\", \"driver\", \"driver\", \"durst\", \"duterte\", \"dylan\", \"dylan\", \"dylan\", \"economic\", \"economic\", \"economic\", \"economic\", \"economist\", \"economist\", \"economist\", \"economy\", \"economy\", \"economy\", \"education\", \"education\", \"education\", \"education\", \"education\", \"egypt\", \"egypt\", \"election\", \"election\", \"election\", \"electoral\", \"electoral\", \"emission\", \"employee\", \"employee\", \"employee\", \"employee\", \"employee\", \"environmental\", \"environmental\", \"environmental\", \"equity\", \"equity\", \"erdogan\", \"ethics\", \"ethics\", \"ethics\", \"european\", \"european\", \"european\", \"every\", \"every\", \"every\", \"every\", \"every\", \"examiner\", \"examiner\", \"executive\", \"executive\", \"executive\", \"executive\", \"executive\", \"family\", \"family\", \"family\", \"family\", \"family\", \"fashion\", \"fashion\", \"fashion\", \"fashion\", \"fashion\", \"feature\", \"feature\", \"feature\", \"feature\", \"feature\", \"federal\", \"federal\", \"federal\", \"federal\", \"festival\", \"festival\", \"filibuster\", \"financial\", \"financial\", \"financial\", \"financial\", \"firearm\", \"firearm\", \"first\", \"first\", \"first\", \"first\", \"first\", \"flynn\", \"force\", \"force\", \"force\", \"force\", \"force\", \"foreign\", \"foreign\", \"foreign\", \"foreign\", \"former\", \"former\", \"former\", \"former\", \"former\", \"found\", \"found\", \"found\", \"found\", \"found\", \"frieden\", \"friend\", \"friend\", \"friend\", \"friend\", \"gabor\", \"gebreselase\", \"going\", \"going\", \"going\", \"going\", \"going\", \"gorsuch\", \"government\", \"government\", \"government\", \"government\", \"great\", \"great\", \"great\", \"great\", \"great\", \"group\", \"group\", \"group\", \"group\", \"group\", \"growth\", \"growth\", \"growth\", \"guard\", \"guard\", \"guard\", \"guard\", \"guard\", \"gunman\", \"gunman\", \"gunshot\", \"handgun\", \"health\", \"health\", \"health\", \"health\", \"health\", \"hillary\", \"holton\", \"house\", \"house\", \"house\", \"house\", \"house\", \"humanitarian\", \"hurricane\", \"hurricane\", \"hurricane\", \"immigration\", \"immigration\", \"immigration\", \"immigration\", \"inauguration\", \"inauguration\", \"include\", \"include\", \"include\", \"include\", \"include\", \"income\", \"income\", \"increase\", \"increase\", \"increase\", \"increase\", \"increase\", \"industry\", \"industry\", \"industry\", \"industry\", \"inflation\", \"injure\", \"injure\", \"injury\", \"injury\", \"injury\", \"injury\", \"injury\", \"inmate\", \"insurance\", \"insurance\", \"insurer\", \"international\", \"international\", \"international\", \"international\", \"international\", \"investment\", \"investment\", \"investment\", \"investment\", \"investor\", \"investor\", \"iranian\", \"iranian\", \"iraqi\", \"islam\", \"islam\", \"islamic\", \"islamist\", \"israel\", \"israel\", \"israel\", \"israeli\", \"israeli\", \"ivanka\", \"jabara\", \"jihadist\", \"juror\", \"kaepernick\", \"kaepernick\", \"kaine\", \"kill\", \"kill\", \"kill\", \"kill\", \"korea\", \"korean\", \"korean\", \"kushner\", \"league\", \"league\", \"league\", \"league\", \"league\", \"literary\", \"little\", \"little\", \"little\", \"little\", \"little\", \"litwin\", \"litwin\", \"local\", \"local\", \"local\", \"local\", \"local\", \"lochte\", \"lyric\", \"macron\", \"majors\", \"manafort\", \"manufacturing\", \"manufacturing\", \"market\", \"market\", \"market\", \"market\", \"marlow\", \"mateen\", \"mccain\", \"mcconnell\", \"medicaid\", \"medicare\", \"medium\", \"medium\", \"medium\", \"medium\", \"member\", \"member\", \"member\", \"member\", \"member\", \"memoir\", \"memoir\", \"merger\", \"microcephaly\", \"migrant\", \"migrant\", \"migrant\", \"migrant\", \"militant\", \"militant\", \"military\", \"military\", \"military\", \"military\", \"military\", \"militia\", \"million\", \"million\", \"million\", \"million\", \"million\", \"minister\", \"minister\", \"minister\", \"minister\", \"minister\", \"ministry\", \"ministry\", \"missile\", \"money\", \"money\", \"money\", \"money\", \"money\", \"moonlight\", \"mortgage\", \"mosque\", \"mosque\", \"mosul\", \"movie\", \"movie\", \"movie\", \"movie\", \"msnbc\", \"murder\", \"murder\", \"murder\", \"murder\", \"museum\", \"museum\", \"museum\", \"music\", \"music\", \"musical\", \"musician\", \"muslim\", \"muslim\", \"nadal\", \"nation\", \"nation\", \"nation\", \"nation\", \"nation\", \"national\", \"national\", \"national\", \"national\", \"national\", \"neighborhood\", \"neighborhood\", \"neighborhood\", \"neighborhood\", \"netanyahu\", \"netflix\", \"never\", \"never\", \"never\", \"never\", \"never\", \"night\", \"night\", \"night\", \"night\", \"nominee\", \"nominee\", \"north\", \"north\", \"north\", \"north\", \"north\", \"novel\", \"novel\", \"novel\", \"nuclear\", \"nuclear\", \"nuclear\", \"nuclear\", \"nunes\", \"nunez\", \"obama\", \"obama\", \"obama\", \"officer\", \"officer\", \"officer\", \"officer\", \"officer\", \"official\", \"official\", \"official\", \"official\", \"olivarez\", \"opera\", \"order\", \"order\", \"order\", \"order\", \"order\", \"ortiz\", \"oscar\", \"oscar\", \"painting\", \"pakistan\", \"palestinian\", \"parliament\", \"parliament\", \"partisan\", \"party\", \"party\", \"party\", \"party\", \"party\", \"passenger\", \"passenger\", \"passenger\", \"patient\", \"patient\", \"patient\", \"pelosi\", \"penny\", \"penny\", \"people\", \"people\", \"people\", \"people\", \"people\", \"percent\", \"percent\", \"percent\", \"percent\", \"percent\", \"performance\", \"performance\", \"performance\", \"performance\", \"performer\", \"phelps\", \"place\", \"place\", \"place\", \"place\", \"place\", \"play\", \"play\", \"play\", \"play\", \"play\", \"player\", \"player\", \"player\", \"player\", \"player\", \"playoff\", \"police\", \"police\", \"policy\", \"policy\", \"policy\", \"political\", \"political\", \"political\", \"political\", \"political\", \"pollak\", \"premium\", \"premium\", \"presidency\", \"presidency\", \"presidency\", \"president\", \"president\", \"president\", \"president\", \"president\", \"presidential\", \"presidential\", \"presidential\", \"price\", \"price\", \"price\", \"price\", \"price\", \"priebus\", \"prison\", \"prison\", \"prize\", \"prize\", \"prize\", \"prize\", \"productivity\", \"profits\", \"profits\", \"program\", \"program\", \"program\", \"program\", \"program\", \"provider\", \"provider\", \"public\", \"public\", \"public\", \"public\", \"public\", \"qaeda\", \"quarterback\", \"rates\", \"really\", \"really\", \"really\", \"really\", \"really\", \"redstone\", \"refugee\", \"refugee\", \"refugee\", \"regulate\", \"regulate\", \"regulation\", \"regulation\", \"regulation\", \"regulation\", \"regulator\", \"regulatory\", \"report\", \"report\", \"report\", \"report\", \"report\", \"republican\", \"republican\", \"resident\", \"resident\", \"resident\", \"resident\", \"revenue\", \"revenue\", \"revenue\", \"right\", \"right\", \"right\", \"right\", \"right\", \"rivera\", \"robbery\", \"romney\", \"rouge\", \"rubio\", \"russia\", \"russia\", \"russia\", \"russian\", \"russian\", \"russian\", \"sander\", \"sander\", \"santiago\", \"saudi\", \"school\", \"school\", \"school\", \"school\", \"school\", \"schumer\", \"second\", \"second\", \"second\", \"second\", \"second\", \"security\", \"security\", \"security\", \"security\", \"seem\", \"seem\", \"seem\", \"seem\", \"seem\", \"senate\", \"senate\", \"senate\", \"senator\", \"senator\", \"senator\", \"series\", \"series\", \"series\", \"series\", \"series\", \"sessions\", \"sessions\", \"sessions\", \"sessions\", \"sheriff\", \"sheriff\", \"sheriff\", \"shooting\", \"shooting\", \"shooting\", \"siriusxm\", \"slager\", \"smartphone\", \"snapchat\", \"something\", \"something\", \"something\", \"something\", \"something\", \"song\", \"song\", \"space\", \"space\", \"space\", \"space\", \"space\", \"speech\", \"speech\", \"speech\", \"speech\", \"speech\", \"sperm\", \"spic\", \"star\", \"star\", \"start\", \"start\", \"start\", \"start\", \"start\", \"state\", \"state\", \"state\", \"state\", \"state\", \"steelers\", \"still\", \"still\", \"still\", \"still\", \"still\", \"storm\", \"storm\", \"storm\", \"storm\", \"storm\", \"story\", \"story\", \"story\", \"story\", \"story\", \"street\", \"street\", \"street\", \"street\", \"street\", \"student\", \"student\", \"student\", \"student\", \"student\", \"studio\", \"studio\", \"subscribe\", \"subsidize\", \"subsidy\", \"suspect\", \"suspect\", \"suspect\", \"suspect\", \"suspect\", \"syria\", \"syrian\", \"taliban\", \"tamaulipas\", \"tariff\", \"tariff\", \"terrorism\", \"terrorism\", \"terrorism\", \"terrorist\", \"terrorist\", \"terrorist\", \"tesla\", \"texas\", \"texas\", \"texas\", \"texas\", \"theater\", \"theater\", \"theater\", \"theater\", \"think\", \"think\", \"think\", \"think\", \"think\", \"three\", \"three\", \"three\", \"three\", \"three\", \"times\", \"times\", \"times\", \"times\", \"times\", \"torres\", \"touchdown\", \"traffic\", \"traffic\", \"traffic\", \"traffic\", \"traffic\", \"troops\", \"troops\", \"troops\", \"trump\", \"trump\", \"trump\", \"turkey\", \"turkey\", \"turkey\", \"turkish\", \"tweet\", \"tweet\", \"tweet\", \"tweet\", \"twitter\", \"twitter\", \"twitter\", \"twitter\", \"twitter\", \"unemployment\", \"unemployment\", \"unite\", \"unite\", \"unite\", \"unite\", \"unite\", \"vaccine\", \"valuation\", \"victim\", \"victim\", \"victim\", \"victim\", \"video\", \"video\", \"video\", \"video\", \"violence\", \"violence\", \"violence\", \"violence\", \"virus\", \"virus\", \"vote\", \"vote\", \"vote\", \"voter\", \"voter\", \"voucher\", \"washington\", \"washington\", \"washington\", \"washington\", \"washington\", \"weiner\", \"white\", \"white\", \"white\", \"white\", \"white\", \"woman\", \"woman\", \"woman\", \"woman\", \"woman\", \"worker\", \"worker\", \"worker\", \"worker\", \"worker\", \"world\", \"world\", \"world\", \"world\", \"world\", \"would\", \"would\", \"would\", \"would\", \"would\", \"write\", \"write\", \"write\", \"write\", \"write\", \"writer\", \"writer\", \"writer\", \"writer\", \"yard\", \"yard\", \"years\", \"years\", \"years\", \"years\", \"years\", \"yemen\", \"yiannopoulos\", \"zeta\"]}, \"R\": 30, \"lambda.step\": 0.01, \"plot.opts\": {\"xlab\": \"PC1\", \"ylab\": \"PC2\"}, \"topic.order\": [1, 2, 3, 4, 5]};\n",
              "\n",
              "function LDAvis_load_lib(url, callback){\n",
              "  var s = document.createElement('script');\n",
              "  s.src = url;\n",
              "  s.async = true;\n",
              "  s.onreadystatechange = s.onload = callback;\n",
              "  s.onerror = function(){console.warn(\"failed to load library \" + url);};\n",
              "  document.getElementsByTagName(\"head\")[0].appendChild(s);\n",
              "}\n",
              "\n",
              "if(typeof(LDAvis) !== \"undefined\"){\n",
              "   // already loaded: just create the visualization\n",
              "   !function(LDAvis){\n",
              "       new LDAvis(\"#\" + \"ldavis_el1061402614089421444964474410\", ldavis_el1061402614089421444964474410_data);\n",
              "   }(LDAvis);\n",
              "}else if(typeof define === \"function\" && define.amd){\n",
              "   // require.js is available: use it to load d3/LDAvis\n",
              "   require.config({paths: {d3: \"https://cdnjs.cloudflare.com/ajax/libs/d3/3.5.5/d3.min\"}});\n",
              "   require([\"d3\"], function(d3){\n",
              "      window.d3 = d3;\n",
              "      LDAvis_load_lib(\"https://cdn.rawgit.com/bmabey/pyLDAvis/files/ldavis.v1.0.0.js\", function(){\n",
              "        new LDAvis(\"#\" + \"ldavis_el1061402614089421444964474410\", ldavis_el1061402614089421444964474410_data);\n",
              "      });\n",
              "    });\n",
              "}else{\n",
              "    // require.js not available: dynamically load d3 & LDAvis\n",
              "    LDAvis_load_lib(\"https://cdnjs.cloudflare.com/ajax/libs/d3/3.5.5/d3.min.js\", function(){\n",
              "         LDAvis_load_lib(\"https://cdn.rawgit.com/bmabey/pyLDAvis/files/ldavis.v1.0.0.js\", function(){\n",
              "                 new LDAvis(\"#\" + \"ldavis_el1061402614089421444964474410\", ldavis_el1061402614089421444964474410_data);\n",
              "            })\n",
              "         });\n",
              "}\n",
              "</script>"
            ],
            "text/plain": [
              "<IPython.core.display.HTML object>"
            ]
          },
          "metadata": {
            "tags": []
          },
          "execution_count": 92
        }
      ]
    },
    {
      "cell_type": "markdown",
      "metadata": {
        "id": "feWskiDt7zQt",
        "colab_type": "text"
      },
      "source": [
        "Reliable news also talks about US politics , its take on Syria, relation with Russia and China. there is less mentioning of Hillary clinton and her email controversy. Also there are no russian news."
      ]
    },
    {
      "cell_type": "markdown",
      "metadata": {
        "id": "l7Qy-7_e9Btn",
        "colab_type": "text"
      },
      "source": [
        "Now we have better understading of content of texts now lets get stats on sentences and word frequencies and distribution"
      ]
    },
    {
      "cell_type": "code",
      "metadata": {
        "id": "CfooqIL92xJI",
        "colab_type": "code",
        "colab": {}
      },
      "source": [
        "df_train=df_train.dropna(subset=['text'])"
      ],
      "execution_count": 28,
      "outputs": []
    },
    {
      "cell_type": "code",
      "metadata": {
        "id": "cd5fkaGxUhnf",
        "colab_type": "code",
        "colab": {
          "base_uri": "https://localhost:8080/",
          "height": 35
        },
        "outputId": "ea0620ef-a3f0-4e42-8cb4-4128c548d29e"
      },
      "source": [
        "data.shape"
      ],
      "execution_count": 29,
      "outputs": [
        {
          "output_type": "execute_result",
          "data": {
            "text/plain": [
              "(20800, 5)"
            ]
          },
          "metadata": {
            "tags": []
          },
          "execution_count": 29
        }
      ]
    },
    {
      "cell_type": "code",
      "metadata": {
        "id": "WfOZmth4Un3C",
        "colab_type": "code",
        "colab": {
          "base_uri": "https://localhost:8080/",
          "height": 69
        },
        "outputId": "316ea657-377d-41b1-8853-cdad37659a49"
      },
      "source": [
        "df_train['label'].value_counts()"
      ],
      "execution_count": 30,
      "outputs": [
        {
          "output_type": "execute_result",
          "data": {
            "text/plain": [
              "0    10387\n",
              "1    10374\n",
              "Name: label, dtype: int64"
            ]
          },
          "metadata": {
            "tags": []
          },
          "execution_count": 30
        }
      ]
    },
    {
      "cell_type": "code",
      "metadata": {
        "id": "arLh2XnNU2-a",
        "colab_type": "code",
        "colab": {}
      },
      "source": [
        "## looks balanced data"
      ],
      "execution_count": 31,
      "outputs": []
    },
    {
      "cell_type": "code",
      "metadata": {
        "id": "QhC2EiUVVYvL",
        "colab_type": "code",
        "colab": {}
      },
      "source": [
        "##sentence stats\n",
        "from nltk import tokenize\n",
        "word_lens=[]\n",
        "list_sent_sequences=[]\n",
        "sent_lens =[]\n",
        "texts=[]\n",
        "for idx in range(df_train.shape[0]):\n",
        "  sentences=tokenize.sent_tokenize(df_train['text'].iloc[idx])\n",
        "  tokenized_sents=[]\n",
        "  for sent in sentences:\n",
        "    tokens = prepare_text_for_nn(sent)\n",
        "    texts.append(tokens)\n",
        "    word_lens.append(len(tokens))\n",
        "    tokenized_sents.append(tokens)\n",
        "  sent_lens.append(len(sentences))\n",
        "  list_sent_sequences.append(tokenized_sents)\n"
      ],
      "execution_count": 33,
      "outputs": []
    },
    {
      "cell_type": "code",
      "metadata": {
        "id": "5HxT5qAkXVL2",
        "colab_type": "code",
        "colab": {
          "base_uri": "https://localhost:8080/",
          "height": 301
        },
        "outputId": "e7dad960-f9f9-4492-bf32-e186ae3a76cf"
      },
      "source": [
        "sb.distplot(word_lens)\n",
        "plt.xlabel('Average Sentence length')"
      ],
      "execution_count": 38,
      "outputs": [
        {
          "output_type": "execute_result",
          "data": {
            "text/plain": [
              "Text(0.5, 0, 'Average Sentence length')"
            ]
          },
          "metadata": {
            "tags": []
          },
          "execution_count": 38
        },
        {
          "output_type": "display_data",
          "data": {
            "image/png": "[encoded data removed]",
            "text/plain": [
              "<Figure size 432x288 with 1 Axes>"
            ]
          },
          "metadata": {
            "tags": [],
            "needs_background": "light"
          }
        }
      ]
    },
    {
      "cell_type": "code",
      "metadata": {
        "id": "yhEsD1zoiZeW",
        "colab_type": "code",
        "colab": {
          "base_uri": "https://localhost:8080/",
          "height": 299
        },
        "outputId": "af9b0ed7-d22c-4aa0-aa97-743785aca280"
      },
      "source": [
        "sb.distplot(sent_lens)\n",
        "plt.xlabel('No of Sentences')"
      ],
      "execution_count": 37,
      "outputs": [
        {
          "output_type": "execute_result",
          "data": {
            "text/plain": [
              "Text(0.5, 0, 'No of Sentences')"
            ]
          },
          "metadata": {
            "tags": []
          },
          "execution_count": 37
        },
        {
          "output_type": "display_data",
          "data": {
            "image/png": "[encoded data removed]",
            "text/plain": [
              "<Figure size 432x288 with 1 Axes>"
            ]
          },
          "metadata": {
            "tags": [],
            "needs_background": "light"
          }
        }
      ]
    }
  ]
}