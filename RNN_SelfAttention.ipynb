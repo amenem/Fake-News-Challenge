{
  "nbformat": 4,
  "nbformat_minor": 0,
  "metadata": {
    "colab": {
      "name": "RNN_SelfAttention.ipynb",
      "provenance": [],
      "collapsed_sections": [],
      "mount_file_id": "1aT2ZyS00Jt5xEogPsaF4w7960m1cbCsZ",
      "authorship_tag": "ABX9TyN5GQ9MAebBLmSCblFw6hlY",
      "include_colab_link": true
    },
    "kernelspec": {
      "name": "python3",
      "display_name": "Python 3"
    },
    "accelerator": "GPU"
  },
  "cells": [
    {
      "cell_type": "markdown",
      "metadata": {
        "id": "view-in-github",
        "colab_type": "text"
      },
      "source": [
        "<a href=\"https://colab.research.google.com/github/amenem/test/blob/master/RNN_SelfAttention.ipynb\" target=\"_parent\"><img src=\"https://colab.research.google.com/assets/colab-badge.svg\" alt=\"Open In Colab\"/></a>"
      ]
    },
    {
      "cell_type": "code",
      "metadata": {
        "id": "dECccJPx05EL",
        "colab_type": "code",
        "colab": {
          "base_uri": "https://localhost:8080/",
          "height": 297
        },
        "outputId": "340252f1-1922-4f43-a3f6-ae8de134a657"
      },
      "source": [
        "! pip install -q kaggle\n",
        "! pip install keras-self-attention"
      ],
      "execution_count": 6,
      "outputs": [
        {
          "output_type": "stream",
          "text": [
            "Collecting keras-self-attention\n",
            "  Downloading https://files.pythonhosted.org/packages/39/0d/b8ab8469ae55cea199574f4d2c30da4656d310a833a67bb422ad8a056bf0/keras-self-attention-0.47.0.tar.gz\n",
            "Requirement already satisfied: numpy in /usr/local/lib/python3.6/dist-packages (from keras-self-attention) (1.18.5)\n",
            "Requirement already satisfied: Keras in /usr/local/lib/python3.6/dist-packages (from keras-self-attention) (2.4.3)\n",
            "Requirement already satisfied: pyyaml in /usr/local/lib/python3.6/dist-packages (from Keras->keras-self-attention) (3.13)\n",
            "Requirement already satisfied: scipy>=0.14 in /usr/local/lib/python3.6/dist-packages (from Keras->keras-self-attention) (1.4.1)\n",
            "Requirement already satisfied: h5py in /usr/local/lib/python3.6/dist-packages (from Keras->keras-self-attention) (2.10.0)\n",
            "Requirement already satisfied: six in /usr/local/lib/python3.6/dist-packages (from h5py->Keras->keras-self-attention) (1.15.0)\n",
            "Building wheels for collected packages: keras-self-attention\n",
            "  Building wheel for keras-self-attention (setup.py) ... \u001b[?25l\u001b[?25hdone\n",
            "  Created wheel for keras-self-attention: filename=keras_self_attention-0.47.0-cp36-none-any.whl size=17289 sha256=38d940a981d56d737251591afa1c8e3d819c5967efea74015e4c154e6a5ad5e2\n",
            "  Stored in directory: /root/.cache/pip/wheels/70/87/01/76c703d5401b65e323927c1fdc665f3fb143282ff67d71e859\n",
            "Successfully built keras-self-attention\n",
            "Installing collected packages: keras-self-attention\n",
            "Successfully installed keras-self-attention-0.47.0\n"
          ],
          "name": "stdout"
        }
      ]
    },
    {
      "cell_type": "code",
      "metadata": {
        "id": "2EJn2AEyUb8l",
        "colab_type": "code",
        "colab": {
          "base_uri": "https://localhost:8080/",
          "height": 55
        },
        "outputId": "fc602ba1-84e8-4237-e252-3789032de32f"
      },
      "source": [
        "from google.colab import drive\n",
        "drive.mount('/content/drive')"
      ],
      "execution_count": null,
      "outputs": [
        {
          "output_type": "stream",
          "text": [
            "Drive already mounted at /content/drive; to attempt to forcibly remount, call drive.mount(\"/content/drive\", force_remount=True).\n"
          ],
          "name": "stdout"
        }
      ]
    },
    {
      "cell_type": "code",
      "metadata": {
        "id": "suZ3rBCs1t-1",
        "colab_type": "code",
        "colab": {}
      },
      "source": [
        "from google.colab import files\n",
        "import warnings  \n",
        "warnings.filterwarnings('ignore')    "
      ],
      "execution_count": null,
      "outputs": []
    },
    {
      "cell_type": "code",
      "metadata": {
        "id": "WyuSQgr11Cbf",
        "colab_type": "code",
        "colab": {
          "resources": {
            "http://localhost:8080/nbextensions/google.colab/files.js": {
              "data": "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",
              "ok": true,
              "headers": [
                [
                  "content-type",
                  "application/javascript"
                ]
              ],
              "status": 200,
              "status_text": "OK"
            }
          },
          "base_uri": "https://localhost:8080/",
          "height": 91
        },
        "outputId": "69a475b2-d060-4f30-b4b0-2ffe9a0514e0"
      },
      "source": [
        "files.upload()"
      ],
      "execution_count": null,
      "outputs": [
        {
          "output_type": "display_data",
          "data": {
            "text/html": [
              "\n",
              "     <input type=\"file\" id=\"files-7fee6300-f8ba-4333-ab5c-608a4ecbe43c\" name=\"files[]\" multiple disabled\n",
              "        style=\"border:none\" />\n",
              "     <output id=\"result-7fee6300-f8ba-4333-ab5c-608a4ecbe43c\">\n",
              "      Upload widget is only available when the cell has been executed in the\n",
              "      current browser session. Please rerun this cell to enable.\n",
              "      </output>\n",
              "      <script src=\"/nbextensions/google.colab/files.js\"></script> "
            ],
            "text/plain": [
              "<IPython.core.display.HTML object>"
            ]
          },
          "metadata": {
            "tags": []
          }
        },
        {
          "output_type": "stream",
          "text": [
            "Saving kaggle.json to kaggle.json\n"
          ],
          "name": "stdout"
        },
        {
          "output_type": "execute_result",
          "data": {
            "text/plain": [
              "{'kaggle.json': b'{\"username\":\"amenem\",\"key\":\"f0913597f85de0138806c77add36fa0f\"}'}"
            ]
          },
          "metadata": {
            "tags": []
          },
          "execution_count": 10
        }
      ]
    },
    {
      "cell_type": "code",
      "metadata": {
        "id": "zbCC-oWq1TeZ",
        "colab_type": "code",
        "colab": {}
      },
      "source": [
        "import os\n",
        "os.chdir('/content/drive/My Drive')\n",
        "\n"
      ],
      "execution_count": 3,
      "outputs": []
    },
    {
      "cell_type": "code",
      "metadata": {
        "id": "NmclfDsu2BE9",
        "colab_type": "code",
        "colab": {}
      },
      "source": [
        "! mkdir ~/.kaggle\n",
        "! cp kaggle.json ~/.kaggle/"
      ],
      "execution_count": null,
      "outputs": []
    },
    {
      "cell_type": "code",
      "metadata": {
        "id": "kW5iPvQ72F8W",
        "colab_type": "code",
        "colab": {}
      },
      "source": [
        "! chmod 600 ~/.kaggle/kaggle.json"
      ],
      "execution_count": null,
      "outputs": []
    },
    {
      "cell_type": "code",
      "metadata": {
        "id": "Q9dtpk7T2JO7",
        "colab_type": "code",
        "colab": {
          "base_uri": "https://localhost:8080/",
          "height": 211
        },
        "outputId": "59ac23d1-c032-4480-8ca2-55ec0c584246"
      },
      "source": [
        "! kaggle competitions download -c fake-news"
      ],
      "execution_count": null,
      "outputs": [
        {
          "output_type": "stream",
          "text": [
            "Warning: Looks like you're using an outdated API Version, please consider updating (server 1.5.6 / client 1.5.4)\n",
            "Downloading submit.csv to /content/drive/My Drive\n",
            "  0% 0.00/40.6k [00:00<?, ?B/s]\n",
            "100% 40.6k/40.6k [00:00<00:00, 5.68MB/s]\n",
            "Downloading test.csv.zip to /content/drive/My Drive\n",
            " 53% 5.00M/9.42M [00:00<00:00, 11.9MB/s]\n",
            "100% 9.42M/9.42M [00:00<00:00, 19.2MB/s]\n",
            "Downloading train.csv.zip to /content/drive/My Drive\n",
            " 81% 30.0M/37.0M [00:01<00:00, 11.1MB/s]\n",
            "100% 37.0M/37.0M [00:01<00:00, 20.8MB/s]\n"
          ],
          "name": "stdout"
        }
      ]
    },
    {
      "cell_type": "code",
      "metadata": {
        "id": "JhYazWkS2X0v",
        "colab_type": "code",
        "colab": {
          "base_uri": "https://localhost:8080/",
          "height": 52
        },
        "outputId": "840146ea-bc2e-48e4-a302-284d1f662da4"
      },
      "source": [
        "! unzip ./train.csv.zip -d ./"
      ],
      "execution_count": null,
      "outputs": [
        {
          "output_type": "stream",
          "text": [
            "Archive:  ./train.csv.zip\n",
            "  inflating: ./train.csv             \n"
          ],
          "name": "stdout"
        }
      ]
    },
    {
      "cell_type": "code",
      "metadata": {
        "id": "MT6GQTJTuUVN",
        "colab_type": "code",
        "colab": {
          "base_uri": "https://localhost:8080/",
          "height": 52
        },
        "outputId": "f12b6355-30e4-45df-e576-e96ba7da6a66"
      },
      "source": [
        "! unzip ./test.csv.zip -d ./"
      ],
      "execution_count": null,
      "outputs": [
        {
          "output_type": "stream",
          "text": [
            "Archive:  ./test.csv.zip\n",
            "  inflating: ./test.csv              \n"
          ],
          "name": "stdout"
        }
      ]
    },
    {
      "cell_type": "code",
      "metadata": {
        "id": "B5n7S-Eb2SCQ",
        "colab_type": "code",
        "colab": {
          "base_uri": "https://localhost:8080/",
          "height": 72
        },
        "outputId": "9d8cc3c4-3d9a-4ffa-a3c3-b94e567f3ce9"
      },
      "source": [
        "import pandas as pd\n",
        "import numpy as np\n",
        "import seaborn as sb\n",
        "import matplotlib.pyplot as plt"
      ],
      "execution_count": 4,
      "outputs": [
        {
          "output_type": "stream",
          "text": [
            "/usr/local/lib/python3.6/dist-packages/statsmodels/tools/_testing.py:19: FutureWarning: pandas.util.testing is deprecated. Use the functions in the public API at pandas.testing instead.\n",
            "  import pandas.util.testing as tm\n"
          ],
          "name": "stderr"
        }
      ]
    },
    {
      "cell_type": "code",
      "metadata": {
        "id": "nSyKGTOFucYO",
        "colab_type": "code",
        "colab": {}
      },
      "source": [
        "import keras\n",
        "from keras.preprocessing.text import Tokenizer\n",
        "from keras.callbacks import Callback, ModelCheckpoint\n",
        "from keras.preprocessing.sequence import pad_sequences\n",
        "from keras.layers import *\n",
        "from keras.layers.embeddings import Embedding\n",
        "from keras.models import Sequential\n",
        "from keras_self_attention import SeqSelfAttention"
      ],
      "execution_count": 41,
      "outputs": []
    },
    {
      "cell_type": "code",
      "metadata": {
        "id": "lkxf44pn3NMV",
        "colab_type": "code",
        "colab": {}
      },
      "source": [
        "df = pd.read_csv('./train.csv')"
      ],
      "execution_count": 8,
      "outputs": []
    },
    {
      "cell_type": "code",
      "metadata": {
        "id": "CfooqIL92xJI",
        "colab_type": "code",
        "colab": {}
      },
      "source": [
        "df=df.dropna(subset=['text'])"
      ],
      "execution_count": 9,
      "outputs": []
    },
    {
      "cell_type": "code",
      "metadata": {
        "id": "cd5fkaGxUhnf",
        "colab_type": "code",
        "colab": {
          "base_uri": "https://localhost:8080/",
          "height": 35
        },
        "outputId": "64493648-f7d7-455f-8603-eba1cc480a1a"
      },
      "source": [
        "df.shape"
      ],
      "execution_count": 10,
      "outputs": [
        {
          "output_type": "execute_result",
          "data": {
            "text/plain": [
              "(20761, 5)"
            ]
          },
          "metadata": {
            "tags": []
          },
          "execution_count": 10
        }
      ]
    },
    {
      "cell_type": "code",
      "metadata": {
        "id": "WfOZmth4Un3C",
        "colab_type": "code",
        "colab": {
          "base_uri": "https://localhost:8080/",
          "height": 69
        },
        "outputId": "b6122bae-87b3-4f4c-bd54-58dbfe169d57"
      },
      "source": [
        "df['label'].value_counts()"
      ],
      "execution_count": 11,
      "outputs": [
        {
          "output_type": "execute_result",
          "data": {
            "text/plain": [
              "0    10387\n",
              "1    10374\n",
              "Name: label, dtype: int64"
            ]
          },
          "metadata": {
            "tags": []
          },
          "execution_count": 11
        }
      ]
    },
    {
      "cell_type": "code",
      "metadata": {
        "id": "arLh2XnNU2-a",
        "colab_type": "code",
        "colab": {}
      },
      "source": [
        "## looks balanced data\n"
      ],
      "execution_count": 12,
      "outputs": []
    },
    {
      "cell_type": "code",
      "metadata": {
        "id": "0IXyLOFpHx6F",
        "colab_type": "code",
        "colab": {
          "base_uri": "https://localhost:8080/",
          "height": 87
        },
        "outputId": "be75fe4d-baa4-4360-f088-e31a4bc6dbca"
      },
      "source": [
        "import nltk\n",
        "import re\n",
        "nltk.download('stopwords')\n",
        "nltk.download('punkt')\n",
        "\n",
        "from nltk.corpus import stopwords \n",
        "from nltk.tokenize import word_tokenize \n",
        "    \n",
        "STOP_WORDS = set(stopwords.words('english')) \n",
        "def filter_sw(text):\n",
        "  text = re.sub('[^a-zA-Z]',' ',text)\n",
        "  text = text.lower()\n",
        "  tokens = word_tokenize(text)\n",
        "  filtered = [token for token in tokens if token not in STOP_WORDS]\n",
        "  return filtered"
      ],
      "execution_count": 27,
      "outputs": [
        {
          "output_type": "stream",
          "text": [
            "[nltk_data] Downloading package stopwords to /root/nltk_data...\n",
            "[nltk_data]   Package stopwords is already up-to-date!\n",
            "[nltk_data] Downloading package punkt to /root/nltk_data...\n",
            "[nltk_data]   Package punkt is already up-to-date!\n"
          ],
          "name": "stdout"
        }
      ]
    },
    {
      "cell_type": "markdown",
      "metadata": {
        "id": "n9GLrgBTJhX-",
        "colab_type": "text"
      },
      "source": [
        "Remove stopwords"
      ]
    },
    {
      "cell_type": "code",
      "metadata": {
        "id": "0OwWqLdJJbYU",
        "colab_type": "code",
        "colab": {}
      },
      "source": [
        "df['text_ws']=df['text'].apply(filter_sw)"
      ],
      "execution_count": 28,
      "outputs": []
    },
    {
      "cell_type": "code",
      "metadata": {
        "id": "iRP61vG0Hvvi",
        "colab_type": "code",
        "colab": {}
      },
      "source": [
        "X = df['text_ws'].values\n",
        "y=df['label']\n",
        "max_num_words = 20000\n",
        "tokenizer = Tokenizer(max_num_words, oov_token='<OOV>')\n",
        "tokenizer.fit_on_texts(X)\n",
        "word_index = tokenizer.word_index"
      ],
      "execution_count": 22,
      "outputs": []
    },
    {
      "cell_type": "code",
      "metadata": {
        "id": "79k78RjeKTqV",
        "colab_type": "code",
        "colab": {
          "base_uri": "https://localhost:8080/",
          "height": 176
        },
        "outputId": "de4e81d3-f663-41ee-c81e-9c0eb8695daa"
      },
      "source": [
        "X"
      ],
      "execution_count": 29,
      "outputs": [
        {
          "output_type": "execute_result",
          "data": {
            "text/plain": [
              "array([list(['house', 'dem', 'aide', 'even', 'see', 'comey', 'letter', 'jason', 'chaffetz', 'tweeted', 'darrell', 'lucus', 'october', 'subscribe', 'jason', 'chaffetz', 'stump', 'american', 'fork', 'utah', 'image', 'courtesy', 'michael', 'jolley', 'available', 'creative', 'commons', 'license', 'apologies', 'keith', 'olbermann', 'doubt', 'worst', 'person', 'world', 'week', 'fbi', 'director', 'james', 'comey', 'according', 'house', 'democratic', 'aide', 'looks', 'like', 'also', 'know', 'second', 'worst', 'person', 'well', 'turns', 'comey', 'sent', 'infamous', 'letter', 'announcing', 'fbi', 'looking', 'emails', 'may', 'related', 'hillary', 'clinton', 'email', 'server', 'ranking', 'democrats', 'relevant', 'committees', 'hear', 'comey', 'found', 'via', 'tweet', 'one', 'republican', 'committee', 'chairmen', 'know', 'comey', 'notified', 'republican', 'chairmen', 'democratic', 'ranking', 'members', 'house', 'intelligence', 'judiciary', 'oversight', 'committees', 'agency', 'reviewing', 'emails', 'recently', 'discovered', 'order', 'see', 'contained', 'classified', 'information', 'long', 'letter', 'went', 'oversight', 'committee', 'chairman', 'jason', 'chaffetz', 'set', 'political', 'world', 'ablaze', 'tweet', 'fbi', 'dir', 'informed', 'fbi', 'learned', 'existence', 'emails', 'appear', 'pertinent', 'investigation', 'case', 'reopened', 'jason', 'chaffetz', 'jasoninthehouse', 'october', 'course', 'know', 'case', 'comey', 'actually', 'saying', 'reviewing', 'emails', 'light', 'unrelated', 'case', 'know', 'anthony', 'weiner', 'sexting', 'teenager', 'apparently', 'little', 'things', 'facts', 'matter', 'chaffetz', 'utah', 'republican', 'already', 'vowed', 'initiate', 'raft', 'investigations', 'hillary', 'wins', 'least', 'two', 'years', 'worth', 'possibly', 'entire', 'term', 'worth', 'apparently', 'chaffetz', 'thought', 'fbi', 'already', 'work', 'resulting', 'tweet', 'briefly', 'roiled', 'nation', 'cooler', 'heads', 'realized', 'dud', 'according', 'senior', 'house', 'democratic', 'aide', 'misreading', 'letter', 'may', 'least', 'chaffetz', 'sins', 'aide', 'told', 'shareblue', 'boss', 'democrats', 'even', 'know', 'comey', 'letter', 'time', 'found', 'checked', 'twitter', 'democratic', 'ranking', 'members', 'relevant', 'committees', 'receive', 'comey', 'letter', 'republican', 'chairmen', 'fact', 'democratic', 'ranking', 'members', 'receive', 'chairman', 'oversight', 'government', 'reform', 'committee', 'jason', 'chaffetz', 'tweeted', 'made', 'public', 'let', 'see', 'got', 'right', 'fbi', 'director', 'tells', 'chaffetz', 'gop', 'committee', 'chairmen', 'major', 'development', 'potentially', 'politically', 'explosive', 'investigation', 'neither', 'chaffetz', 'colleagues', 'courtesy', 'let', 'democratic', 'counterparts', 'know', 'instead', 'according', 'aide', 'made', 'find', 'twitter', 'already', 'talk', 'daily', 'kos', 'comey', 'provided', 'advance', 'notice', 'letter', 'chaffetz', 'republicans', 'giving', 'time', 'turn', 'spin', 'machine', 'may', 'make', 'good', 'theater', 'nothing', 'far', 'even', 'suggests', 'case', 'nothing', 'far', 'suggests', 'comey', 'anything', 'grossly', 'incompetent', 'tone', 'deaf', 'suggest', 'however', 'chaffetz', 'acting', 'way', 'makes', 'dan', 'burton', 'darrell', 'issa', 'look', 'like', 'models', 'responsibility', 'bipartisanship', 'even', 'decency', 'notify', 'ranking', 'member', 'elijah', 'cummings', 'something', 'explosive', 'trample', 'basic', 'standards', 'fairness', 'know', 'granted', 'likely', 'chaffetz', 'answer', 'sits', 'ridiculously', 'republican', 'district', 'anchored', 'provo', 'orem', 'cook', 'partisan', 'voting', 'index', 'r', 'gave', 'mitt', 'romney', 'punishing', 'percent', 'vote', 'moreover', 'republican', 'house', 'leadership', 'given', 'full', 'support', 'chaffetz', 'planned', 'fishing', 'expedition', 'mean', 'turn', 'hot', 'lights', 'textbook', 'example', 'house', 'become', 'republican', 'control', 'also', 'second', 'worst', 'person', 'world', 'darrell', 'lucus', 'darrell', 'something', 'graduate', 'university', 'north', 'carolina', 'considers', 'journalist', 'old', 'school', 'attempt', 'turn', 'member', 'religious', 'right', 'college', 'succeeded', 'turning', 'religious', 'right', 'worst', 'nightmare', 'charismatic', 'christian', 'unapologetic', 'liberal', 'desire', 'stand', 'scared', 'silence', 'increased', 'survived', 'abusive', 'three', 'year', 'marriage', 'may', 'know', 'daily', 'kos', 'christian', 'dem', 'nc', 'follow', 'twitter', 'darrelllucus', 'connect', 'facebook', 'click', 'buy', 'darrell', 'mello', 'yello', 'connect']),\n",
              "       list(['ever', 'get', 'feeling', 'life', 'circles', 'roundabout', 'rather', 'heads', 'straight', 'line', 'toward', 'intended', 'destination', 'hillary', 'clinton', 'remains', 'big', 'woman', 'campus', 'leafy', 'liberal', 'wellesley', 'massachusetts', 'everywhere', 'else', 'votes', 'likely', 'inauguration', 'dress', 'remainder', 'days', 'way', 'miss', 'havisham', 'forever', 'wore', 'wedding', 'dress', 'speaking', 'great', 'expectations', 'hillary', 'rodham', 'overflowed', 'years', 'ago', 'first', 'addressed', 'wellesley', 'graduating', 'class', 'president', 'college', 'informed', 'gathered', 'students', 'needed', 'debate', 'far', 'could', 'ascertain', 'spokesman', 'kind', 'like', 'democratic', 'primaries', 'minus', 'terms', 'unknown', 'even', 'seven', 'sisters', 'school', 'glad', 'miss', 'adams', 'made', 'clear', 'speaking', 'today', 'us', 'us', 'miss', 'rodham', 'told', 'classmates', 'appointing', 'edger', 'bergen', 'charlie', 'mccarthys', 'mortimer', 'snerds', 'attendance', 'bespectacled', 'granny', 'glasses', 'awarding', 'matronly', 'wisdom', 'least', 'john', 'lennon', 'wisdom', 'took', 'issue', 'previous', 'speaker', 'despite', 'becoming', 'first', 'win', 'election', 'seat', 'u', 'senate', 'since', 'reconstruction', 'edward', 'brooke', 'came', 'criticism', 'calling', 'empathy', 'goals', 'protestors', 'criticized', 'tactics', 'though', 'clinton', 'senior', 'thesis', 'saul', 'alinsky', 'lamented', 'black', 'power', 'demagogues', 'elitist', 'arrogance', 'repressive', 'intolerance', 'within', 'new', 'left', 'similar', 'words', 'coming', 'republican', 'necessitated', 'brief', 'rebuttal', 'trust', 'rodham', 'ironically', 'observed', 'one', 'word', 'asked', 'class', 'rehearsal', 'wanted', 'say', 'everyone', 'came', 'said', 'talk', 'trust', 'talk', 'lack', 'trust', 'us', 'way', 'feel', 'others', 'talk', 'trust', 'bust', 'say', 'say', 'feeling', 'permeates', 'generation', 'perhaps', 'even', 'understood', 'distrusted', 'trust', 'bust', 'certainly', 'busted', 'clinton', 'plans', 'certainly', 'even', 'understand', 'people', 'distrusted', 'whitewater', 'travelgate', 'vast', 'conspiracy', 'benghazi', 'missing', 'emails', 'clinton', 'found', 'distrusted', 'voice', 'friday', 'load', 'compromising', 'road', 'broadening', 'political', 'horizons', 'distrust', 'american', 'people', 'trump', 'edged', 'percent', 'percent', 'question', 'immediately', 'prior', 'november', 'election', 'stood', 'major', 'reason', 'closing', 'horizons', 'clinton', 'described', 'vanquisher', 'supporters', 'embracing', 'lie', 'con', 'alternative', 'facts', 'assault', 'truth', 'reason', 'failed', 'explain', 'american', 'people', 'chose', 'lies', 'truth', 'history', 'majors', 'among', 'today', 'know', 'well', 'people', 'power', 'invent', 'facts', 'attack', 'question', 'mark', 'beginning', 'end', 'free', 'society', 'offered', 'hyperbole', 'like', 'many', 'people', 'emerge', 'hillary', 'clinton', 'embarked', 'upon', 'long', 'strange', 'trip', 'high', 'school', 'goldwater', 'girl', 'wellesley', 'college', 'republican', 'president', 'democratic', 'politician', 'clinton', 'drank', 'times', 'place', 'gave', 'degree', 'significantly', 'went', 'idealist', 'cynic', 'comparison', 'two', 'wellesley', 'commencement', 'addresses', 'show', 'way', 'back', 'lamented', 'long', 'leaders', 'viewed', 'politics', 'art', 'possible', 'challenge', 'practice', 'politics', 'art', 'making', 'appears', 'impossible', 'possible', 'big', 'woman', 'campus', 'odd', 'woman', 'white', 'house', 'wonders', 'current', 'station', 'even', 'possible', 'points', 'ahead', 'asked', 'september', 'may', 'asks', 'president', 'woman', 'famously', 'dubbed', 'congenital', 'liar', 'bill', 'safire', 'concludes', 'lies', 'mind', 'getting', 'stood', 'election', 'day', 'like', 'finding', 'jilted', 'bride', 'wedding', 'day', 'inspires', 'dangerous', 'delusions']),\n",
              "       list(['truth', 'might', 'get', 'fired', 'october', 'tension', 'intelligence', 'analysts', 'political', 'policymakers', 'always', 'honest', 'assessments', 'desired', 'results', 'latter', 'often', 'overwhelming', 'former', 'iraq', 'war', 'writes', 'lawrence', 'davidson', 'lawrence', 'davidson', 'might', 'wonder', 'foreign', 'policy', 'makers', 'repeatedly', 'make', 'bad', 'choices', 'insight', 'might', 'drawn', 'following', 'analysis', 'action', 'plays', 'united', 'states', 'lessons', 'probably', 'universal', 'back', 'early', 'spring', 'george', 'w', 'bush', 'initiated', 'invasion', 'iraq', 'one', 'key', 'public', 'reasons', 'claim', 'country', 'dictator', 'saddam', 'hussein', 'verge', 'developing', 'nuclear', 'weapons', 'hiding', 'weapons', 'mass', 'destruction', 'real', 'reason', 'went', 'beyond', 'charge', 'included', 'long', 'range', 'plan', 'regime', 'change', 'middle', 'east', 'president', 'george', 'w', 'bush', 'vice', 'president', 'dick', 'cheney', 'receive', 'oval', 'office', 'briefing', 'cia', 'director', 'george', 'tenet', 'also', 'present', 'chief', 'staff', 'andy', 'card', 'right', 'white', 'house', 'photo', 'purposes', 'concentrate', 'belief', 'iraq', 'become', 'hostile', 'nuclear', 'power', 'president', 'bush', 'close', 'associates', 'accept', 'scenario', 'readily', 'short', 'answer', 'bush', 'wanted', 'indeed', 'needed', 'believe', 'rationale', 'invading', 'iraq', 'first', 'tried', 'connect', 'saddam', 'hussein', 'attacks', 'u', 'though', 'never', 'gave', 'stratagem', 'lack', 'evidence', 'made', 'difficult', 'rally', 'american', 'people', 'already', 'fixated', 'afghanistan', 'support', 'war', 'baghdad', 'nuclear', 'weapons', 'gambit', 'proved', 'fruitful', 'hard', 'evidence', 'charge', 'supposedly', 'reliable', 'witnesses', 'persons', 'exiled', 'anti', 'saddam', 'iraqis', 'many', 'u', 'government', 'payroll', 'kept', 'telling', 'bush', 'advisers', 'nuclear', 'story', 'true', 'u', 'leadership', 'cadre', 'whose', 'worldview', 'literally', 'demanded', 'mortally', 'dangerous', 'iraq', 'informants', 'order', 'precipitate', 'overthrow', 'saddam', 'willing', 'tell', 'tale', 'pending', 'atomic', 'weapons', 'strong', 'desire', 'believe', 'tale', 'nuclear', 'iraq', 'lowered', 'threshold', 'proof', 'likewise', 'repeated', 'assertions', 'assumed', 'dependable', 'iraqi', 'sources', 'underpinned', 'nationwide', 'u', 'campaign', 'generating', 'fear', 'war', 'fever', 'u', 'allies', 'insisted', 'united', 'nations', 'send', 'weapons', 'inspectors', 'scour', 'iraq', 'evidence', 'nuclear', 'weapons', 'program', 'well', 'chemical', 'biological', 'weapons', 'inspectors', 'could', 'find', 'convincing', 'evidence', 'frustrated', 'bush', 'administration', 'soon', 'forced', 'hand', 'march', 'bush', 'launched', 'invasion', 'iraq', 'expectation', 'occupation', 'country', 'u', 'inspectors', 'would', 'surely', 'find', 'evidence', 'nukes', 'least', 'stockpiles', 'chemical', 'biological', 'weapons', 'iraqi', 'informants', 'systematically', 'lied', 'social', 'behavioral', 'sciences', 'rescue', 'various', 'u', 'intelligence', 'agencies', 'thoroughly', 'shaken', 'affair', 'today', 'years', 'later', 'directors', 'managers', 'still', 'trying', 'sort', 'specifically', 'tell', 'getting', 'true', 'intelligence', 'lied', 'one', 'intelligence', 'worker', 'put', 'need', 'help', 'protect', 'us', 'armies', 'snake', 'oil', 'salesmen', 'end', 'cia', 'et', 'al', 'market', 'academic', 'assistance', 'ahmed', 'chalabi', 'head', 'iraqi', 'national', 'congress', 'key', 'supplier', 'iraqi', 'defectors', 'bogus', 'stories', 'hidden', 'wmd', 'partnership', 'forged', 'office', 'director', 'national', 'intelligence', 'odni', 'serves', 'coordinating', 'center', 'sixteen', 'independent', 'u', 'intelligence', 'agencies', 'national', 'academies', 'sciences', 'engineering', 'medicine', 'result', 'collaboration', 'permanent', 'intelligence', 'community', 'studies', 'board', 'coordinate', 'programs', 'social', 'behavioral', 'science', 'research', 'might', 'strengthen', 'national', 'security', 'despite', 'effort', 'almost', 'certain', 'social', 'behavioral', 'sciences', 'give', 'spy', 'agencies', 'want', 'way', 'detecting', 'lies', 'better', 'present', 'standard', 'procedures', 'polygraph', 'tests', 'interrogations', 'even', 'could', 'might', 'well', 'make', 'difference', 'real', 'problem', 'found', 'liars', 'found', 'believers', 'believers', 'simply', 'true', 'odni', 'leaders', 'seem', 'assert', 'u', 'intelligence', 'agency', 'personnel', 'tell', 'often', 'lied', 'case', 'thousands', 'middle', 'echelon', 'intelligence', 'workers', 'desk', 'officers', 'specialists', 'know', 'something', 'closely', 'approaching', 'truth', 'know', 'pretty', 'well', 'going', 'places', 'like', 'afghanistan', 'iraq', 'syria', 'libya', 'israel', 'palestine', 'elsewhere', 'director', 'national', 'intelligence', 'james', 'clapper', 'right', 'talks', 'president', 'barack', 'obama', 'oval', 'office', 'john', 'brennan', 'national', 'security', 'aides', 'present', 'photo', 'credit', 'office', 'director', 'national', 'intelligence', 'therefore', 'someone', 'feeds', 'snake', 'oil', 'usually', 'know', 'however', 'accurate', 'grasp', 'things', 'often', 'avail', 'superiors', 'got', 'appointments', 'accepting', 'pre', 'structured', 'worldview', 'different', 'criterion', 'true', 'analysts', 'listen', 'charles', 'gaukel', 'national', 'intelligence', 'council', 'yet', 'another', 'organization', 'acts', 'meeting', 'ground', 'intelligence', 'agencies', 'referring', 'search', 'way', 'avoid', 'getting', 'taken', 'lies', 'gaukel', 'declared', 'looking', 'truth', 'particularly', 'looking', 'truth', 'works', 'might', 'mean', 'certainly', 'tell', 'means', 'historically', 'means', 'power', 'brokers', 'truth', 'must', 'match', 'fit', 'worldview', 'political', 'ideological', 'precepts', 'fit', 'work', 'intelligence', 'specialists', 'send', 'usually', 'accurate', 'assessments', 'line', 'policy', 'makers', 'often', 'hit', 'roadblock', 'caused', 'group', 'think', 'ideological', 'blinkers', 'know', 'better', 'attitude', 'hand', 'long', 'selling', 'leadership', 'matches', 'want', 'believe', 'peddle', 'anything', 'imaginary', 'iraqi', 'nukes', 'israel', 'western', 'style', 'democracy', 'saudi', 'arabia', 'indispensable', 'ally', 'libya', 'liberated', 'country', 'bashar', 'al', 'assad', 'real', 'roadblock', 'peace', 'syria', 'strategic', 'defense', 'initiative', 'sdi', 'aka', 'star', 'wars', 'world', 'getting', 'colder', 'warmer', 'american', 'exceptionalism', 'glory', 'list', 'almost', 'endless', 'sad', 'tale', 'tell', 'us', 'want', 'spend', 'millions', 'dollars', 'social', 'behavioral', 'science', 'research', 'improve', 'assessment', 'use', 'intelligence', 'forget', 'liars', 'want', 'look', 'antidote', 'narrow', 'mindedness', 'believers', 'policymakers', 'seem', 'able', 'rise', 'ideological', 'presumptions', 'class', 'presumptions', 'underpin', 'self', 'confidence', 'lead', 'us', 'slippery', 'slopes', 'happened', 'way', 'often', 'many', 'places', 'source', 'shakespeare', 'determination', 'past', 'prelude', 'elites', 'play', 'destinies', 'free', 'capacity', 'break', 'structured', 'ways', 'seeing', 'yet', 'middle', 'echelon', 'specialists', 'keep', 'sending', 'relatively', 'accurate', 'assessments', 'ladder', 'power', 'hope', 'springs', 'eternal']),\n",
              "       ...,\n",
              "       list(['macy', 'today', 'grew', 'union', 'several', 'great', 'names', 'american', 'retailing', 'including', 'namesake', 'chain', 'bloomingdale', 'marshall', 'field', 'ambitious', 'owner', 'saks', 'fifth', 'avenue', 'broached', 'idea', 'taking', 'union', 'even', 'combining', 'macy', 'create', 'department', 'store', 'juggernaut', 'time', 'industry', 'reeling', 'hudson', 'bay', 'company', 'canadian', 'owner', 'saks', 'approached', 'macy', 'potential', 'takeover', 'people', 'briefed', 'matter', 'authorized', 'speak', 'publicly', 'said', 'friday', 'talks', 'two', 'companies', 'early', 'stage', 'may', 'still', 'fall', 'apart', 'lead', 'partnership', 'kind', 'rather', 'sale', 'unclear', 'whether', 'deal', 'happen', 'combination', 'could', 'lift', 'fortunes', 'macy', 'country', 'biggest', 'department', 'store', 'struggling', 'investors', 'certainly', 'appeared', 'see', 'way', 'shares', 'macy', 'rose', 'much', 'percent', 'friday', 'biggest', 'intraday', 'gain', 'since', 'aug', 'according', 'data', 'bloomberg', 'retail', 'titan', 'macy', 'struggled', 'remain', 'relevant', 'discount', 'retailers', 'decimated', 'traditional', 'business', 'last', 'month', 'macy', 'announced', 'plans', 'cut', 'jobs', 'close', 'stores', 'terry', 'lundgren', 'chief', 'executive', 'architect', 'macy', 'last', 'big', 'merger', 'expected', 'step', 'end', 'march', 'succeeded', 'company', 'president', 'jeffrey', 'gennette', 'since', 'recession', 'shoppers', 'grown', 'accustomed', 'hunt', 'bargains', 'pay', 'full', 'price', 'discount', 'stores', 'outlet', 'malls', 'flourished', 'traditional', 'stores', 'compelled', 'respond', 'trimming', 'prices', 'cuts', 'margins', 'departments', 'stores', 'hit', 'especially', 'hard', 'particularly', 'shoppers', 'migrate', 'away', 'malls', 'emerged', 'analysts', 'say', 'virtual', 'race', 'bottom', 'particularly', 'difficult', 'macy', 'born', 'series', 'mergers', 'past', 'two', 'decades', 'made', 'juggernaut', 'industry', 'stalwart', 'middle', 'tier', 'retail', 'company', 'neither', 'advantages', 'retailers', 'like', 'hm', 'stores', 'addition', 'macy', 'faces', 'increasingly', 'fierce', 'competition', 'online', 'sites', 'like', 'amazon', 'elsewhere', 'macy', 'troubles', 'drawn', 'attention', 'prominent', 'activist', 'hedge', 'fund', 'starboard', 'value', 'urged', 'company', 'generate', 'cash', 'selling', 'real', 'estate', 'beneath', 'stores', 'starboard', 'held', 'percent', 'macy', 'shares', 'sept', 'previously', 'estimated', 'value', 'land', 'billion', 'friday', 'analysts', 'citigroup', 'estimated', 'macy', 'holdings', 'could', 'worth', 'least', 'billion', 'macy', 'market', 'value', 'comparison', 'billion', 'friday', 'morning', 'macy', 'taken', 'steps', 'sell', 'redevelop', 'stores', 'last', 'year', 'added', 'expert', 'real', 'estate', 'transactions', 'board', 'company', 'largely', 'resisted', 'ambitious', 'efforts', 'divest', 'real', 'estate', 'including', 'deals', 'company', 'sells', 'underlying', 'land', 'beneath', 'stores', 'rents', 'back', 'company', 'suitor', 'hudson', 'bay', 'company', 'far', 'smaller', 'market', 'value', 'billion', 'canadian', 'dollars', 'billion', 'known', 'bold', 'steps', 'hudson', 'bay', 'company', 'assembled', 'growing', 'empire', 'includes', 'hudson', 'bay', 'department', 'store', 'chain', 'lord', 'taylor', 'crown', 'jewel', 'saks', 'governor', 'executive', 'chairman', 'hudson', 'bay', 'company', 'richard', 'baker', 'shown', 'little', 'fear', 'using', 'debt', 'november', 'company', 'borrowed', 'nearly', 'billion', 'saks', 'flagship', 'midtown', 'manhattan', 'spoken', 'often', 'retailers', 'need', 'highlight', 'value', 'real', 'estate', 'financing', 'bid', 'macy', 'may', 'trickier', 'however', 'carries', 'billion', 'debt', 'may', 'mean', 'hudson', 'bay', 'company', 'bring', 'partner', 'borrow', 'real', 'estate', 'holdings', 'spokesman', 'hudson', 'bay', 'company', 'declined', 'comment', 'talks', 'reported', 'earlier', 'wall', 'street', 'journal', 'comment', 'rumors', 'speculation', 'representative', 'macy', 'said', 'representative', 'starboard', 'value', 'respond', 'request', 'comment', 'analysts', 'said', 'saw', 'merit', 'potential', 'combination', 'particularly', 'given', 'macy', 'operational', 'woes', 'mr', 'baker', 'expertise', 'wringing', 'money', 'real', 'estate', 'clear', 'logic', 'despite', 'disparity', 'cap', 'macy', 'hudson', 'bay', 'company', 'craig', 'johnson', 'president', 'customer', 'growth', 'partners', 'research', 'firm', 'said', 'note', 'referring', 'macy', 'stock', 'ticker', 'symbol', 'added', 'retail', 'market', 'changing', 'faster', 'able', 'keep', 'whether', 'flight', 'mall', 'migration', 'online']),\n",
              "       list(['nato', 'russia', 'hold', 'parallel', 'exercises', 'balkans', 'press', 'tv', 'russia', 'military', 'nato', 'forces', 'holding', 'parallel', 'military', 'exercises', 'two', 'neighboring', 'balkan', 'countries', 'russian', 'troops', 'participate', 'war', 'games', 'serbia', 'nato', 'conducting', 'military', 'drills', 'montenegro', 'media', 'reported', 'monday', 'russian', 'forces', 'day', 'military', 'exercise', 'serbia', 'named', 'slavic', 'brotherhood', 'begins', 'wednesday', 'include', 'russian', 'paratroopers', 'air', 'force', 'staffers', 'three', 'transport', 'planes', 'unspecified', 'number', 'troops', 'serbia', 'belarus', 'russia', 'defense', 'ministry', 'said', 'five', 'day', 'nato', 'drill', 'montenegro', 'started', 'monday', 'involves', 'responding', 'floods', 'chemical', 'attacks', 'involve', 'unarmed', 'personnel', 'seven', 'nato', 'countries', 'partner', 'states', 'past', 'serbia', 'montenegro', 'constitutional', 'republics', 'socialist', 'federal', 'republic', 'yugoslavia', 'countries', 'socialist', 'republics', 'traditional', 'russian', 'christian', 'orthodox', 'allies', 'state', 'union', 'formed', 'serbia', 'montenegro', 'two', 'became', 'independent', 'states', 'since', 'split', 'two', 'balkan', 'neighbors', 'seem', 'headed', 'different', 'directions', 'strategically', 'montenegro', 'taken', 'pro', 'western', 'stance', 'awarded', 'nato', 'offer', 'join', 'northern', 'atlantic', 'alliance', 'nato', 'invitation', 'montenegro', 'met', 'strong', 'opposition', 'russia', 'meanwhile', 'montenegrin', 'officials', 'accused', 'russia', 'staging', 'alleged', 'coup', 'october', 'topple', 'pro', 'western', 'government', 'nato', 'accession', 'bid', 'serbia', 'nato', 'partner', 'held', 'exercises', 'western', 'alliance', 'large', 'one', 'foreign', 'troops', 'equipment', 'participating', 'soil']),\n",
              "       list(['david', 'swanson', 'author', 'activist', 'journalist', 'radio', 'host', 'nobel', 'peace', 'prize', 'nominee', 'director', 'worldbeyondwar', 'com', 'campaign', 'coordinator', 'rootsaction', 'org', 'hosts', 'talk', 'nation', 'radio', 'talk', 'nation', 'radio', 'vt', 'radio', 'syndicated', 'pacifica', 'network', 'show', 'also', 'airs', 'wtju', 'charlottesville', 'va', 'wcsx', 'detroit', 'mi', 'kghi', 'westport', 'wa', 'whus', 'storrs', 'ct', 'wprr', 'grand', 'rapids', 'mi', 'krfp', 'lp', 'moscow', 'id', 'kzgm', 'cabool', 'mo', 'kmud', 'garberville', 'ca', 'wazu', 'peoria', 'il', 'wxrd', 'crown', 'point', 'geneva', 'radio', 'geneva', 'ny', 'kkrn', 'round', 'mountain', 'ca', 'kskq', 'lp', 'ashland', 'wuow', 'lp', 'oneonta', 'ny', 'lies', 'radio', 'pinole', 'ca', 'wyap', 'lp', 'clay', 'wv', 'detour', 'johnson', 'city', 'tn', 'wzrd', 'chicago', 'il', 'weft', 'champaign', 'il', 'wxpi', 'pittsburgh', 'pa', 'wdrt', 'viroqua', 'wi', 'veracity', 'online', 'liberty', 'justice', 'radio', 'shirley', 'ithaca', 'community', 'radio', 'ithaca', 'ny', 'wmcb', 'greenfield', 'prx', 'org', 'kaos', 'fm', 'olympia', 'wa', 'wusb', 'fm', 'stony', 'brook', 'ny', 'wool', 'fm', 'bellow', 'falls', 'vermont', 'wslr', 'lp', 'sarasota', 'florida', 'also', 'blogs', 'davidswanson', 'org', 'warisacrime', 'org', 'prolific', 'author', 'latest', 'books', 'war', 'lie', 'daybreak', 'undoing', 'imperial', 'presidency', 'forming', 'perfect', 'union', 'world', 'outlawed', 'war', 'swanson', 'holds', 'master', 'degree', 'philosophy', 'university', 'virginia', 'worked', 'newspaper', 'reporter', 'communications', 'director', 'jobs', 'including', 'press', 'secretary', 'dennis', 'kucinich', 'presidential', 'campaign', 'media', 'coordinator', 'international', 'labor', 'communications', 'association', 'three', 'years', 'communications', 'coordinator', 'acorn', 'association', 'community', 'organizations', 'reform', 'read', 'full', 'complete', 'biography', 'davidswanson', 'org', 'also', 'visit', 'book', 'site', 'war', 'crime', 'keeps', 'f', 'alive', 'david', 'swanson', 'october', 'petition', 'stop', 'f', 'going', 'global', 'david', 'swanson', 'imagine', 'local', 'business', 'town', 'invented', 'brand', 'new', 'tool', 'intended', 'almost', 'magical', 'effect', 'thousands', 'miles', 'away', 'however', 'tool', 'kept', 'used', 'locally', 'became', 'area', 'unsafe', 'children', 'children', 'got', 'near', 'tool', 'tended', 'increased', 'blood', 'pressure', 'increased', 'stress', 'hormones', 'lower', 'reading', 'skills', 'poorer', 'memories', 'impaired', 'auditory', 'speech', 'perception', 'impaired', 'academic', 'performance', 'us', 'would', 'find', 'situation', 'least', 'little', 'concerning', 'unless', 'new', 'invention', 'designed', 'murder', 'lots', 'people', 'fine', 'imagine', 'new', 'tool', 'ruined', 'neighborhoods', 'people', 'safely', 'live', 'near', 'imagine', 'government', 'compensate', 'people', 'kick', 'living', 'near', 'location', 'tool', 'think', 'might', 'find', 'troubling', 'mass', 'murder', 'mission', 'imagine', 'also', 'tool', 'fairly', 'frequently', 'explodes', 'emitting', 'highly', 'toxic', 'chemicals', 'particles', 'fibers', 'unsafe', 'breathe', 'air', 'miles', 'around', 'normally', 'problem', 'tool', 'needed', 'killing', 'lots', 'people', 'work', 'flaws', 'new', 'gadget', 'expected', 'cost', 'least', 'years', 'money', 'taken', 'away', 'numerous', 'expenses', 'beneficial', 'economy', 'world', 'trillion', 'drained', 'economy', 'causing', 'loss', 'jobs', 'radical', 'diminuition', 'resources', 'education', 'healthcare', 'housing', 'environmental', 'protection', 'humanitarian', 'aid', 'worry', 'cases', 'mean', 'cases', 'ability', 'kill', 'tons', 'human', 'beings', 'stake', 'product', 'even', 'working', 'perfectly', 'leading', 'destroyer', 'earth', 'natural', 'environment', 'high', 'tech', 'toy', 'even', 'designed', 'expected', 'even', 'able', 'designed', 'amazingly', 'even', 'shortcomings', 'matter', 'long', 'intention', 'massive', 'murder', 'destruction', 'forgiven', 'tool', 'describing', 'called', 'f', 'rootsaction', 'org', 'find', 'new', 'petition', 'launched', 'locally', 'minded', 'people', 'acting', 'globally', 'places', 'f', 'intended', 'based', 'also', 'link', 'find', 'explanations', 'tool', 'decribing', 'f', 'petition', 'directed', 'united', 'states', 'congress', 'governments', 'australia', 'italy', 'netherlands', 'norway', 'turkey', 'united', 'kingdom', 'israel', 'japan', 'south', 'korea', 'world', 'people', 'burlington', 'vermont', 'fairbanks', 'alaska', 'f', 'based', 'effort', 'initiated', 'vermont', 'stop', 'f', 'coalition', 'save', 'skies', 'vermont', 'western', 'maine', 'matters', 'alaska', 'peace', 'center', 'university', 'alaska', 'fairbanks', 'peace', 'club', 'north', 'star', 'chapter', 'veterans', 'peace', 'world', 'beyond', 'war', 'rootsaction', 'org', 'code', 'pink', 'ben', 'cohen', 'petition', 'reads', 'f', 'weapon', 'offensive', 'war', 'serving', 'defensive', 'purpose', 'planned', 'cost', 'u', 'trillion', 'years', 'starvation', 'earth', 'could', 'ended', 'billion', 'lack', 'clean', 'drinking', 'water', 'billion', 'per', 'year', 'first', 'foremost', 'wasting', 'resources', 'airplane', 'kill', 'military', 'spending', 'contrary', 'popular', 'misconception', 'also', 'hurts', 'u', 'economy', 'see', 'economies', 'f', 'causes', 'negative', 'health', 'impacts', 'cognitive', 'impairment', 'children', 'living', 'near', 'bases', 'renders', 'housing', 'near', 'airports', 'unsuitable', 'residential', 'use', 'high', 'crash', 'rate', 'horrible', 'consequences', 'living', 'area', 'crashes', 'emissions', 'major', 'environmental', 'polluter', 'wars', 'endangering', 'united', 'states', 'participating', 'nations', 'rather', 'protecting', 'nonviolent', 'tools', 'law', 'diplomacy', 'aid', 'crisis', 'prevention', 'verifiable', 'nuclear', 'disarmament', 'substituted', 'continuing', 'counterproductive', 'wars', 'therefore', 'undersigned', 'call', 'immediate', 'cancellation', 'f', 'program', 'whole', 'immediate', 'cancellation', 'plans', 'base', 'dangerous', 'noisy', 'jets', 'near', 'populated', 'areas', 'oppose', 'replacing', 'f', 'weapon', 'basing', 'f', 'locations', 'demand', 'redirection', 'money', 'f', 'back', 'taxpayers', 'pockets', 'environmental', 'human', 'needs', 'u', 'f', 'customer', 'nations', 'around', 'world', 'including', 'fight', 'climate', 'change', 'pay', 'student', 'debt', 'rebuild', 'crumbling', 'infrastructure', 'improve', 'education', 'healthcare', 'housing', 'add', 'name', 'david', 'swanson', 'author', 'activist', 'journalist', 'radio', 'host', 'director', 'worldbeyondwar', 'org', 'campaign', 'coordinator', 'rootsaction', 'org', 'swanson', 'books', 'include', 'war', 'lie', 'blogs', 'davidswanson', 'org', 'warisacrime', 'org', 'hosts', 'talk', 'nation', 'radio', 'nobel', 'peace', 'prize', 'nominee', 'follow', 'twitter', 'davidcnswanson', 'facebook', 'help', 'support', 'davidswanson', 'org', 'warisacrime', 'org', 'talknationradio', 'org', 'clicking', 'http', 'davidswanson', 'org', 'donate'])],\n",
              "      dtype=object)"
            ]
          },
          "metadata": {
            "tags": []
          },
          "execution_count": 29
        }
      ]
    },
    {
      "cell_type": "code",
      "metadata": {
        "id": "QhC2EiUVVYvL",
        "colab_type": "code",
        "colab": {}
      },
      "source": [
        "sequences = tokenizer.texts_to_sequences(X)\n",
        "max_length=200\n",
        "sequences_pad = pad_sequences(sequences,maxlen=max_length,padding='post')"
      ],
      "execution_count": 30,
      "outputs": []
    },
    {
      "cell_type": "code",
      "metadata": {
        "id": "sUhC_IeKLmNl",
        "colab_type": "code",
        "colab": {}
      },
      "source": [
        "### Embedding"
      ],
      "execution_count": null,
      "outputs": []
    },
    {
      "cell_type": "code",
      "metadata": {
        "id": "A19iAxlJM3lR",
        "colab_type": "code",
        "colab": {}
      },
      "source": [
        "# !wget http://nlp.stanford.edu/data/glove.6B.zip\n",
        "# !unzip glove*.zip"
      ],
      "execution_count": null,
      "outputs": []
    },
    {
      "cell_type": "code",
      "metadata": {
        "id": "rDw4TJhgNhXr",
        "colab_type": "code",
        "colab": {
          "base_uri": "https://localhost:8080/",
          "height": 52
        },
        "outputId": "53a0da6d-c3a8-4286-bdf5-839cde5cf1f5"
      },
      "source": [
        "glove_file = 'glove.6B.100d.txt'\n",
        "print('Indexing word vectors.')\n",
        "\n",
        "embeddings_index = {}\n",
        "f = open(glove_file, encoding='utf-8')\n",
        "for line in f:\n",
        "    values = line.split()\n",
        "    word = values[0]\n",
        "    coefs = np.asarray(values[1:], dtype='float32')\n",
        "    embeddings_index[word] = coefs\n",
        "f.close()\n",
        "\n",
        "print('Found %s word vectors.' % len(embeddings_index))"
      ],
      "execution_count": 31,
      "outputs": [
        {
          "output_type": "stream",
          "text": [
            "Indexing word vectors.\n",
            "Found 400000 word vectors.\n"
          ],
          "name": "stdout"
        }
      ]
    },
    {
      "cell_type": "code",
      "metadata": {
        "id": "0hnMHzodQpNX",
        "colab_type": "code",
        "colab": {}
      },
      "source": [
        "from sklearn.model_selection import train_test_split\n",
        "import tensorflow as tf"
      ],
      "execution_count": 32,
      "outputs": []
    },
    {
      "cell_type": "code",
      "metadata": {
        "id": "AQDOP_KPRdbh",
        "colab_type": "code",
        "colab": {}
      },
      "source": [
        "X_train, X_val, y_train, y_val = train_test_split(sequences_pad,y,test_size=.3, random_state=23)"
      ],
      "execution_count": 33,
      "outputs": []
    },
    {
      "cell_type": "code",
      "metadata": {
        "id": "BcNMzkx3TTrN",
        "colab_type": "code",
        "colab": {}
      },
      "source": [
        "EMBED_DIM=100\n",
        "embedding_matrix=np.zeros((len(word_index)+1, EMBED_DIM))\n",
        "for word,idx in word_index.items():\n",
        "  embedding_vector=embeddings_index.get(word)\n",
        "  if embedding_vector is not None:\n",
        "    embedding_matrix[idx]=embedding_vector"
      ],
      "execution_count": 34,
      "outputs": []
    },
    {
      "cell_type": "code",
      "metadata": {
        "id": "7iwldNjwafsU",
        "colab_type": "code",
        "colab": {}
      },
      "source": [
        "embedding_layer = Embedding(len(word_index)+1, EMBED_DIM, input_length=max_length, \n",
        "                            weights=[embedding_matrix],\n",
        "                            trainable=False)"
      ],
      "execution_count": 35,
      "outputs": []
    },
    {
      "cell_type": "code",
      "metadata": {
        "id": "c9w8TD2HcyHU",
        "colab_type": "code",
        "colab": {
          "base_uri": "https://localhost:8080/",
          "height": 89
        },
        "outputId": "f9525260-59c0-421a-dee2-2064b5dacd7f"
      },
      "source": [
        "model = Sequential()\n",
        "model.add(embedding_layer)\n",
        "model.add(Bidirectional(LSTM(units=128, return_sequences=True, dropout=0.2, recurrent_dropout=0.2)))\n",
        "model.add(SeqSelfAttention(attention_activation='sigmoid'))\n",
        "model.add(Dense(1, activation='sigmoid'))"
      ],
      "execution_count": 36,
      "outputs": [
        {
          "output_type": "stream",
          "text": [
            "WARNING:tensorflow:Layer lstm will not use cuDNN kernel since it doesn't meet the cuDNN kernel criteria. It will use generic GPU kernel as fallback when running on GPU\n",
            "WARNING:tensorflow:Layer lstm will not use cuDNN kernel since it doesn't meet the cuDNN kernel criteria. It will use generic GPU kernel as fallback when running on GPU\n",
            "WARNING:tensorflow:Layer lstm will not use cuDNN kernel since it doesn't meet the cuDNN kernel criteria. It will use generic GPU kernel as fallback when running on GPU\n"
          ],
          "name": "stdout"
        }
      ]
    },
    {
      "cell_type": "code",
      "metadata": {
        "id": "UCOZZYRod9p8",
        "colab_type": "code",
        "colab": {
          "base_uri": "https://localhost:8080/",
          "height": 295
        },
        "outputId": "48364a66-dbc6-47db-a250-74cf1fad299e"
      },
      "source": [
        "model.summary()"
      ],
      "execution_count": 37,
      "outputs": [
        {
          "output_type": "stream",
          "text": [
            "Model: \"sequential\"\n",
            "_________________________________________________________________\n",
            "Layer (type)                 Output Shape              Param #   \n",
            "=================================================================\n",
            "embedding (Embedding)        (None, 200, 100)          22163600  \n",
            "_________________________________________________________________\n",
            "bidirectional (Bidirectional (None, 200, 256)          234496    \n",
            "_________________________________________________________________\n",
            "seq_self_attention (SeqSelfA (None, None, 256)         16449     \n",
            "_________________________________________________________________\n",
            "dense (Dense)                (None, None, 1)           257       \n",
            "=================================================================\n",
            "Total params: 22,414,802\n",
            "Trainable params: 251,202\n",
            "Non-trainable params: 22,163,600\n",
            "_________________________________________________________________\n"
          ],
          "name": "stdout"
        }
      ]
    },
    {
      "cell_type": "code",
      "metadata": {
        "id": "J6imk2SGhWzd",
        "colab_type": "code",
        "colab": {}
      },
      "source": [
        "model.compile(optimizer='adam', loss='binary_crossentropy', metrics=['accuracy'])"
      ],
      "execution_count": 38,
      "outputs": []
    },
    {
      "cell_type": "code",
      "metadata": {
        "id": "3ktcNfSJiVEo",
        "colab_type": "code",
        "colab": {
          "base_uri": "https://localhost:8080/",
          "height": 695
        },
        "outputId": "e5137885-e7e4-4524-d3bf-90b90895e7e3"
      },
      "source": [
        "checkpoint = ModelCheckpoint('RNN_selfAttention.h5', verbose=0, monitor='val_loss',save_best_only=True, mode='auto') \n",
        "history=model.fit(X_train,y_train,epochs=20,validation_data=(X_val,y_val),callbacks=[checkpoint])"
      ],
      "execution_count": 42,
      "outputs": [
        {
          "output_type": "stream",
          "text": [
            "Epoch 1/20\n",
            "455/455 [==============================] - 648s 1s/step - loss: 0.3708 - accuracy: 0.8352 - val_loss: 0.2869 - val_accuracy: 0.8810\n",
            "Epoch 2/20\n",
            "455/455 [==============================] - 646s 1s/step - loss: 0.2565 - accuracy: 0.8908 - val_loss: 0.2351 - val_accuracy: 0.9051\n",
            "Epoch 3/20\n",
            "455/455 [==============================] - 648s 1s/step - loss: 0.2141 - accuracy: 0.9112 - val_loss: 0.2359 - val_accuracy: 0.9016\n",
            "Epoch 4/20\n",
            "455/455 [==============================] - 647s 1s/step - loss: 0.2052 - accuracy: 0.9149 - val_loss: 0.2480 - val_accuracy: 0.8963\n",
            "Epoch 5/20\n",
            "455/455 [==============================] - 644s 1s/step - loss: 0.1855 - accuracy: 0.9244 - val_loss: 0.1964 - val_accuracy: 0.9227\n",
            "Epoch 6/20\n",
            "455/455 [==============================] - 645s 1s/step - loss: 0.1589 - accuracy: 0.9371 - val_loss: 0.1880 - val_accuracy: 0.9304\n",
            "Epoch 7/20\n",
            "455/455 [==============================] - 648s 1s/step - loss: 0.1450 - accuracy: 0.9414 - val_loss: 0.1937 - val_accuracy: 0.9220\n",
            "Epoch 8/20\n",
            "455/455 [==============================] - 645s 1s/step - loss: 0.1315 - accuracy: 0.9483 - val_loss: 0.1951 - val_accuracy: 0.9211\n",
            "Epoch 9/20\n",
            "158/455 [=========>....................] - ETA: 6:45 - loss: 0.1240 - accuracy: 0.9547"
          ],
          "name": "stdout"
        },
        {
          "output_type": "error",
          "ename": "KeyboardInterrupt",
          "evalue": "ignored",
          "traceback": [
            "\u001b[0;31m---------------------------------------------------------------------------\u001b[0m",
            "\u001b[0;31mKeyboardInterrupt\u001b[0m                         Traceback (most recent call last)",
            "\u001b[0;32m<ipython-input-42-57cda4b59ced>\u001b[0m in \u001b[0;36m<module>\u001b[0;34m()\u001b[0m\n\u001b[1;32m      1\u001b[0m \u001b[0mcheckpoint\u001b[0m \u001b[0;34m=\u001b[0m \u001b[0mModelCheckpoint\u001b[0m\u001b[0;34m(\u001b[0m\u001b[0;34m'RNN_selfAttention.h5'\u001b[0m\u001b[0;34m,\u001b[0m \u001b[0mverbose\u001b[0m\u001b[0;34m=\u001b[0m\u001b[0;36m0\u001b[0m\u001b[0;34m,\u001b[0m \u001b[0mmonitor\u001b[0m\u001b[0;34m=\u001b[0m\u001b[0;34m'val_loss'\u001b[0m\u001b[0;34m,\u001b[0m\u001b[0msave_best_only\u001b[0m\u001b[0;34m=\u001b[0m\u001b[0;32mTrue\u001b[0m\u001b[0;34m,\u001b[0m \u001b[0mmode\u001b[0m\u001b[0;34m=\u001b[0m\u001b[0;34m'auto'\u001b[0m\u001b[0;34m)\u001b[0m\u001b[0;34m\u001b[0m\u001b[0;34m\u001b[0m\u001b[0m\n\u001b[0;32m----> 2\u001b[0;31m \u001b[0mhistory\u001b[0m\u001b[0;34m=\u001b[0m\u001b[0mmodel\u001b[0m\u001b[0;34m.\u001b[0m\u001b[0mfit\u001b[0m\u001b[0;34m(\u001b[0m\u001b[0mX_train\u001b[0m\u001b[0;34m,\u001b[0m\u001b[0my_train\u001b[0m\u001b[0;34m,\u001b[0m\u001b[0mepochs\u001b[0m\u001b[0;34m=\u001b[0m\u001b[0;36m20\u001b[0m\u001b[0;34m,\u001b[0m\u001b[0mvalidation_data\u001b[0m\u001b[0;34m=\u001b[0m\u001b[0;34m(\u001b[0m\u001b[0mX_val\u001b[0m\u001b[0;34m,\u001b[0m\u001b[0my_val\u001b[0m\u001b[0;34m)\u001b[0m\u001b[0;34m,\u001b[0m\u001b[0mcallbacks\u001b[0m\u001b[0;34m=\u001b[0m\u001b[0;34m[\u001b[0m\u001b[0mcheckpoint\u001b[0m\u001b[0;34m]\u001b[0m\u001b[0;34m)\u001b[0m\u001b[0;34m\u001b[0m\u001b[0;34m\u001b[0m\u001b[0m\n\u001b[0m",
            "\u001b[0;32m/usr/local/lib/python3.6/dist-packages/tensorflow/python/keras/engine/training.py\u001b[0m in \u001b[0;36m_method_wrapper\u001b[0;34m(self, *args, **kwargs)\u001b[0m\n\u001b[1;32m    106\u001b[0m   \u001b[0;32mdef\u001b[0m \u001b[0m_method_wrapper\u001b[0m\u001b[0;34m(\u001b[0m\u001b[0mself\u001b[0m\u001b[0;34m,\u001b[0m \u001b[0;34m*\u001b[0m\u001b[0margs\u001b[0m\u001b[0;34m,\u001b[0m \u001b[0;34m**\u001b[0m\u001b[0mkwargs\u001b[0m\u001b[0;34m)\u001b[0m\u001b[0;34m:\u001b[0m\u001b[0;34m\u001b[0m\u001b[0;34m\u001b[0m\u001b[0m\n\u001b[1;32m    107\u001b[0m     \u001b[0;32mif\u001b[0m \u001b[0;32mnot\u001b[0m \u001b[0mself\u001b[0m\u001b[0;34m.\u001b[0m\u001b[0m_in_multi_worker_mode\u001b[0m\u001b[0;34m(\u001b[0m\u001b[0;34m)\u001b[0m\u001b[0;34m:\u001b[0m  \u001b[0;31m# pylint: disable=protected-access\u001b[0m\u001b[0;34m\u001b[0m\u001b[0;34m\u001b[0m\u001b[0m\n\u001b[0;32m--> 108\u001b[0;31m       \u001b[0;32mreturn\u001b[0m \u001b[0mmethod\u001b[0m\u001b[0;34m(\u001b[0m\u001b[0mself\u001b[0m\u001b[0;34m,\u001b[0m \u001b[0;34m*\u001b[0m\u001b[0margs\u001b[0m\u001b[0;34m,\u001b[0m \u001b[0;34m**\u001b[0m\u001b[0mkwargs\u001b[0m\u001b[0;34m)\u001b[0m\u001b[0;34m\u001b[0m\u001b[0;34m\u001b[0m\u001b[0m\n\u001b[0m\u001b[1;32m    109\u001b[0m \u001b[0;34m\u001b[0m\u001b[0m\n\u001b[1;32m    110\u001b[0m     \u001b[0;31m# Running inside `run_distribute_coordinator` already.\u001b[0m\u001b[0;34m\u001b[0m\u001b[0;34m\u001b[0m\u001b[0;34m\u001b[0m\u001b[0m\n",
            "\u001b[0;32m/usr/local/lib/python3.6/dist-packages/tensorflow/python/keras/engine/training.py\u001b[0m in \u001b[0;36mfit\u001b[0;34m(self, x, y, batch_size, epochs, verbose, callbacks, validation_split, validation_data, shuffle, class_weight, sample_weight, initial_epoch, steps_per_epoch, validation_steps, validation_batch_size, validation_freq, max_queue_size, workers, use_multiprocessing)\u001b[0m\n\u001b[1;32m   1096\u001b[0m                 batch_size=batch_size):\n\u001b[1;32m   1097\u001b[0m               \u001b[0mcallbacks\u001b[0m\u001b[0;34m.\u001b[0m\u001b[0mon_train_batch_begin\u001b[0m\u001b[0;34m(\u001b[0m\u001b[0mstep\u001b[0m\u001b[0;34m)\u001b[0m\u001b[0;34m\u001b[0m\u001b[0;34m\u001b[0m\u001b[0m\n\u001b[0;32m-> 1098\u001b[0;31m               \u001b[0mtmp_logs\u001b[0m \u001b[0;34m=\u001b[0m \u001b[0mtrain_function\u001b[0m\u001b[0;34m(\u001b[0m\u001b[0miterator\u001b[0m\u001b[0;34m)\u001b[0m\u001b[0;34m\u001b[0m\u001b[0;34m\u001b[0m\u001b[0m\n\u001b[0m\u001b[1;32m   1099\u001b[0m               \u001b[0;32mif\u001b[0m \u001b[0mdata_handler\u001b[0m\u001b[0;34m.\u001b[0m\u001b[0mshould_sync\u001b[0m\u001b[0;34m:\u001b[0m\u001b[0;34m\u001b[0m\u001b[0;34m\u001b[0m\u001b[0m\n\u001b[1;32m   1100\u001b[0m                 \u001b[0mcontext\u001b[0m\u001b[0;34m.\u001b[0m\u001b[0masync_wait\u001b[0m\u001b[0;34m(\u001b[0m\u001b[0;34m)\u001b[0m\u001b[0;34m\u001b[0m\u001b[0;34m\u001b[0m\u001b[0m\n",
            "\u001b[0;32m/usr/local/lib/python3.6/dist-packages/tensorflow/python/eager/def_function.py\u001b[0m in \u001b[0;36m__call__\u001b[0;34m(self, *args, **kwds)\u001b[0m\n\u001b[1;32m    778\u001b[0m       \u001b[0;32melse\u001b[0m\u001b[0;34m:\u001b[0m\u001b[0;34m\u001b[0m\u001b[0;34m\u001b[0m\u001b[0m\n\u001b[1;32m    779\u001b[0m         \u001b[0mcompiler\u001b[0m \u001b[0;34m=\u001b[0m \u001b[0;34m\"nonXla\"\u001b[0m\u001b[0;34m\u001b[0m\u001b[0;34m\u001b[0m\u001b[0m\n\u001b[0;32m--> 780\u001b[0;31m         \u001b[0mresult\u001b[0m \u001b[0;34m=\u001b[0m \u001b[0mself\u001b[0m\u001b[0;34m.\u001b[0m\u001b[0m_call\u001b[0m\u001b[0;34m(\u001b[0m\u001b[0;34m*\u001b[0m\u001b[0margs\u001b[0m\u001b[0;34m,\u001b[0m \u001b[0;34m**\u001b[0m\u001b[0mkwds\u001b[0m\u001b[0;34m)\u001b[0m\u001b[0;34m\u001b[0m\u001b[0;34m\u001b[0m\u001b[0m\n\u001b[0m\u001b[1;32m    781\u001b[0m \u001b[0;34m\u001b[0m\u001b[0m\n\u001b[1;32m    782\u001b[0m       \u001b[0mnew_tracing_count\u001b[0m \u001b[0;34m=\u001b[0m \u001b[0mself\u001b[0m\u001b[0;34m.\u001b[0m\u001b[0m_get_tracing_count\u001b[0m\u001b[0;34m(\u001b[0m\u001b[0;34m)\u001b[0m\u001b[0;34m\u001b[0m\u001b[0;34m\u001b[0m\u001b[0m\n",
            "\u001b[0;32m/usr/local/lib/python3.6/dist-packages/tensorflow/python/eager/def_function.py\u001b[0m in \u001b[0;36m_call\u001b[0;34m(self, *args, **kwds)\u001b[0m\n\u001b[1;32m    805\u001b[0m       \u001b[0;31m# In this case we have created variables on the first call, so we run the\u001b[0m\u001b[0;34m\u001b[0m\u001b[0;34m\u001b[0m\u001b[0;34m\u001b[0m\u001b[0m\n\u001b[1;32m    806\u001b[0m       \u001b[0;31m# defunned version which is guaranteed to never create variables.\u001b[0m\u001b[0;34m\u001b[0m\u001b[0;34m\u001b[0m\u001b[0;34m\u001b[0m\u001b[0m\n\u001b[0;32m--> 807\u001b[0;31m       \u001b[0;32mreturn\u001b[0m \u001b[0mself\u001b[0m\u001b[0;34m.\u001b[0m\u001b[0m_stateless_fn\u001b[0m\u001b[0;34m(\u001b[0m\u001b[0;34m*\u001b[0m\u001b[0margs\u001b[0m\u001b[0;34m,\u001b[0m \u001b[0;34m**\u001b[0m\u001b[0mkwds\u001b[0m\u001b[0;34m)\u001b[0m  \u001b[0;31m# pylint: disable=not-callable\u001b[0m\u001b[0;34m\u001b[0m\u001b[0;34m\u001b[0m\u001b[0m\n\u001b[0m\u001b[1;32m    808\u001b[0m     \u001b[0;32melif\u001b[0m \u001b[0mself\u001b[0m\u001b[0;34m.\u001b[0m\u001b[0m_stateful_fn\u001b[0m \u001b[0;32mis\u001b[0m \u001b[0;32mnot\u001b[0m \u001b[0;32mNone\u001b[0m\u001b[0;34m:\u001b[0m\u001b[0;34m\u001b[0m\u001b[0;34m\u001b[0m\u001b[0m\n\u001b[1;32m    809\u001b[0m       \u001b[0;31m# Release the lock early so that multiple threads can perform the call\u001b[0m\u001b[0;34m\u001b[0m\u001b[0;34m\u001b[0m\u001b[0;34m\u001b[0m\u001b[0m\n",
            "\u001b[0;32m/usr/local/lib/python3.6/dist-packages/tensorflow/python/eager/function.py\u001b[0m in \u001b[0;36m__call__\u001b[0;34m(self, *args, **kwargs)\u001b[0m\n\u001b[1;32m   2827\u001b[0m     \u001b[0;32mwith\u001b[0m \u001b[0mself\u001b[0m\u001b[0;34m.\u001b[0m\u001b[0m_lock\u001b[0m\u001b[0;34m:\u001b[0m\u001b[0;34m\u001b[0m\u001b[0;34m\u001b[0m\u001b[0m\n\u001b[1;32m   2828\u001b[0m       \u001b[0mgraph_function\u001b[0m\u001b[0;34m,\u001b[0m \u001b[0margs\u001b[0m\u001b[0;34m,\u001b[0m \u001b[0mkwargs\u001b[0m \u001b[0;34m=\u001b[0m \u001b[0mself\u001b[0m\u001b[0;34m.\u001b[0m\u001b[0m_maybe_define_function\u001b[0m\u001b[0;34m(\u001b[0m\u001b[0margs\u001b[0m\u001b[0;34m,\u001b[0m \u001b[0mkwargs\u001b[0m\u001b[0;34m)\u001b[0m\u001b[0;34m\u001b[0m\u001b[0;34m\u001b[0m\u001b[0m\n\u001b[0;32m-> 2829\u001b[0;31m     \u001b[0;32mreturn\u001b[0m \u001b[0mgraph_function\u001b[0m\u001b[0;34m.\u001b[0m\u001b[0m_filtered_call\u001b[0m\u001b[0;34m(\u001b[0m\u001b[0margs\u001b[0m\u001b[0;34m,\u001b[0m \u001b[0mkwargs\u001b[0m\u001b[0;34m)\u001b[0m  \u001b[0;31m# pylint: disable=protected-access\u001b[0m\u001b[0;34m\u001b[0m\u001b[0;34m\u001b[0m\u001b[0m\n\u001b[0m\u001b[1;32m   2830\u001b[0m \u001b[0;34m\u001b[0m\u001b[0m\n\u001b[1;32m   2831\u001b[0m   \u001b[0;34m@\u001b[0m\u001b[0mproperty\u001b[0m\u001b[0;34m\u001b[0m\u001b[0;34m\u001b[0m\u001b[0m\n",
            "\u001b[0;32m/usr/local/lib/python3.6/dist-packages/tensorflow/python/eager/function.py\u001b[0m in \u001b[0;36m_filtered_call\u001b[0;34m(self, args, kwargs, cancellation_manager)\u001b[0m\n\u001b[1;32m   1846\u001b[0m                            resource_variable_ops.BaseResourceVariable))],\n\u001b[1;32m   1847\u001b[0m         \u001b[0mcaptured_inputs\u001b[0m\u001b[0;34m=\u001b[0m\u001b[0mself\u001b[0m\u001b[0;34m.\u001b[0m\u001b[0mcaptured_inputs\u001b[0m\u001b[0;34m,\u001b[0m\u001b[0;34m\u001b[0m\u001b[0;34m\u001b[0m\u001b[0m\n\u001b[0;32m-> 1848\u001b[0;31m         cancellation_manager=cancellation_manager)\n\u001b[0m\u001b[1;32m   1849\u001b[0m \u001b[0;34m\u001b[0m\u001b[0m\n\u001b[1;32m   1850\u001b[0m   \u001b[0;32mdef\u001b[0m \u001b[0m_call_flat\u001b[0m\u001b[0;34m(\u001b[0m\u001b[0mself\u001b[0m\u001b[0;34m,\u001b[0m \u001b[0margs\u001b[0m\u001b[0;34m,\u001b[0m \u001b[0mcaptured_inputs\u001b[0m\u001b[0;34m,\u001b[0m \u001b[0mcancellation_manager\u001b[0m\u001b[0;34m=\u001b[0m\u001b[0;32mNone\u001b[0m\u001b[0;34m)\u001b[0m\u001b[0;34m:\u001b[0m\u001b[0;34m\u001b[0m\u001b[0;34m\u001b[0m\u001b[0m\n",
            "\u001b[0;32m/usr/local/lib/python3.6/dist-packages/tensorflow/python/eager/function.py\u001b[0m in \u001b[0;36m_call_flat\u001b[0;34m(self, args, captured_inputs, cancellation_manager)\u001b[0m\n\u001b[1;32m   1922\u001b[0m       \u001b[0;31m# No tape is watching; skip to running the function.\u001b[0m\u001b[0;34m\u001b[0m\u001b[0;34m\u001b[0m\u001b[0;34m\u001b[0m\u001b[0m\n\u001b[1;32m   1923\u001b[0m       return self._build_call_outputs(self._inference_function.call(\n\u001b[0;32m-> 1924\u001b[0;31m           ctx, args, cancellation_manager=cancellation_manager))\n\u001b[0m\u001b[1;32m   1925\u001b[0m     forward_backward = self._select_forward_and_backward_functions(\n\u001b[1;32m   1926\u001b[0m         \u001b[0margs\u001b[0m\u001b[0;34m,\u001b[0m\u001b[0;34m\u001b[0m\u001b[0;34m\u001b[0m\u001b[0m\n",
            "\u001b[0;32m/usr/local/lib/python3.6/dist-packages/tensorflow/python/eager/function.py\u001b[0m in \u001b[0;36mcall\u001b[0;34m(self, ctx, args, cancellation_manager)\u001b[0m\n\u001b[1;32m    548\u001b[0m               \u001b[0minputs\u001b[0m\u001b[0;34m=\u001b[0m\u001b[0margs\u001b[0m\u001b[0;34m,\u001b[0m\u001b[0;34m\u001b[0m\u001b[0;34m\u001b[0m\u001b[0m\n\u001b[1;32m    549\u001b[0m               \u001b[0mattrs\u001b[0m\u001b[0;34m=\u001b[0m\u001b[0mattrs\u001b[0m\u001b[0;34m,\u001b[0m\u001b[0;34m\u001b[0m\u001b[0;34m\u001b[0m\u001b[0m\n\u001b[0;32m--> 550\u001b[0;31m               ctx=ctx)\n\u001b[0m\u001b[1;32m    551\u001b[0m         \u001b[0;32melse\u001b[0m\u001b[0;34m:\u001b[0m\u001b[0;34m\u001b[0m\u001b[0;34m\u001b[0m\u001b[0m\n\u001b[1;32m    552\u001b[0m           outputs = execute.execute_with_cancellation(\n",
            "\u001b[0;32m/usr/local/lib/python3.6/dist-packages/tensorflow/python/eager/execute.py\u001b[0m in \u001b[0;36mquick_execute\u001b[0;34m(op_name, num_outputs, inputs, attrs, ctx, name)\u001b[0m\n\u001b[1;32m     58\u001b[0m     \u001b[0mctx\u001b[0m\u001b[0;34m.\u001b[0m\u001b[0mensure_initialized\u001b[0m\u001b[0;34m(\u001b[0m\u001b[0;34m)\u001b[0m\u001b[0;34m\u001b[0m\u001b[0;34m\u001b[0m\u001b[0m\n\u001b[1;32m     59\u001b[0m     tensors = pywrap_tfe.TFE_Py_Execute(ctx._handle, device_name, op_name,\n\u001b[0;32m---> 60\u001b[0;31m                                         inputs, attrs, num_outputs)\n\u001b[0m\u001b[1;32m     61\u001b[0m   \u001b[0;32mexcept\u001b[0m \u001b[0mcore\u001b[0m\u001b[0;34m.\u001b[0m\u001b[0m_NotOkStatusException\u001b[0m \u001b[0;32mas\u001b[0m \u001b[0me\u001b[0m\u001b[0;34m:\u001b[0m\u001b[0;34m\u001b[0m\u001b[0;34m\u001b[0m\u001b[0m\n\u001b[1;32m     62\u001b[0m     \u001b[0;32mif\u001b[0m \u001b[0mname\u001b[0m \u001b[0;32mis\u001b[0m \u001b[0;32mnot\u001b[0m \u001b[0;32mNone\u001b[0m\u001b[0;34m:\u001b[0m\u001b[0;34m\u001b[0m\u001b[0;34m\u001b[0m\u001b[0m\n",
            "\u001b[0;31mKeyboardInterrupt\u001b[0m: "
          ]
        }
      ]
    },
    {
      "cell_type": "code",
      "metadata": {
        "id": "fcShdlCn8hlX",
        "colab_type": "code",
        "colab": {}
      },
      "source": [
        ""
      ],
      "execution_count": null,
      "outputs": []
    }
  ]
}